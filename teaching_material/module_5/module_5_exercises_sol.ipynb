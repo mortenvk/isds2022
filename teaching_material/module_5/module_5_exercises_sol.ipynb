{
 "cells": [
  {
   "cell_type": "markdown",
   "metadata": {},
   "source": [
    "# Videos and Exercises for Session 5: Strings, Requests and APIs"
   ]
  },
  {
   "cell_type": "markdown",
   "metadata": {},
   "source": [
    "In Assignment 0 we covered a lot about basic Python, and in the first sessions, we talked a bit about how to deal with different data types in pandas - strings among other. However, we only scratched the surface on string-related topics and in this session, we will be taking a deeper looking at. \n",
    "\n",
    "We will start out with a recap of some basic string operations and build on that to make a query for fetching data. After having finished this combined teaching module and exercise set, you will know the basics of collecting from the web. This notebook is structured as follows:\n",
    "1. String Operations (recap and warm-up):\n",
    "    - Common string operations\n",
    "    - More string operations\n",
    "    - Warm-up exercises\n",
    "2. Saving as Text File\n",
    "3. Python Containers and Dictionaries\n",
    "4. Python and the Web\n",
    "    - Application Programming Interface (API)\n",
    "    - The Punk API\n",
    "    - The API for Statistics Denmark\n",
    "5. Bonus Exercises $-$ Traffic Data in Copenhagen\n",
    "\n",
    "*Alternative sources*: If you get lost, you might find [this page](https://pythonprogramming.net/string-concatenation-formatting-intermediate-python-tutorial/) on pythonprogramming.net useful. [This page](https://www.python-course.eu/python3_sequential_data_types.php) also gives an introduction to the basics of strings and their related data types. "
   ]
  },
  {
   "cell_type": "markdown",
   "metadata": {},
   "source": [
    "# Part 1: String Operations\n",
    "\n",
    "As we have already learned, strings are sequential containers of characters. In Python we use two kinds of characters:\n",
    "-  American Standard Code (`ascii`)\n",
    "    - Characters from English alphabet, numbers, symbols for writing \n",
    "    - 8 bit information\n",
    "\n",
    "- Unicode (`UTF`)  \n",
    "    - Characters from European and Asian language and much more\n",
    "    - 16 bit information\n",
    "    - Available in URLs recently, e.g. [møn.dk](https://møn.dk)        \n",
    "    \n",
    "    \n",
    "Note that while unicode is a little more heavy and costs more space, it is way more flexible and we get less errors when importing data from non-ascii languages. This reason is also why Python adopted unicode as standard since the release of Python 3.\n",
    "\n",
    "To see that strings are sequential containers, see the example below where we slice them like a list or dataframe/array:"
   ]
  },
  {
   "cell_type": "code",
   "execution_count": 26,
   "metadata": {},
   "outputs": [
    {
     "data": {
      "text/plain": [
       "'lice'"
      ]
     },
     "execution_count": 26,
     "metadata": {},
     "output_type": "execute_result"
    }
   ],
   "source": [
    "str1 = 'police'\n",
    "str1[2:]"
   ]
  },
  {
   "cell_type": "markdown",
   "metadata": {},
   "source": [
    "## Common string operations \n",
    "\n",
    "Strings have multiple operations and functions associated. In this exercise, we investigate a few of these. We also explore the sequence form of a string and how it can be sliced and accessed via indices. In the following, we provide a small tour of some of the most important technical features of strings."
   ]
  },
  {
   "cell_type": "markdown",
   "metadata": {},
   "source": [
    "One thing that can be helpful when working with strings is that you can alter the sentence-case of strings by using the string methods `upper`, `lower`, `capitalize`. Consider the example below and try switching `upper()` with one of the other operations:"
   ]
  },
  {
   "cell_type": "code",
   "execution_count": 27,
   "metadata": {},
   "outputs": [
    {
     "data": {
      "text/plain": [
       "'POLICE'"
      ]
     },
     "execution_count": 27,
     "metadata": {},
     "output_type": "execute_result"
    }
   ],
   "source": [
    "str1.upper()"
   ]
  },
  {
   "cell_type": "markdown",
   "metadata": {},
   "source": [
    "We can also use the `replace` method to substitute parts of the strings:"
   ]
  },
  {
   "cell_type": "code",
   "execution_count": 28,
   "metadata": {},
   "outputs": [
    {
     "data": {
      "text/plain": [
       "'malice'"
      ]
     },
     "execution_count": 28,
     "metadata": {},
     "output_type": "execute_result"
    }
   ],
   "source": [
    "str1.replace('po', 'ma')"
   ]
  },
  {
   "cell_type": "markdown",
   "metadata": {},
   "source": [
    "We can also check whether a substring is within a given string and much more. The general syntax is \n",
    "```python \n",
    "T in S\n",
    "``` \n",
    "which checks whether a string `S` contains the substring `T`. We should always get a boolean True/False outcome in return. See two applications below: "
   ]
  },
  {
   "cell_type": "code",
   "execution_count": 29,
   "metadata": {},
   "outputs": [
    {
     "name": "stdout",
     "output_type": "stream",
     "text": [
      "True False\n"
     ]
    }
   ],
   "source": [
    "print('ice' in str1, 'mice' in str1)"
   ]
  },
  {
   "cell_type": "markdown",
   "metadata": {},
   "source": [
    "Another procedure is to add strings together like below:"
   ]
  },
  {
   "cell_type": "code",
   "execution_count": 30,
   "metadata": {},
   "outputs": [
    {
     "data": {
      "text/plain": [
       "'police officer'"
      ]
     },
     "execution_count": 30,
     "metadata": {},
     "output_type": "execute_result"
    }
   ],
   "source": [
    "str2 = 'officer'\n",
    "str1 + ' ' + str2"
   ]
  },
  {
   "cell_type": "markdown",
   "metadata": {},
   "source": [
    "This can be helpful when we want to combine strings of words into sentences or long text files."
   ]
  },
  {
   "cell_type": "markdown",
   "metadata": {},
   "source": [
    "## More string operations \n",
    "In addition to the techniques above, strings are equipped with an array of _methods_, for solving more complex tasks. For example:\n",
    "- `str.join(list)` will insert a string in between each element of a list\n",
    "- `str.strip()` removes spaces in the beginning and end of a word \n",
    "- the f-string fills in specified blanks in a string\n",
    "- `str1.split(str2)` splits `str1` into a list through all places where `str2` shows up\n",
    "\n",
    "Below we illustrate the use of each function:\n",
    "\n",
    "```python\n",
    ">>> \" \".join(['Hello', 'World!']) \n",
    "'Hello World!'\n",
    "\n",
    ">>> ' Hello World!   '.strip() \n",
    "'Hello World!'\n",
    "\n",
    ">>> w = 'World'\n",
    ">>> f'Hello {w}' \n",
    "'Hello World!'\n",
    "\n",
    ">>> 'a,b,c'.split(',') \n",
    "['a','b','c']\n",
    "```"
   ]
  },
  {
   "cell_type": "markdown",
   "metadata": {},
   "source": [
    "## Warm-up String Exercises\n",
    "\n",
    "In the first couple of exercises, you should use the examples above to solve a set of tasks.\n",
    "\n",
    "> **Ex. 5.1.1**: Let `s1='Chameleon'` and `s2='ham'`. Check whether the string `s2` is a substring of `s1`. Is `'hello'` a substring `'goodbye'`?\n",
    "\n"
   ]
  },
  {
   "cell_type": "code",
   "execution_count": 31,
   "metadata": {
    "nbgrader": {
     "grade": false,
     "grade_id": "cell-993caea0991d84c4",
     "locked": false,
     "schema_version": 3,
     "solution": true,
     "task": false
    }
   },
   "outputs": [
    {
     "name": "stdout",
     "output_type": "stream",
     "text": [
      "Chameleon is not part of ham\n"
     ]
    }
   ],
   "source": [
    "### BEGIN SOLUTION\n",
    "\n",
    "s1, s2 = 'chameleon', 'ham'\n",
    "#s1, s2 = 'hello', 'goodbye'\n",
    "\n",
    "if s1 in s2:\n",
    "    print(s1.capitalize() + ' is indeed part of ' + s2)\n",
    "else:\n",
    "    print(s1.capitalize() + ' is not part of ' + s2)\n",
    "    \n",
    "### END SOLUTION"
   ]
  },
  {
   "cell_type": "markdown",
   "metadata": {},
   "source": [
    "> **Ex. 5.1.2**: From the string `s1` select the last four characters. What is the index of the character `a` in `s1`?\n",
    "\n",
    "> *Hint*: We can selecti a substring by slicing it with the `[]` notation, from the start to end where start is included and end is excluded. Recall that Python has zero-based indexing, see explanation [here](https://softwareengineering.stackexchange.com/questions/110804/why-are-zero-based-arrays-the-norm).\n"
   ]
  },
  {
   "cell_type": "code",
   "execution_count": 32,
   "metadata": {
    "nbgrader": {
     "grade": false,
     "grade_id": "cell-ace323777447ea4a",
     "locked": false,
     "schema_version": 3,
     "solution": true,
     "task": false
    }
   },
   "outputs": [
    {
     "name": "stdout",
     "output_type": "stream",
     "text": [
      "leon\n",
      "2\n"
     ]
    }
   ],
   "source": [
    "### BEGIN SOLUTION\n",
    "\n",
    "s1, s2 = 'chameleon', 'ham'\n",
    "\n",
    "print(s1[-4:])\n",
    "print(s1.index('a'))\n",
    "    \n",
    "### END SOLUTION"
   ]
  },
  {
   "cell_type": "markdown",
   "metadata": {},
   "source": [
    "> **Ex. 5.1.3:** Use the `join()` and `strip()` functions to retrieve the sentence `The quick brown fox jumps over the lazy dog` from the list  `list_of_words` in the code cell below. \n",
    "\n",
    "> *Hint:* If you want to challenge yourself, see if you can do this in one line with a list comprehension!"
   ]
  },
  {
   "cell_type": "code",
   "execution_count": 33,
   "metadata": {},
   "outputs": [],
   "source": [
    "list_of_words = ['       The        ', '   quick   ', '     brown      ',\n",
    "                 ' fox          ', '          jumps     ', '   over ',\n",
    "                 '          the   ', '  lazy     ', '          dog     ']"
   ]
  },
  {
   "cell_type": "code",
   "execution_count": 34,
   "metadata": {
    "nbgrader": {
     "grade": false,
     "grade_id": "cell-c07cac510187b734",
     "locked": false,
     "schema_version": 3,
     "solution": true,
     "task": false
    }
   },
   "outputs": [
    {
     "name": "stdout",
     "output_type": "stream",
     "text": [
      "The quick brown fox jumps over the lazy dog\n"
     ]
    }
   ],
   "source": [
    "### BEGIN SOLUTION\n",
    "print(' '.join([list_of_words[i].strip() for i in range(len(list_of_words))]))\n",
    "### END SOLUTION"
   ]
  },
  {
   "cell_type": "markdown",
   "metadata": {},
   "source": [
    "> **Ex. 5.1.4:** Let `l1 = ['r ', 'Is', '>', ' < ', 'g ', '?']`. Create from `l1` the sentence \"Is r > g?\" using your knowledge about string formatting. Make sure there is only one space in between worlds.\n",
    ">\n",
    "> _Hint:_ You should be able to combine the above information to solve this exercise."
   ]
  },
  {
   "cell_type": "code",
   "execution_count": 35,
   "metadata": {
    "nbgrader": {
     "grade": false,
     "grade_id": "cell-9dafd1e8c334c195",
     "locked": false,
     "schema_version": 3,
     "solution": true,
     "task": false
    }
   },
   "outputs": [
    {
     "name": "stdout",
     "output_type": "stream",
     "text": [
      "Is r > g?\n"
     ]
    }
   ],
   "source": [
    "### BEGIN SOLUTION\n",
    "l1 = ['r ', 'Is', '>', ' < ', 'g ', '?']\n",
    "print(l1[1]+' '+l1[0]+l1[2]+' '+l1[4][0]+l1[5])\n",
    "### END SOLUTION"
   ]
  },
  {
   "cell_type": "markdown",
   "metadata": {
    "slideshow": {
     "slide_type": "slide"
    }
   },
   "source": [
    "# Part 2: Saving as Text File\n",
    "In this course, we have already seen that we can output tabular data as CSV files. These files are essentially text files with specific structure that allows a computer to identify rows and columns. \n",
    "\n",
    "In the example below, we will learn how to actually save a string directly as a text file. Note how we make a line break using `\\n` - this is a string escape sequence, read more [here](https://docs.python.org/3/reference/lexical_analysis.html#literals)."
   ]
  },
  {
   "cell_type": "code",
   "execution_count": 36,
   "metadata": {
    "slideshow": {
     "slide_type": "fragment"
    }
   },
   "outputs": [],
   "source": [
    "my_str = 'This is important...'\n",
    "my_str2 = 'Written in Python!'\n",
    "escape_seq = '\\n'\n",
    "\n",
    "with open('my_file.txt', 'w') as f:\n",
    "    f.write(my_str+escape_seq+my_str2)"
   ]
  },
  {
   "cell_type": "markdown",
   "metadata": {
    "slideshow": {
     "slide_type": "fragment"
    }
   },
   "source": [
    "The code below opens the text file and prints the string."
   ]
  },
  {
   "cell_type": "code",
   "execution_count": 37,
   "metadata": {
    "slideshow": {
     "slide_type": "fragment"
    }
   },
   "outputs": [
    {
     "name": "stdout",
     "output_type": "stream",
     "text": [
      "This is important...\n",
      "Written in Python!\n"
     ]
    }
   ],
   "source": [
    "with open('my_file.txt', 'r') as f:    \n",
    "    print(f.read())"
   ]
  },
  {
   "cell_type": "markdown",
   "metadata": {},
   "source": [
    "> **Ex. 5.2.1:** Create a .txt file called `to_do_list.txt` with a to-do list by looping over the list `to_do = ['1. Hit the gym', '2. Pay bills', '3. Meet George', '4. Buy eggs', '5. Read a book']` and writing each element on a seperate line."
   ]
  },
  {
   "cell_type": "code",
   "execution_count": 38,
   "metadata": {},
   "outputs": [],
   "source": [
    "to_do = ['1. Hit the gym', '2. Pay bills', '3. Meet George', '4. Buy eggs', '5. Read a book']"
   ]
  },
  {
   "cell_type": "code",
   "execution_count": 39,
   "metadata": {
    "nbgrader": {
     "grade": false,
     "grade_id": "cell-e5321552aeca36ad",
     "locked": false,
     "schema_version": 3,
     "solution": true,
     "task": false
    }
   },
   "outputs": [],
   "source": [
    "### BEGIN SOLUTION\n",
    "with open('to_do_list.txt', 'w') as f:\n",
    "    for i in range(len(to_do)):\n",
    "        f.write(to_do[i]+'\\n')\n",
    "### END SOLUTION"
   ]
  },
  {
   "cell_type": "markdown",
   "metadata": {
    "slideshow": {
     "slide_type": "slide"
    }
   },
   "source": [
    "Does the file look like you expected?"
   ]
  },
  {
   "cell_type": "code",
   "execution_count": 40,
   "metadata": {
    "slideshow": {
     "slide_type": "fragment"
    }
   },
   "outputs": [
    {
     "name": "stdout",
     "output_type": "stream",
     "text": [
      "1. Hit the gym\n",
      "2. Pay bills\n",
      "3. Meet George\n",
      "4. Buy eggs\n",
      "5. Read a book\n",
      "\n"
     ]
    }
   ],
   "source": [
    "with open('to_do_list.txt', 'r') as f:    \n",
    "    print(f.read())"
   ]
  },
  {
   "cell_type": "markdown",
   "metadata": {},
   "source": [
    "# Part 3: Python Containers and Dictionaries\n",
    "\n",
    "Dictionaries (or simply `dict`) are a central building block of python. Python dicts are constructed from pairs of keys and values, making them extremely versatile for data storage. Like list, they can contain deep nested structures, e.g. a dict of dicts of lists. You can learn more about this in the following video:"
   ]
  },
  {
   "cell_type": "code",
   "execution_count": 41,
   "metadata": {
    "scrolled": true
   },
   "outputs": [
    {
     "data": {
      "image/jpeg": "[encoded data removed]",
      "text/html": [
       "\n",
       "        <iframe\n",
       "            width=\"640\"\n",
       "            height=\"360\"\n",
       "            src=\"https://www.youtube.com/embed/XeN7RY1MwFM\"\n",
       "            frameborder=\"0\"\n",
       "            allowfullscreen\n",
       "        ></iframe>\n",
       "        "
      ],
      "text/plain": [
       "<IPython.lib.display.YouTubeVideo at 0x1042bce50>"
      ]
     },
     "execution_count": 41,
     "metadata": {},
     "output_type": "execute_result"
    }
   ],
   "source": [
    "from IPython.display import YouTubeVideo\n",
    "YouTubeVideo('XeN7RY1MwFM', width=640, height=360)"
   ]
  },
  {
   "cell_type": "markdown",
   "metadata": {},
   "source": [
    "Try running the code below, where the keys are strings (names from recent Danish prime ministers) and values are also strings (e.g. political affiliation):"
   ]
  },
  {
   "cell_type": "code",
   "execution_count": 42,
   "metadata": {
    "slideshow": {
     "slide_type": "-"
    }
   },
   "outputs": [],
   "source": [
    "my_dict1 = {'Anders': \"Venstre\",\n",
    "            'Helle': \"Socialdemokratiet\",\n",
    "            'Lars': \"Venstre\",\n",
    "            'Mette': \"Socialdemokratiet\"}"
   ]
  },
  {
   "cell_type": "markdown",
   "metadata": {
    "slideshow": {
     "slide_type": "slide"
    }
   },
   "source": [
    "Now,  print the party of some (former) Danish prime minister by replacing `'Name'` below."
   ]
  },
  {
   "cell_type": "code",
   "execution_count": 43,
   "metadata": {},
   "outputs": [
    {
     "ename": "KeyError",
     "evalue": "'NAME'",
     "output_type": "error",
     "traceback": [
      "\u001b[0;31m---------------------------------------------------------------------------\u001b[0m",
      "\u001b[0;31mKeyError\u001b[0m                                  Traceback (most recent call last)",
      "\u001b[0;32m<ipython-input-43-853ed955ff64>\u001b[0m in \u001b[0;36m<module>\u001b[0;34m\u001b[0m\n\u001b[0;32m----> 1\u001b[0;31m \u001b[0mprint\u001b[0m\u001b[0;34m(\u001b[0m\u001b[0mmy_dict1\u001b[0m\u001b[0;34m[\u001b[0m\u001b[0;34m'NAME'\u001b[0m\u001b[0;34m]\u001b[0m\u001b[0;34m)\u001b[0m\u001b[0;34m\u001b[0m\u001b[0;34m\u001b[0m\u001b[0m\n\u001b[0m",
      "\u001b[0;31mKeyError\u001b[0m: 'NAME'"
     ]
    }
   ],
   "source": [
    "print(my_dict1['NAME'])"
   ]
  },
  {
   "cell_type": "markdown",
   "metadata": {},
   "source": [
    "> **Ex. 5.3.1**: Create an empty dictionary `words` using the `dict()`function. Then add each of the words in `['animal', 'coffee', 'python', 'unit', 'knowledge', 'tread', 'arise']` as a key, with the value being a boolean indicator for whether the word begins with a vowel. The results should look like `{'bacon': False, 'asynchronous': True ...}`.\n",
    "\n",
    "> _Hint:_ One approach is to first construct a function that asseses whether a given word begins with a vowel or not."
   ]
  },
  {
   "cell_type": "code",
   "execution_count": 44,
   "metadata": {
    "nbgrader": {
     "grade": false,
     "grade_id": "cell-81e592c15ce8ee6d",
     "locked": false,
     "schema_version": 3,
     "solution": true,
     "task": false
    }
   },
   "outputs": [],
   "source": [
    "### BEGIN SOLUTION\n",
    "W =  ['animal', 'coffee', 'python', 'unit', 'knowledge', 'tread', 'arise']\n",
    "vowels = ['a', 'e', 'i', 'o', 'u', 'y']\n",
    "words = {}\n",
    "\n",
    "for i in range(len(W)):\n",
    "    words[W[i]] = W[i][0] in vowels\n",
    "### END SOLUTION"
   ]
  },
  {
   "cell_type": "markdown",
   "metadata": {},
   "source": [
    "> **Ex. 5.3.2:** Loop through the dictionary `words`. In each iteration, you should print a proper sentence stating if the current word begins with a vowel or not. \n",
    "\n",
    "> _Hint:_ You can loop through both keys and values simultaneously with the `.items()` method. [This](https://www.tutorialspoint.com/python/python_dictionary.htm) and [this](https://stackoverflow.com/questions/3294889/iterating-over-dictionaries-using-for-loops) might help you."
   ]
  },
  {
   "cell_type": "code",
   "execution_count": 45,
   "metadata": {
    "nbgrader": {
     "grade": false,
     "grade_id": "cell-333a6d7713f78839",
     "locked": false,
     "schema_version": 3,
     "solution": true,
     "task": false
    }
   },
   "outputs": [
    {
     "name": "stdout",
     "output_type": "stream",
     "text": [
      "Animal begins with a vowel!\n",
      "Coffee does not begin with a vowel...\n",
      "Python does not begin with a vowel...\n",
      "Unit begins with a vowel!\n",
      "Knowledge does not begin with a vowel...\n",
      "Tread does not begin with a vowel...\n",
      "Arise begins with a vowel!\n"
     ]
    }
   ],
   "source": [
    "### BEGIN SOLUTION\n",
    "for key, value in words.items():\n",
    "    if value == True:\n",
    "        print(key.capitalize() + ' begins with a vowel!')\n",
    "    else:\n",
    "        print(key.capitalize() + ' does not begin with a vowel...')\n",
    "### END SOLUTION"
   ]
  },
  {
   "cell_type": "markdown",
   "metadata": {
    "slideshow": {
     "slide_type": "slide"
    }
   },
   "source": [
    "In the video, we also introduced the popular JSON file format which can store lists and dictionaries and hold the three fundamental data types `float`, `int` and `str`. The code example below uses the JSON module to save our dictionary. We use a trick by first converting the JSON file to a string. This can be done with the function `dumps` in the module `json`:"
   ]
  },
  {
   "cell_type": "code",
   "execution_count": 46,
   "metadata": {},
   "outputs": [
    {
     "name": "stdout",
     "output_type": "stream",
     "text": [
      "{\"animal\": true, \"coffee\": false, \"python\": false, \"unit\": true, \"knowledge\": false, \"tread\": false, \"arise\": true}\n"
     ]
    }
   ],
   "source": [
    "import json\n",
    "\n",
    "with open('my_file.JSON', 'w') as f:\n",
    "    my_json_str = json.dumps(words) # convert dictonary to string with JSON formatting\n",
    "    f.write(my_json_str) # write the string to file\n",
    "\n",
    "with open('my_file.JSON', 'r') as f:\n",
    "    print(f.read()) # read the string from file"
   ]
  },
  {
   "cell_type": "markdown",
   "metadata": {},
   "source": [
    "> **Ex. 5.3.3:** Install `https://pypi.org/project/Random-Word/` (documentation [here](https://pypi.org/project/Random-Word/)) by typing `pip install random-word` in your *Anaconda prompt*, and then run the line below. Doing so, you should get a list of 500 randomly drawn words. Now, create a dictionary that contains the length of each of these words (i.e. like `{'livering': 8, 'reiterate': 9,...}`) and save it as a json-file called `r_words.JSON`. Then read it and make sure that you got everything right."
   ]
  },
  {
   "cell_type": "code",
   "execution_count": 47,
   "metadata": {},
   "outputs": [],
   "source": [
    "from random_word import RandomWords\n",
    "r = RandomWords()\n",
    "r_words = r.get_random_words(limit=500)"
   ]
  },
  {
   "cell_type": "code",
   "execution_count": 48,
   "metadata": {
    "nbgrader": {
     "grade": false,
     "grade_id": "cell-c4a946f4ae699bfc",
     "locked": false,
     "schema_version": 3,
     "solution": true,
     "task": false
    }
   },
   "outputs": [
    {
     "name": "stdout",
     "output_type": "stream",
     "text": [
      "{\"ebooks\": 6, \"laster\": 6, \"accelerant\": 10, \"nonsanctioned\": 13, \"relaxable\": 9, \"palsied\": 7, \"curat\": 5, \"dequeues\": 8, \"nonsignatories\": 14, \"cut-and-fill\": 12, \"transduction\": 12, \"hyperbolic\": 10, \"torcel\": 6, \"gladsomeness\": 12, \"fair-faced\": 10, \"urals\": 5, \"scurrying\": 9, \"interschool\": 11, \"infortuned\": 10, \"drummerless\": 11, \"provisions\": 10, \"urman\": 5, \"fledging\": 8, \"sarcoptes\": 9, \"outed\": 5, \"skreak\": 6, \"beacon-mark\": 11, \"impendence\": 10, \"epigrammatism\": 13, \"mancando\": 8, \"lemnaceae\": 9, \"verticalness\": 12, \"midlines\": 8, \"demobilising\": 12, \"Shakespeare\": 11, \"leucous\": 7, \"textury\": 7, \"walletless\": 10, \"hollowly\": 8, \"metaleptical\": 12, \"retarded\": 8, \"goatherd\": 8, \"pistol-shaped\": 13, \"arietate\": 8, \"communing\": 9, \"fourteens\": 9, \"fellwalker\": 10, \"snugness\": 8, \"odd-come-short\": 14, \"underthrow\": 10, \"trillions\": 9, \"bedclothes\": 10, \"regretting\": 10, \"medicks\": 7, \"harkening\": 9, \"stethoscope\": 11, \"settler\": 7, \"gold-beaten\": 11, \"improvisations\": 14, \"spindrift\": 9, \"neuroendocrine\": 14, \"chrotta\": 7, \"momentousness\": 13, \"atious\": 6, \"unhandsomely\": 12, \"cavilers\": 8, \"spinosad\": 8, \"prononc\\u00e9\": 8, \"arrondissements\": 15, \"troubledly\": 10, \"ultralight\": 10, \"scruffily\": 9, \"arrach\": 6, \"favela\": 6, \"Lambruscos\": 10, \"metaxylene\": 10, \"demimondaine\": 12, \"cathedral\": 9, \"widdershins\": 11, \"avocado tree\": 12, \"dismisses\": 9, \"caurale\": 7, \"pawkily\": 7, \"arcsinh\": 7, \"denormalises\": 12, \"aplome\": 6, \"pollen-plate\": 12, \"advocations\": 11, \"tonsillar\": 9, \"toolmaker\": 9, \"oom-pah\": 7, \"angle-joint\": 11, \"fashionly\": 9, \"loxodonta\": 9, \"ivory-yellow\": 12, \"maner\": 5, \"microphotograph\": 15, \"infamonize\": 10, \"smearing\": 8, \"shatter\": 7, \"decline\": 7, \"kogals\": 6, \"arrowlike\": 9, \"thanku\": 6, \"icosahedral\": 11, \"universalizing\": 14, \"prolatum\": 8, \"cyclically\": 10, \"usnic\": 5, \"journal-bearing\": 15, \"sawser\": 6, \"upstaging\": 9, \"galaxies\": 8, \"antheridium\": 11, \"glow-worms\": 10, \"co-sign\": 7, \"averter\": 7, \"mescals\": 7, \"manda\": 5, \"telepaths\": 9, \"ineluctable\": 11, \"Mulroney\": 8, \"reisolating\": 11, \"misprison\": 9, \"seismal\": 7, \"validness\": 9, \"gigaliter\": 9, \"swollen\": 7, \"flippant\": 8, \"starbursting\": 12, \"rootstalk\": 9, \"gegenschein\": 11, \"zirconias\": 9, \"martagon\": 8, \"prostratin\": 10, \"sarse\": 5, \"imperiously\": 11, \"cacique\": 7, \"choreographer\": 13, \"atimy\": 5, \"alphabetical\": 12, \"dispondee\": 9, \"Gnawas\": 6, \"trash-house\": 11, \"legislation\": 11, \"brazing\": 7, \"catholicity\": 11, \"undeterrable\": 12, \"uncharted\": 9, \"undulant\": 8, \"downscales\": 10, \"universals\": 10, \"rock-dove\": 9, \"Palatine\": 8, \"water-lentil\": 12, \"coloscopy\": 9, \"taichi\": 6, \"Patzcuaro\": 9, \"photoactivated\": 14, \"cytidines\": 9, \"thumb-nail\": 10, \"carbonyls\": 9, \"proteinurea\": 11, \"sodger\": 6, \"vent-peg\": 8, \"TIMTOWTDI\": 9, \"drycleaners\": 11, \"prettiest\": 9, \"buttress\": 8, \"upgradeable\": 11, \"nanogram\": 8, \"kneeling\": 8, \"hammock-rail\": 12, \"endstation\": 10, \"Succoth\": 7, \"claustration\": 12, \"forthwithal\": 11, \"chiggers\": 8, \"hymen\": 5, \"noted\": 5, \"nitor\": 5, \"superstitionist\": 15, \"provincialist\": 13, \"lorded\": 6, \"rightsizing\": 11, \"pre\\u00ebmptive\": 10, \"unfaulty\": 8, \"Waukesha\": 8, \"mailroom\": 8, \"lidge\": 5, \"wellsprings\": 11, \"pennants\": 8, \"talleros\": 8, \"Mister\": 6, \"unguis\": 6, \"porch\": 5, \"nonprofessors\": 13, \"whirly\": 6, \"partisanly\": 10, \"nondevelopment\": 14, \"akorn\": 5, \"Fantis\": 6, \"heartbreaks\": 11, \"three-fourths\": 13, \"nervule\": 7, \"adjectively\": 11, \"unctuous\": 8, \"yemer\": 5, \"haemin\": 6, \"bioprocess\": 10, \"kenneled\": 8, \"amblyopic\": 9, \"unbiodegradable\": 15, \"fakery\": 6, \"exhibitory\": 10, \"elitist\": 7, \"pangamia\": 8, \"paragenetic\": 11, \"impartibility\": 13, \"reparability\": 12, \"maguari\": 7, \"fideists\": 8, \"dinoseb\": 7, \"spotlessly\": 10, \"unfabled\": 8, \"reverencing\": 11, \"bodiless\": 8, \"cordon\": 6, \"charmers\": 8, \"unreason\": 8, \"vigils\": 6, \"chimings\": 8, \"moissanite\": 10, \"dromeosaurs\": 11, \"grassiness\": 10, \"accompaniments\": 14, \"maquillage\": 10, \"timezones\": 9, \"transonic\": 9, \"neurocerebral\": 13, \"regrowth\": 8, \"edriophthalmous\": 15, \"plumbed\": 7, \"undistorted\": 11, \"handsomely\": 10, \"hektograph\": 10, \"endosperms\": 10, \"sexual\": 6, \"spreader\": 8, \"dagnammit\": 9, \"wrongful\": 8, \"last-minute\": 11, \"scath\": 5, \"Stralsund\": 9, \"belittlements\": 13, \"bullfist\": 8, \"connectively\": 12, \"updrafts\": 8, \"dehumanized\": 11, \"non-suicidal\": 12, \"rossia\": 6, \"gelidly\": 7, \"syrupily\": 8, \"shouldn't've\": 12, \"suckiness\": 9, \"minging\": 7, \"anorthositic\": 12, \"porcelaneous\": 12, \"levator\": 7, \"crummiest\": 9, \"shark's-mouth\": 13, \"revolutionised\": 14, \"antiseptics\": 11, \"sporation\": 9, \"orbit\": 5, \"oakiest\": 7, \"fendillation\": 12, \"spermatozoal\": 12, \"clinching\": 9, \"existence\": 9, \"amendation\": 10, \"off-kilter\": 10, \"total-order\": 11, \"weldments\": 9, \"misprints\": 9, \"moonwalkers\": 11, \"kandel\": 6, \"tsoris\": 6, \"cakes\": 5, \"obtainable\": 10, \"strokable\": 9, \"bosky\": 5, \"milk-walk\": 9, \"plantable\": 9, \"boarhounds\": 10, \"homographs\": 10, \"youngger\": 8, \"estivation\": 10, \"yaffles\": 7, \"fleawort\": 8, \"ministering\": 11, \"undergone\": 9, \"successfully\": 12, \"trapdoor\": 8, \"vigour\": 6, \"distracted\": 10, \"missible\": 8, \"kokoon\": 6, \"globe-trotter\": 13, \"domesticates\": 12, \"rigorize\": 8, \"parchemin\": 9, \"underclock\": 10, \"Sikeston\": 8, \"tomb-house\": 10, \"scuzzier\": 8, \"unconscionable\": 14, \"Apple-built\": 11, \"tartronic\": 9, \"ejaculate\": 9, \"she-devils\": 10, \"steedless\": 9, \"eyeshine\": 8, \"bellman\": 7, \"doble\": 5, \"cleavages\": 9, \"totem-kin\": 9, \"Mondrian\": 8, \"victor\": 6, \"tapeworms\": 9, \"eases\": 5, \"Arianne\": 7, \"hereafter\": 9, \"shortest-lived\": 14, \"ashura\": 6, \"feebler\": 7, \"perceptional\": 12, \"super-duper\": 11, \"fairtrade\": 9, \"webliography\": 12, \"fishmonger\": 10, \"bhadrapada\": 10, \"delaminates\": 11, \"porpesse\": 8, \"square-rigger\": 13, \"parachurches\": 12, \"canker-sore\": 11, \"branks\": 6, \"Dougie\": 6, \"home-bred\": 9, \"self-medication\": 15, \"apple-scented\": 13, \"drying-chamber\": 14, \"hydroxypropyl\": 13, \"swordfights\": 11, \"cognacs\": 7, \"obstructionism\": 14, \"gothicist\": 9, \"cattle-run\": 10, \"wazzocks\": 8, \"glassiest\": 9, \"Saint Albans\": 12, \"Sexagesima\": 10, \"gheraos\": 7, \"venomously\": 10, \"colossus\": 8, \"Hot Springs\": 11, \"anomali\": 7, \"disallowance\": 12, \"apportionment\": 13, \"invested\": 8, \"lolly-pops\": 10, \"splatch\": 7, \"yawner\": 6, \"alerta\": 6, \"fawned\": 6, \"folksiness\": 10, \"incurability\": 12, \"blood-guiltless\": 15, \"videogame\": 9, \"unsquareable\": 12, \"extrusory\": 9, \"pocket-cloth\": 12, \"mastigophore\": 12, \"sub-page\": 8, \"unjailed\": 8, \"orange-tree\": 11, \"fast-day\": 8, \"preposter\": 9, \"aggiornamento\": 13, \"banqueted\": 9, \"hypervelocity\": 13, \"three-wheel\": 11, \"Gandhi\": 6, \"theologist\": 10, \"thrall\": 6, \"lixiviate\": 9, \"punctuations\": 12, \"fish-pugh\": 9, \"divel\": 5, \"tecoma\": 6, \"trestling\": 9, \"Maconite\": 8, \"random-access\": 13, \"leasee\": 6, \"elasticized\": 11, \"keyframer\": 9, \"judiciously\": 11, \"conveyance\": 10, \"subjugation\": 11, \"carper\": 6, \"nitroaniline\": 12, \"budgeter\": 8, \"fostress\": 8, \"acceptive\": 9, \"tricolor\": 8, \"acleistous\": 10, \"plumatella\": 10, \"thundering\": 10, \"negroid\": 7, \"watercolour\": 11, \"lady-in-waiting\": 15, \"tsouris\": 7, \"veers\": 5, \"burnoffs\": 8, \"guitaring\": 9, \"tastebuds\": 9, \"rheological\": 11, \"microsomes\": 10, \"gonopodium\": 10, \"integrally\": 10, \"nounism\": 7, \"finely\": 6, \"Usonians\": 8, \"intercision\": 11, \"Jaredites\": 9, \"inadvisable\": 11, \"pocketful\": 9, \"pseudoscience\": 13, \"slenderise\": 10, \"dolcemente\": 10, \"earnestful\": 10, \"travelled\": 9, \"presbytes\": 9, \"twenty-fifth\": 12, \"Coptic\": 6, \"intermarriage\": 13, \"mid-July\": 8, \"paramilitaries\": 14, \"overtook\": 8, \"penholder\": 9, \"puffiness\": 9, \"route\": 5, \"pinking-iron\": 12, \"hypsographic\": 12, \"forelay\": 7, \"undock\": 6, \"sluices\": 7, \"unlax\": 5, \"crocein\": 7, \"whiter\": 6, \"peninsulate\": 11, \"firming\": 7, \"pluma\": 5, \"stickered\": 9, \"twill\": 5, \"Kucha\": 5, \"Rolodex\": 7, \"rater\": 5, \"gaugeable\": 9, \"pantoufle\": 9, \"cleanout\": 8, \"bigeminum\": 9, \"mismatchment\": 12, \"polyembryonic\": 13, \"insipidly\": 9, \"church-mouse\": 12, \"greedier\": 8, \"cafeteria-style\": 15, \"vaccinologists\": 14, \"basketlike\": 10, \"nippers\": 7, \"victors\": 7, \"unhesitantly\": 12, \"perpetuity\": 10, \"ameliorate\": 10, \"standage\": 8, \"whipstitches\": 12, \"sitfast\": 7, \"wrongously\": 10, \"sorrowe\": 7, \"windings\": 8, \"cistern\": 7, \"unwalled\": 8, \"congestion\": 10, \"vehicle\": 7, \"verdin\": 6, \"paddlers\": 8, \"reharmonizes\": 12, \"shipowners\": 10}\n"
     ]
    }
   ],
   "source": [
    "### BEGIN SOLUTION\n",
    "word_dict = {}\n",
    "for i in range(len(r_words)):\n",
    "    word_dict[r_words[i]] = len(r_words[i])\n",
    "    \n",
    "with open('r_words.JSON', 'w') as f:\n",
    "    my_json_str = json.dumps(word_dict) # convert dictonary to string with JSON formatting\n",
    "    f.write(my_json_str) # write the string to file\n",
    "\n",
    "with open('r_words.JSON', 'r') as f:\n",
    "    print(f.read()) # read the string from file\n",
    "### END SOLUTION"
   ]
  },
  {
   "cell_type": "markdown",
   "metadata": {},
   "source": [
    "<br>\n",
    "\n",
    "# Part 4: Python and the Web\n",
    "\n",
    "The internet is a massive source for collecting data. Watch the video below to get an overview of the most fundamental protocols and how we work with them."
   ]
  },
  {
   "cell_type": "code",
   "execution_count": null,
   "metadata": {},
   "outputs": [],
   "source": [
    "YouTubeVideo('D6FFt0z8pFc', width=640, height=360)"
   ]
  },
  {
   "cell_type": "markdown",
   "metadata": {
    "slideshow": {
     "slide_type": "slide"
    }
   },
   "source": [
    "## Application Programming Interface (API)\n",
    "\n",
    "APIs are protocols that allow us to request information and/or services from the provider of the API. In this course, we are mainly interested in APIs that provide data as a response to our requests. Watch the video below to get a sense of what APIs exist and how they work."
   ]
  },
  {
   "cell_type": "code",
   "execution_count": null,
   "metadata": {},
   "outputs": [],
   "source": [
    "YouTubeVideo('PvMIubOCUD8', width=640, height=360)"
   ]
  },
  {
   "cell_type": "markdown",
   "metadata": {},
   "source": [
    "## Building the Queries\n",
    "We will now move on to understanding how we can interact with a web API in Python. First we will see how to build a query, which is simply a web address. By typing in a specific web address, the web server will receive information from us.\n",
    "\n",
    "In the example below we build a URL that allows us to check out which repositories ISDSUCPH has publicly available."
   ]
  },
  {
   "cell_type": "code",
   "execution_count": 49,
   "metadata": {
    "slideshow": {
     "slide_type": "fragment"
    }
   },
   "outputs": [
    {
     "name": "stdout",
     "output_type": "stream",
     "text": [
      "https://api.github.com/users/isdsucph/repos\n"
     ]
    }
   ],
   "source": [
    "server_url = 'https://api.github.com'\n",
    "endpoint_path = '/users/isdsucph/repos'\n",
    "\n",
    "url = server_url + endpoint_path\n",
    "\n",
    "print(url)"
   ]
  },
  {
   "cell_type": "markdown",
   "metadata": {
    "slideshow": {
     "slide_type": "slide"
    }
   },
   "source": [
    "## Sending the Query\n",
    "Python has a smart module, named `requests` (get it with `pip install requests`), that allows us to interact with the web. When we request a URL, we get a response in return. Among other things, it allows us to inspect the HTML code. In the example below, we query the URL for the GitHub API we made above. "
   ]
  },
  {
   "cell_type": "code",
   "execution_count": 50,
   "metadata": {
    "slideshow": {
     "slide_type": "fragment"
    }
   },
   "outputs": [],
   "source": [
    "import requests # import the module requests\n",
    "response = requests.get(url) # submit query with `get` and save response as object"
   ]
  },
  {
   "cell_type": "markdown",
   "metadata": {},
   "source": [
    "When we examine the response, we can see the HTML string is pretty long, so we limit the initial output to the first 1,000 characters. "
   ]
  },
  {
   "cell_type": "code",
   "execution_count": 51,
   "metadata": {
    "slideshow": {
     "slide_type": "fragment"
    }
   },
   "outputs": [
    {
     "name": "stdout",
     "output_type": "stream",
     "text": [
      "15331 \n",
      "\n",
      "[{\"id\":381957904,\"node_id\":\"MDEwOlJlcG9zaXRvcnkzODE5NTc5MDQ=\",\"name\":\"isds2021\",\"full_name\":\"isdsucph/isds2021\",\"private\":false,\"owner\":{\"login\":\"isdsucph\",\"id\":86770179,\"node_id\":\"MDQ6VXNlcjg2NzcwMTc5\",\"avatar_url\":\"https://avatars.githubusercontent.com/u/86770179?v=4\",\"gravatar_id\":\"\",\"url\":\"https://api.github.com/users/isdsucph\",\"html_url\":\"https://github.com/isdsucph\",\"followers_url\":\"https://api.github.com/users/isdsucph/followers\",\"following_url\":\"https://api.github.com/users/isdsucph/following{/other_user}\",\"gists_url\":\"https://api.github.com/users/isdsucph/gists{/gist_id}\",\"starred_url\":\"https://api.github.com/users/isdsucph/starred{/owner}{/repo}\",\"subscriptions_url\":\"https://api.github.com/users/isdsucph/subscriptions\",\"organizations_url\":\"https://api.github.com/users/isdsucph/orgs\",\"repos_url\":\"https://api.github.com/users/isdsucph/repos\",\"events_url\":\"https://api.github.com/users/isdsucph/events{/privacy}\",\"received_events_url\":\"https://api.github.com/users/isdsucph/receive\n"
     ]
    }
   ],
   "source": [
    "print(len(response.text),'\\n') # print length of HTML\n",
    "print(response.text[:1000]) # print first 1,000 characters of HTML "
   ]
  },
  {
   "cell_type": "markdown",
   "metadata": {},
   "source": [
    "Looking closely, we notice how the structure resembles lists and dictionaries (note that depending on the context, these responses can be VERY difficult to make sense of from simply printing - just as in this case). Therefore, we try to convert it by assuming that it is structured as JSON."
   ]
  },
  {
   "cell_type": "code",
   "execution_count": 52,
   "metadata": {
    "scrolled": true
   },
   "outputs": [
    {
     "data": {
      "text/plain": [
       "{'id': 381957904,\n",
       " 'node_id': 'MDEwOlJlcG9zaXRvcnkzODE5NTc5MDQ=',\n",
       " 'name': 'isds2021',\n",
       " 'full_name': 'isdsucph/isds2021',\n",
       " 'private': False,\n",
       " 'owner': {'login': 'isdsucph',\n",
       "  'id': 86770179,\n",
       "  'node_id': 'MDQ6VXNlcjg2NzcwMTc5',\n",
       "  'avatar_url': 'https://avatars.githubusercontent.com/u/86770179?v=4',\n",
       "  'gravatar_id': '',\n",
       "  'url': 'https://api.github.com/users/isdsucph',\n",
       "  'html_url': 'https://github.com/isdsucph',\n",
       "  'followers_url': 'https://api.github.com/users/isdsucph/followers',\n",
       "  'following_url': 'https://api.github.com/users/isdsucph/following{/other_user}',\n",
       "  'gists_url': 'https://api.github.com/users/isdsucph/gists{/gist_id}',\n",
       "  'starred_url': 'https://api.github.com/users/isdsucph/starred{/owner}{/repo}',\n",
       "  'subscriptions_url': 'https://api.github.com/users/isdsucph/subscriptions',\n",
       "  'organizations_url': 'https://api.github.com/users/isdsucph/orgs',\n",
       "  'repos_url': 'https://api.github.com/users/isdsucph/repos',\n",
       "  'events_url': 'https://api.github.com/users/isdsucph/events{/privacy}',\n",
       "  'received_events_url': 'https://api.github.com/users/isdsucph/received_events',\n",
       "  'type': 'User',\n",
       "  'site_admin': False},\n",
       " 'html_url': 'https://github.com/isdsucph/isds2021',\n",
       " 'description': 'Introduction to Social Data Science 2021 - a summer school course https://isdsucph.github.io/isds2021/',\n",
       " 'fork': False,\n",
       " 'url': 'https://api.github.com/repos/isdsucph/isds2021',\n",
       " 'forks_url': 'https://api.github.com/repos/isdsucph/isds2021/forks',\n",
       " 'keys_url': 'https://api.github.com/repos/isdsucph/isds2021/keys{/key_id}',\n",
       " 'collaborators_url': 'https://api.github.com/repos/isdsucph/isds2021/collaborators{/collaborator}',\n",
       " 'teams_url': 'https://api.github.com/repos/isdsucph/isds2021/teams',\n",
       " 'hooks_url': 'https://api.github.com/repos/isdsucph/isds2021/hooks',\n",
       " 'issue_events_url': 'https://api.github.com/repos/isdsucph/isds2021/issues/events{/number}',\n",
       " 'events_url': 'https://api.github.com/repos/isdsucph/isds2021/events',\n",
       " 'assignees_url': 'https://api.github.com/repos/isdsucph/isds2021/assignees{/user}',\n",
       " 'branches_url': 'https://api.github.com/repos/isdsucph/isds2021/branches{/branch}',\n",
       " 'tags_url': 'https://api.github.com/repos/isdsucph/isds2021/tags',\n",
       " 'blobs_url': 'https://api.github.com/repos/isdsucph/isds2021/git/blobs{/sha}',\n",
       " 'git_tags_url': 'https://api.github.com/repos/isdsucph/isds2021/git/tags{/sha}',\n",
       " 'git_refs_url': 'https://api.github.com/repos/isdsucph/isds2021/git/refs{/sha}',\n",
       " 'trees_url': 'https://api.github.com/repos/isdsucph/isds2021/git/trees{/sha}',\n",
       " 'statuses_url': 'https://api.github.com/repos/isdsucph/isds2021/statuses/{sha}',\n",
       " 'languages_url': 'https://api.github.com/repos/isdsucph/isds2021/languages',\n",
       " 'stargazers_url': 'https://api.github.com/repos/isdsucph/isds2021/stargazers',\n",
       " 'contributors_url': 'https://api.github.com/repos/isdsucph/isds2021/contributors',\n",
       " 'subscribers_url': 'https://api.github.com/repos/isdsucph/isds2021/subscribers',\n",
       " 'subscription_url': 'https://api.github.com/repos/isdsucph/isds2021/subscription',\n",
       " 'commits_url': 'https://api.github.com/repos/isdsucph/isds2021/commits{/sha}',\n",
       " 'git_commits_url': 'https://api.github.com/repos/isdsucph/isds2021/git/commits{/sha}',\n",
       " 'comments_url': 'https://api.github.com/repos/isdsucph/isds2021/comments{/number}',\n",
       " 'issue_comment_url': 'https://api.github.com/repos/isdsucph/isds2021/issues/comments{/number}',\n",
       " 'contents_url': 'https://api.github.com/repos/isdsucph/isds2021/contents/{+path}',\n",
       " 'compare_url': 'https://api.github.com/repos/isdsucph/isds2021/compare/{base}...{head}',\n",
       " 'merges_url': 'https://api.github.com/repos/isdsucph/isds2021/merges',\n",
       " 'archive_url': 'https://api.github.com/repos/isdsucph/isds2021/{archive_format}{/ref}',\n",
       " 'downloads_url': 'https://api.github.com/repos/isdsucph/isds2021/downloads',\n",
       " 'issues_url': 'https://api.github.com/repos/isdsucph/isds2021/issues{/number}',\n",
       " 'pulls_url': 'https://api.github.com/repos/isdsucph/isds2021/pulls{/number}',\n",
       " 'milestones_url': 'https://api.github.com/repos/isdsucph/isds2021/milestones{/number}',\n",
       " 'notifications_url': 'https://api.github.com/repos/isdsucph/isds2021/notifications{?since,all,participating}',\n",
       " 'labels_url': 'https://api.github.com/repos/isdsucph/isds2021/labels{/name}',\n",
       " 'releases_url': 'https://api.github.com/repos/isdsucph/isds2021/releases{/id}',\n",
       " 'deployments_url': 'https://api.github.com/repos/isdsucph/isds2021/deployments',\n",
       " 'created_at': '2021-07-01T08:09:57Z',\n",
       " 'updated_at': '2022-07-14T06:54:49Z',\n",
       " 'pushed_at': '2021-08-23T08:48:57Z',\n",
       " 'git_url': 'git://github.com/isdsucph/isds2021.git',\n",
       " 'ssh_url': 'git@github.com:isdsucph/isds2021.git',\n",
       " 'clone_url': 'https://github.com/isdsucph/isds2021.git',\n",
       " 'svn_url': 'https://github.com/isdsucph/isds2021',\n",
       " 'homepage': '',\n",
       " 'size': 66010,\n",
       " 'stargazers_count': 21,\n",
       " 'watchers_count': 21,\n",
       " 'language': 'Jupyter Notebook',\n",
       " 'has_issues': True,\n",
       " 'has_projects': True,\n",
       " 'has_downloads': True,\n",
       " 'has_wiki': True,\n",
       " 'has_pages': True,\n",
       " 'forks_count': 37,\n",
       " 'mirror_url': None,\n",
       " 'archived': False,\n",
       " 'disabled': False,\n",
       " 'open_issues_count': 11,\n",
       " 'license': {'key': 'mit',\n",
       "  'name': 'MIT License',\n",
       "  'spdx_id': 'MIT',\n",
       "  'url': 'https://api.github.com/licenses/mit',\n",
       "  'node_id': 'MDc6TGljZW5zZTEz'},\n",
       " 'allow_forking': True,\n",
       " 'is_template': False,\n",
       " 'web_commit_signoff_required': False,\n",
       " 'topics': [],\n",
       " 'visibility': 'public',\n",
       " 'forks': 37,\n",
       " 'open_issues': 11,\n",
       " 'watchers': 21,\n",
       " 'default_branch': 'main'}"
      ]
     },
     "execution_count": 52,
     "metadata": {},
     "output_type": "execute_result"
    }
   ],
   "source": [
    "response_json = response.json() # convert response to a list of dicts\n",
    "response_json[0]"
   ]
  },
  {
   "cell_type": "markdown",
   "metadata": {},
   "source": [
    "Now it is easier to see that this is in fact a dictionary. Looking more closely at the output, we can also see that the depth of the dictionary is not trivial - it contains dictionaries of dictionaries.\n",
    "\n",
    "In order to make the output more digestable, use the so-called *pretty printer* that, among other things, arranges the output alphabetically and makes the depth of the output more clearly visible. Take a look and compare with what we had above:"
   ]
  },
  {
   "cell_type": "code",
   "execution_count": 53,
   "metadata": {},
   "outputs": [
    {
     "name": "stdout",
     "output_type": "stream",
     "text": [
      "[{'allow_forking': True,\n",
      "  'archive_url': 'https://api.github.com/repos/isdsucph/isds2021/{archive_format}{/ref}',\n",
      "  'archived': False,\n",
      "  'assignees_url': 'https://api.github.com/repos/isdsucph/isds2021/assignees{/user}',\n",
      "  'blobs_url': 'https://api.github.com/repos/isdsucph/isds2021/git/blobs{/sha}',\n",
      "  'branches_url': 'https://api.github.com/repos/isdsucph/isds2021/branches{/branch}',\n",
      "  'clone_url': 'https://github.com/isdsucph/isds2021.git',\n",
      "  'collaborators_url': 'https://api.github.com/repos/isdsucph/isds2021/collaborators{/collaborator}',\n",
      "  'comments_url': 'https://api.github.com/repos/isdsucph/isds2021/comments{/number}',\n",
      "  'commits_url': 'https://api.github.com/repos/isdsucph/isds2021/commits{/sha}',\n",
      "  'compare_url': 'https://api.github.com/repos/isdsucph/isds2021/compare/{base}...{head}',\n",
      "  'contents_url': 'https://api.github.com/repos/isdsucph/isds2021/contents/{+path}',\n",
      "  'contributors_url': 'https://api.github.com/repos/isdsucph/isds2021/contributors',\n",
      "  'created_at': '2021-07-01T08:09:57Z',\n",
      "  'default_branch': 'main',\n",
      "  'deployments_url': 'https://api.github.com/repos/isdsucph/isds2021/deployments',\n",
      "  'description': 'Introduction to Social Data Science 2021 - a summer school '\n",
      "                 'course https://isdsucph.github.io/isds2021/',\n",
      "  'disabled': False,\n",
      "  'downloads_url': 'https://api.github.com/repos/isdsucph/isds2021/downloads',\n",
      "  'events_url': 'https://api.github.com/repos/isdsucph/isds2021/events',\n",
      "  'fork': False,\n",
      "  'forks': 37,\n",
      "  'forks_count': 37,\n",
      "  'forks_url': 'https://api.github.com/repos/isdsucph/isds2021/forks',\n",
      "  'full_name': 'isdsucph/isds2021',\n",
      "  'git_commits_url': 'https://api.github.com/repos/isdsucph/isds2021/git/commits{/sha}',\n",
      "  'git_refs_url': 'https://api.github.com/repos/isdsucph/isds2021/git/refs{/sha}',\n",
      "  'git_tags_url': 'https://api.github.com/repos/isdsucph/isds2021/git/tags{/sha}',\n",
      "  'git_url': 'git://github.com/isdsucph/isds2021.git',\n",
      "  'has_downloads': True,\n",
      "  'has_issues': True,\n",
      "  'has_pages': True,\n",
      "  'has_projects': True,\n",
      "  'has_wiki': True,\n",
      "  'homepage': '',\n",
      "  'hooks_url': 'https://api.github.com/repos/isdsucph/isds2021/hooks',\n",
      "  'html_url': 'https://github.com/isdsucph/isds2021',\n",
      "  'id': 381957904,\n",
      "  'is_template': False,\n",
      "  'issue_comment_url': 'https://api.github.com/repos/isdsucph/isds2021/issues/comments{/number}',\n",
      "  'issue_events_url': 'https://api.github.com/repos/isdsucph/isds2021/issues/events{/number}',\n",
      "  'issues_url': 'https://api.github.com/repos/isdsucph/isds2021/issues{/number}',\n",
      "  'keys_url': 'https://api.github.com/repos/isdsucph/isds2021/keys{/key_id}',\n",
      "  'labels_url': 'https://api.github.com/repos/isdsucph/isds2021/labels{/name}',\n",
      "  'language': 'Jupyter Notebook',\n",
      "  'languages_url': 'https://api.github.com/repos/isdsucph/isds2021/languages',\n",
      "  'license': {'key': 'mit',\n",
      "              'name': 'MIT License',\n",
      "              'node_id': 'MDc6TGljZW5zZTEz',\n",
      "              'spdx_id': 'MIT',\n",
      "              'url': 'https://api.github.com/licenses/mit'},\n",
      "  'merges_url': 'https://api.github.com/repos/isdsucph/isds2021/merges',\n",
      "  'milestones_url': 'https://api.github.com/repos/isdsucph/isds2021/milestones{/number}',\n",
      "  'mirror_url': None,\n",
      "  'name': 'isds2021',\n",
      "  'node_id': 'MDEwOlJlcG9zaXRvcnkzODE5NTc5MDQ=',\n",
      "  'notifications_url': 'https://api.github.com/repos/isdsucph/isds2021/notifications{?since,all,participating}',\n",
      "  'open_issues': 11,\n",
      "  'open_issues_count': 11,\n",
      "  'owner': {'avatar_url': 'https://avatars.githubusercontent.com/u/86770179?v=4',\n",
      "            'events_url': 'https://api.github.com/users/isdsucph/events{/privacy}',\n",
      "            'followers_url': 'https://api.github.com/users/isdsucph/followers',\n",
      "            'following_url': 'https://api.github.com/users/isdsucph/following{/other_user}',\n",
      "            'gists_url': 'https://api.github.com/users/isdsucph/gists{/gist_id}',\n",
      "            'gravatar_id': '',\n",
      "            'html_url': 'https://github.com/isdsucph',\n",
      "            'id': 86770179,\n",
      "            'login': 'isdsucph',\n",
      "            'node_id': 'MDQ6VXNlcjg2NzcwMTc5',\n",
      "            'organizations_url': 'https://api.github.com/users/isdsucph/orgs',\n",
      "            'received_events_url': 'https://api.github.com/users/isdsucph/received_events',\n",
      "            'repos_url': 'https://api.github.com/users/isdsucph/repos',\n",
      "            'site_admin': False,\n",
      "            'starred_url': 'https://api.github.com/users/isdsucph/starred{/owner}{/repo}',\n",
      "            'subscriptions_url': 'https://api.github.com/users/isdsucph/subscriptions',\n",
      "            'type': 'User',\n",
      "            'url': 'https://api.github.com/users/isdsucph'},\n",
      "  'private': False,\n",
      "  'pulls_url': 'https://api.github.com/repos/isdsucph/isds2021/pulls{/number}',\n",
      "  'pushed_at': '2021-08-23T08:48:57Z',\n",
      "  'releases_url': 'https://api.github.com/repos/isdsucph/isds2021/releases{/id}',\n",
      "  'size': 66010,\n",
      "  'ssh_url': 'git@github.com:isdsucph/isds2021.git',\n",
      "  'stargazers_count': 21,\n",
      "  'stargazers_url': 'https://api.github.com/repos/isdsucph/isds2021/stargazers',\n",
      "  'statuses_url': 'https://api.github.com/repos/isdsucph/isds2021/statuses/{sha}',\n",
      "  'subscribers_url': 'https://api.github.com/repos/isdsucph/isds2021/subscribers',\n",
      "  'subscription_url': 'https://api.github.com/repos/isdsucph/isds2021/subscription',\n",
      "  'svn_url': 'https://github.com/isdsucph/isds2021',\n",
      "  'tags_url': 'https://api.github.com/repos/isdsucph/isds2021/tags',\n",
      "  'teams_url': 'https://api.github.com/repos/isdsucph/isds2021/teams',\n",
      "  'topics': [],\n",
      "  'trees_url': 'https://api.github.com/repos/isdsucph/isds2021/git/trees{/sha}',\n",
      "  'updated_at': '2022-07-14T06:54:49Z',\n",
      "  'url': 'https://api.github.com/repos/isdsucph/isds2021',\n",
      "  'visibility': 'public',\n",
      "  'watchers': 21,\n",
      "  'watchers_count': 21,\n",
      "  'web_commit_signoff_required': False},\n",
      " {'allow_forking': True,\n",
      "  'archive_url': 'https://api.github.com/repos/isdsucph/isds2022/{archive_format}{/ref}',\n",
      "  'archived': False,\n",
      "  'assignees_url': 'https://api.github.com/repos/isdsucph/isds2022/assignees{/user}',\n",
      "  'blobs_url': 'https://api.github.com/repos/isdsucph/isds2022/git/blobs{/sha}',\n",
      "  'branches_url': 'https://api.github.com/repos/isdsucph/isds2022/branches{/branch}',\n",
      "  'clone_url': 'https://github.com/isdsucph/isds2022.git',\n",
      "  'collaborators_url': 'https://api.github.com/repos/isdsucph/isds2022/collaborators{/collaborator}',\n",
      "  'comments_url': 'https://api.github.com/repos/isdsucph/isds2022/comments{/number}',\n",
      "  'commits_url': 'https://api.github.com/repos/isdsucph/isds2022/commits{/sha}',\n",
      "  'compare_url': 'https://api.github.com/repos/isdsucph/isds2022/compare/{base}...{head}',\n",
      "  'contents_url': 'https://api.github.com/repos/isdsucph/isds2022/contents/{+path}',\n",
      "  'contributors_url': 'https://api.github.com/repos/isdsucph/isds2022/contributors',\n",
      "  'created_at': '2022-06-17T09:49:06Z',\n",
      "  'default_branch': 'main',\n",
      "  'deployments_url': 'https://api.github.com/repos/isdsucph/isds2022/deployments',\n",
      "  'description': 'Introduction to Social Data Science 2022 - a summer school '\n",
      "                 'course https://isdsucph.github.io/isds2022/',\n",
      "  'disabled': False,\n",
      "  'downloads_url': 'https://api.github.com/repos/isdsucph/isds2022/downloads',\n",
      "  'events_url': 'https://api.github.com/repos/isdsucph/isds2022/events',\n",
      "  'fork': False,\n",
      "  'forks': 20,\n",
      "  'forks_count': 20,\n",
      "  'forks_url': 'https://api.github.com/repos/isdsucph/isds2022/forks',\n",
      "  'full_name': 'isdsucph/isds2022',\n",
      "  'git_commits_url': 'https://api.github.com/repos/isdsucph/isds2022/git/commits{/sha}',\n",
      "  'git_refs_url': 'https://api.github.com/repos/isdsucph/isds2022/git/refs{/sha}',\n",
      "  'git_tags_url': 'https://api.github.com/repos/isdsucph/isds2022/git/tags{/sha}',\n",
      "  'git_url': 'git://github.com/isdsucph/isds2022.git',\n",
      "  'has_downloads': True,\n",
      "  'has_issues': True,\n",
      "  'has_pages': True,\n",
      "  'has_projects': True,\n",
      "  'has_wiki': True,\n",
      "  'homepage': None,\n",
      "  'hooks_url': 'https://api.github.com/repos/isdsucph/isds2022/hooks',\n",
      "  'html_url': 'https://github.com/isdsucph/isds2022',\n",
      "  'id': 504478840,\n",
      "  'is_template': False,\n",
      "  'issue_comment_url': 'https://api.github.com/repos/isdsucph/isds2022/issues/comments{/number}',\n",
      "  'issue_events_url': 'https://api.github.com/repos/isdsucph/isds2022/issues/events{/number}',\n",
      "  'issues_url': 'https://api.github.com/repos/isdsucph/isds2022/issues{/number}',\n",
      "  'keys_url': 'https://api.github.com/repos/isdsucph/isds2022/keys{/key_id}',\n",
      "  'labels_url': 'https://api.github.com/repos/isdsucph/isds2022/labels{/name}',\n",
      "  'language': 'Jupyter Notebook',\n",
      "  'languages_url': 'https://api.github.com/repos/isdsucph/isds2022/languages',\n",
      "  'license': {'key': 'mit',\n",
      "              'name': 'MIT License',\n",
      "              'node_id': 'MDc6TGljZW5zZTEz',\n",
      "              'spdx_id': 'MIT',\n",
      "              'url': 'https://api.github.com/licenses/mit'},\n",
      "  'merges_url': 'https://api.github.com/repos/isdsucph/isds2022/merges',\n",
      "  'milestones_url': 'https://api.github.com/repos/isdsucph/isds2022/milestones{/number}',\n",
      "  'mirror_url': None,\n",
      "  'name': 'isds2022',\n",
      "  'node_id': 'R_kgDOHhG8eA',\n",
      "  'notifications_url': 'https://api.github.com/repos/isdsucph/isds2022/notifications{?since,all,participating}',\n",
      "  'open_issues': 17,\n",
      "  'open_issues_count': 17,\n",
      "  'owner': {'avatar_url': 'https://avatars.githubusercontent.com/u/86770179?v=4',\n",
      "            'events_url': 'https://api.github.com/users/isdsucph/events{/privacy}',\n",
      "            'followers_url': 'https://api.github.com/users/isdsucph/followers',\n",
      "            'following_url': 'https://api.github.com/users/isdsucph/following{/other_user}',\n",
      "            'gists_url': 'https://api.github.com/users/isdsucph/gists{/gist_id}',\n",
      "            'gravatar_id': '',\n",
      "            'html_url': 'https://github.com/isdsucph',\n",
      "            'id': 86770179,\n",
      "            'login': 'isdsucph',\n",
      "            'node_id': 'MDQ6VXNlcjg2NzcwMTc5',\n",
      "            'organizations_url': 'https://api.github.com/users/isdsucph/orgs',\n",
      "            'received_events_url': 'https://api.github.com/users/isdsucph/received_events',\n",
      "            'repos_url': 'https://api.github.com/users/isdsucph/repos',\n",
      "            'site_admin': False,\n",
      "            'starred_url': 'https://api.github.com/users/isdsucph/starred{/owner}{/repo}',\n",
      "            'subscriptions_url': 'https://api.github.com/users/isdsucph/subscriptions',\n",
      "            'type': 'User',\n",
      "            'url': 'https://api.github.com/users/isdsucph'},\n",
      "  'private': False,\n",
      "  'pulls_url': 'https://api.github.com/repos/isdsucph/isds2022/pulls{/number}',\n",
      "  'pushed_at': '2022-08-08T10:18:28Z',\n",
      "  'releases_url': 'https://api.github.com/repos/isdsucph/isds2022/releases{/id}',\n",
      "  'size': 46901,\n",
      "  'ssh_url': 'git@github.com:isdsucph/isds2022.git',\n",
      "  'stargazers_count': 22,\n",
      "  'stargazers_url': 'https://api.github.com/repos/isdsucph/isds2022/stargazers',\n",
      "  'statuses_url': 'https://api.github.com/repos/isdsucph/isds2022/statuses/{sha}',\n",
      "  'subscribers_url': 'https://api.github.com/repos/isdsucph/isds2022/subscribers',\n",
      "  'subscription_url': 'https://api.github.com/repos/isdsucph/isds2022/subscription',\n",
      "  'svn_url': 'https://github.com/isdsucph/isds2022',\n",
      "  'tags_url': 'https://api.github.com/repos/isdsucph/isds2022/tags',\n",
      "  'teams_url': 'https://api.github.com/repos/isdsucph/isds2022/teams',\n",
      "  'topics': [],\n",
      "  'trees_url': 'https://api.github.com/repos/isdsucph/isds2022/git/trees{/sha}',\n",
      "  'updated_at': '2022-08-08T08:07:56Z',\n",
      "  'url': 'https://api.github.com/repos/isdsucph/isds2022',\n",
      "  'visibility': 'public',\n",
      "  'watchers': 22,\n",
      "  'watchers_count': 22,\n",
      "  'web_commit_signoff_required': False},\n",
      " {'allow_forking': True,\n",
      "  'archive_url': 'https://api.github.com/repos/isdsucph/isdsucph.github.io/{archive_format}{/ref}',\n",
      "  'archived': False,\n",
      "  'assignees_url': 'https://api.github.com/repos/isdsucph/isdsucph.github.io/assignees{/user}',\n",
      "  'blobs_url': 'https://api.github.com/repos/isdsucph/isdsucph.github.io/git/blobs{/sha}',\n",
      "  'branches_url': 'https://api.github.com/repos/isdsucph/isdsucph.github.io/branches{/branch}',\n",
      "  'clone_url': 'https://github.com/isdsucph/isdsucph.github.io.git',\n",
      "  'collaborators_url': 'https://api.github.com/repos/isdsucph/isdsucph.github.io/collaborators{/collaborator}',\n",
      "  'comments_url': 'https://api.github.com/repos/isdsucph/isdsucph.github.io/comments{/number}',\n",
      "  'commits_url': 'https://api.github.com/repos/isdsucph/isdsucph.github.io/commits{/sha}',\n",
      "  'compare_url': 'https://api.github.com/repos/isdsucph/isdsucph.github.io/compare/{base}...{head}',\n",
      "  'contents_url': 'https://api.github.com/repos/isdsucph/isdsucph.github.io/contents/{+path}',\n",
      "  'contributors_url': 'https://api.github.com/repos/isdsucph/isdsucph.github.io/contributors',\n",
      "  'created_at': '2021-07-01T08:13:49Z',\n",
      "  'default_branch': 'main',\n",
      "  'deployments_url': 'https://api.github.com/repos/isdsucph/isdsucph.github.io/deployments',\n",
      "  'description': None,\n",
      "  'disabled': False,\n",
      "  'downloads_url': 'https://api.github.com/repos/isdsucph/isdsucph.github.io/downloads',\n",
      "  'events_url': 'https://api.github.com/repos/isdsucph/isdsucph.github.io/events',\n",
      "  'fork': False,\n",
      "  'forks': 0,\n",
      "  'forks_count': 0,\n",
      "  'forks_url': 'https://api.github.com/repos/isdsucph/isdsucph.github.io/forks',\n",
      "  'full_name': 'isdsucph/isdsucph.github.io',\n",
      "  'git_commits_url': 'https://api.github.com/repos/isdsucph/isdsucph.github.io/git/commits{/sha}',\n",
      "  'git_refs_url': 'https://api.github.com/repos/isdsucph/isdsucph.github.io/git/refs{/sha}',\n",
      "  'git_tags_url': 'https://api.github.com/repos/isdsucph/isdsucph.github.io/git/tags{/sha}',\n",
      "  'git_url': 'git://github.com/isdsucph/isdsucph.github.io.git',\n",
      "  'has_downloads': True,\n",
      "  'has_issues': True,\n",
      "  'has_pages': True,\n",
      "  'has_projects': True,\n",
      "  'has_wiki': True,\n",
      "  'homepage': None,\n",
      "  'hooks_url': 'https://api.github.com/repos/isdsucph/isdsucph.github.io/hooks',\n",
      "  'html_url': 'https://github.com/isdsucph/isdsucph.github.io',\n",
      "  'id': 381958923,\n",
      "  'is_template': False,\n",
      "  'issue_comment_url': 'https://api.github.com/repos/isdsucph/isdsucph.github.io/issues/comments{/number}',\n",
      "  'issue_events_url': 'https://api.github.com/repos/isdsucph/isdsucph.github.io/issues/events{/number}',\n",
      "  'issues_url': 'https://api.github.com/repos/isdsucph/isdsucph.github.io/issues{/number}',\n",
      "  'keys_url': 'https://api.github.com/repos/isdsucph/isdsucph.github.io/keys{/key_id}',\n",
      "  'labels_url': 'https://api.github.com/repos/isdsucph/isdsucph.github.io/labels{/name}',\n",
      "  'language': None,\n",
      "  'languages_url': 'https://api.github.com/repos/isdsucph/isdsucph.github.io/languages',\n",
      "  'license': None,\n",
      "  'merges_url': 'https://api.github.com/repos/isdsucph/isdsucph.github.io/merges',\n",
      "  'milestones_url': 'https://api.github.com/repos/isdsucph/isdsucph.github.io/milestones{/number}',\n",
      "  'mirror_url': None,\n",
      "  'name': 'isdsucph.github.io',\n",
      "  'node_id': 'MDEwOlJlcG9zaXRvcnkzODE5NTg5MjM=',\n",
      "  'notifications_url': 'https://api.github.com/repos/isdsucph/isdsucph.github.io/notifications{?since,all,participating}',\n",
      "  'open_issues': 0,\n",
      "  'open_issues_count': 0,\n",
      "  'owner': {'avatar_url': 'https://avatars.githubusercontent.com/u/86770179?v=4',\n",
      "            'events_url': 'https://api.github.com/users/isdsucph/events{/privacy}',\n",
      "            'followers_url': 'https://api.github.com/users/isdsucph/followers',\n",
      "            'following_url': 'https://api.github.com/users/isdsucph/following{/other_user}',\n",
      "            'gists_url': 'https://api.github.com/users/isdsucph/gists{/gist_id}',\n",
      "            'gravatar_id': '',\n",
      "            'html_url': 'https://github.com/isdsucph',\n",
      "            'id': 86770179,\n",
      "            'login': 'isdsucph',\n",
      "            'node_id': 'MDQ6VXNlcjg2NzcwMTc5',\n",
      "            'organizations_url': 'https://api.github.com/users/isdsucph/orgs',\n",
      "            'received_events_url': 'https://api.github.com/users/isdsucph/received_events',\n",
      "            'repos_url': 'https://api.github.com/users/isdsucph/repos',\n",
      "            'site_admin': False,\n",
      "            'starred_url': 'https://api.github.com/users/isdsucph/starred{/owner}{/repo}',\n",
      "            'subscriptions_url': 'https://api.github.com/users/isdsucph/subscriptions',\n",
      "            'type': 'User',\n",
      "            'url': 'https://api.github.com/users/isdsucph'},\n",
      "  'private': False,\n",
      "  'pulls_url': 'https://api.github.com/repos/isdsucph/isdsucph.github.io/pulls{/number}',\n",
      "  'pushed_at': '2021-07-01T08:13:50Z',\n",
      "  'releases_url': 'https://api.github.com/repos/isdsucph/isdsucph.github.io/releases{/id}',\n",
      "  'size': 0,\n",
      "  'ssh_url': 'git@github.com:isdsucph/isdsucph.github.io.git',\n",
      "  'stargazers_count': 0,\n",
      "  'stargazers_url': 'https://api.github.com/repos/isdsucph/isdsucph.github.io/stargazers',\n",
      "  'statuses_url': 'https://api.github.com/repos/isdsucph/isdsucph.github.io/statuses/{sha}',\n",
      "  'subscribers_url': 'https://api.github.com/repos/isdsucph/isdsucph.github.io/subscribers',\n",
      "  'subscription_url': 'https://api.github.com/repos/isdsucph/isdsucph.github.io/subscription',\n",
      "  'svn_url': 'https://github.com/isdsucph/isdsucph.github.io',\n",
      "  'tags_url': 'https://api.github.com/repos/isdsucph/isdsucph.github.io/tags',\n",
      "  'teams_url': 'https://api.github.com/repos/isdsucph/isdsucph.github.io/teams',\n",
      "  'topics': [],\n",
      "  'trees_url': 'https://api.github.com/repos/isdsucph/isdsucph.github.io/git/trees{/sha}',\n",
      "  'updated_at': '2021-07-01T08:13:53Z',\n",
      "  'url': 'https://api.github.com/repos/isdsucph/isdsucph.github.io',\n",
      "  'visibility': 'public',\n",
      "  'watchers': 0,\n",
      "  'watchers_count': 0,\n",
      "  'web_commit_signoff_required': False}]\n"
     ]
    }
   ],
   "source": [
    "import pprint #Data pretty printer\n",
    "pprint.pprint(response.json()) #Everything is aranged alphabetically and in appropriate levels"
   ]
  },
  {
   "cell_type": "markdown",
   "metadata": {},
   "source": [
    "## The Punk API\n",
    "\n",
    "Now, it is time for you to request information through an API. First, we will work with the punk API that contains information on a large selection of beers. In this part of exercises, you are going to navigate in the information on these beers. Second, you are going to extract information from the DST (Statistics Denmark) API.\n",
    "\n",
    "The [punk API](https://punkapi.com/) serves information about _beers_. It is a well made and well documented API which makes it great for learning about APIs. \n",
    "\n",
    "> **Ex. 5.4.1:** Read the documentation on the Punk API available [here](https://punkapi.com/documentation/v2). What is the server url (i.e. root endpoint) of the Punk API? Does it require authentication? Then use the Punk API to make a request for the first 80 beers brewed after April, 2004 with an ABV of at least 5."
   ]
  },
  {
   "cell_type": "code",
   "execution_count": 20,
   "metadata": {
    "nbgrader": {
     "grade": false,
     "grade_id": "cell-d6af29d54fd7ded7",
     "locked": false,
     "schema_version": 3,
     "solution": true,
     "task": false
    }
   },
   "outputs": [],
   "source": [
    "### BEGIN SOLUTION\n",
    "\n",
    "# Server URL is 'https://api.punkapi.com/v2/'\n",
    "# No authentication required \n",
    "\n",
    "import requests\n",
    "response = requests.get('https://api.punkapi.com/v2/beers?per_page=80&brewed_after=4-2004&abv_gt=5')\n",
    "### END SOLUTION"
   ]
  },
  {
   "cell_type": "code",
   "execution_count": 57,
   "metadata": {
    "scrolled": false
   },
   "outputs": [
    {
     "data": {
      "text/plain": [
       "'<!DOCTYPE html>\\n<html ng-app=\"myApp\" lang=\"da\" ng-controller=\"MyCtrl\">\\n<head>\\n<meta charset=\"utf-8\">\\n<title>Boliger til salg</title>\\n<meta property=\"og:title\" content=\"Boliger til salg\">\\n<meta name=\"viewport\" content=\"width=device-width, initial-scale=1.0\">\\n<meta name=\"viewport\" content=\"width=device-width, initial-scale=1.0\">\\n<meta property=\"og:type\" content=\"website\">\\n<meta property=\"og:title\" content=\"Boliger til salg\">\\n<meta name=\"viewport\" content=\"width=device-width, initial-scale=1.0\">\\n<meta name=\"description\" content=\"Udvid din boligjagt med geodata. Intet er vigtigere end beliggenhed beliggenhed beliggenhed\">\\n<meta property=\"og:image\" content=\"https://www.dingeo.dk/img/bg-balloon.jpg\">\\n<script src=\"/cdn-cgi/apps/head/1G0HiYciRWQksksVY81RLDCEN0U.js\"></script><link href=\"//netdna.bootstrapcdn.com/bootstrap/3.0.0/css/bootstrap-glyphicons.css\" rel=\"stylesheet\">\\n<link href=\"/css/bootstrap.css\" rel=\"stylesheet\">\\n<link href=\"/css/datamain.css\" rel=\"stylesheet\">\\n<link href=\"https://cdnjs.cloudflare.com/ajax/libs/bootstrap-slider/9.1.1/css/bootstrap-slider.min.css\" rel=\"stylesheet\">\\n</head>\\n<body ng-controller=\"MyCtrl\">\\n\\n\\n<script async id=\"CookieConsent\" src=\"https://policy.app.cookieinformation.com/uc.js\" data-culture=\"DA\" type=\"text/javascript\"></script>\\n<style type=\"text/css\">\\r\\n\\t.second-navbar{\\r\\n\\t\\ttop:1000px;\\r\\n\\t}\\r\\n\\t.navbar .nav > li {\\r\\n\\t\\tz-index: 1001;\\r\\n\\t}\\r\\n</style>\\n<div class=\"navbar navbar-default navbar-fixed-top\">\\n<div class=\"container\">\\n<div class=\"navbar-header\">\\n<button type=\"button\" class=\"navbar-toggle\" data-toggle=\"collapse\" data-target=\"#navbar-collapse-1\">\\n<span class=\"sr-only\">Toggle navigation</span>\\n<span class=\"icon-bar\"></span>\\n<span class=\"icon-bar\"></span>\\n<span class=\"icon-bar\"></span>\\n</button>\\n<a href=\"/\">\\n<span class=\"navbar-brand\">\\n<img src=\"/img/dinbollogoh.png\" height=\"30px\" width=\"70px\" alt=\"DinGeo Logo\" title=\"DinGeo\" />\\n</span>\\n</a>\\n</div>\\n<div class=\"collapse navbar-collapse\" id=\"navbar-collapse-1\">\\n<ul class=\"nav navbar-nav\">\\n<li lass=\"dropdown\"><a href=\"javascript:void(0)\" class=\"dropdown-toggle\" data-toggle=\"dropdown\" rel=\"nofollow\">Til Salg <b class=\"caret\"></b></a>\\n<ul class=\"dropdown-menu\">\\n<li>\\n<a href=\"/salg/kort/\">Til Salg (kort)</a>\\n</li>\\n<li>\\n<a href=\"/salg/\">Til Salg (liste)</a>\\n</li>\\n</ul>\\n</li>\\n<li class=\"dropdown\"><a href=\"javascript:void(0)\" class=\"dropdown-toggle\" data-toggle=\"dropdown\" rel=\"nofollow\">Data <b class=\"caret\"></b></a>\\n<ul class=\"dropdown-menu\">\\n<li>\\n<a tabindex=\"0\" href=\"/kommune/\">Kommunedata</a>\\n</li>\\n<li class=\"dropdown dropdown-submenu\"><a href=\"javascript:void(0)\" class=\"dropdown-toggle\" data-toggle=\"dropdown\" rel=\"nofollow\">Sundhed og Sikkerhed</a>\\n<ul class=\"dropdown-menu\">\\n<li><a tabindex=\"10\" href=\"/data/indeklima/radon/\">Radonrisiko</a></li>\\n<li><a tabindex=\"11\" href=\"/data/jord/\">Jordforurening</a></li>\\n<li><a tabindex=\"12\" href=\"/data/luftforurening/\">Luftforurening</a></li>\\n<li><a tabindex=\"13\" href=\"/data/trafikstoej/\">Trafikst&oslash;j</a></li>\\n<li><a tabindex=\"14\" href=\"/data/vindmoelle/\">Vindmøller</a></li>\\n<li><a tabindex=\"15\" href=\"/data/indeklima/kemibyg/\">PCB-Asbest-Bly</a></li>\\n<li><a tabindex=\"16\" href=\"/data/risikovirksomhed/\">Risikovirksomheder</a></li>\\n<li><a tabindex=\"17\" href=\"/data/vandhaardhed/\">H&aring;rdhed af Drikkevand</a></li>\\n</ul>\\n</li>\\n<li class=\"dropdown dropdown-submenu\"><a href=\"javascript:void(0)\" class=\"dropdown-toggle\" data-toggle=\"dropdown\" rel=\"nofollow\">Risiko for oversv&oslash;mmelse</a>\\n<ul class=\"dropdown-menu\">\\n<li><a tabindex=\"30\" href=\"/data/skybrud/\">Skybrud</a></li>\\n<li><a tabindex=\"31\" href=\"/data/grundvand/\">Grundvandsstigning</a></li>\\n<li><a tabindex=\"32\" href=\"/data/vandloeb/\">Vandl&oslash;bsstigning</a></li>\\n<li><a tabindex=\"33\" href=\"/data/stormflod/\">Stormflod</a></li>\\n<li><a tabindex=\"34\" href=\"/data/klimatilpasning/\">Klimatilpasning</a></li>\\n</ul>\\n</li>\\n<li class=\"dropdown dropdown-submenu\"><a href=\"javascript:void(0)\" class=\"dropdown-toggle\" data-toggle=\"dropdown\" rel=\"nofollow\">Boligfakta og &Oslash;konomi</a>\\n<ul class=\"dropdown-menu\">\\n<li><a tabindex=\"51\" href=\"/data/bbr/\">Boligoplysninger</a></li>\\n<li><a tabindex=\"52\" href=\"/data/byggesag/\">Byggesager</a></li>\\n<li><a tabindex=\"53\" href=\"/data/ejendomsvurdering/\">Ejendomsvurdering</a></li>\\n<li><a tabindex=\"54\" href=\"/data/energimaerke/\">Energimærke</a></li>\\n<li><a tabindex=\"55\" href=\"/data/fjernvarme/\">Fjernvarme</a></li>\\n<li><a tabindex=\"56\" href=\"/data/salgspriser/\">Salgspriser</a></li>\\n<li><a tabindex=\"57\" href=\"/data/tinglysning/\">Tinglysning</a></li>\\n<li><a tabindex=\"58\" href=\"/data/haeftelser/\">H&aelig;ftelser</a></li>\\n<li><a tabindex=\"59\" href=\"/data/servitut/\">Servitut</a></li>\\n<li><a tabindex=\"60\" href=\"/data/fbb/\">Fredning</a></li>\\n</ul>\\n</li>\\n<li class=\"dropdown dropdown-submenu\"><a href=\"javascript:void(0)\" class=\"dropdown-toggle\" data-toggle=\"dropdown\" rel=\"nofollow\">Lokalomr&aring;det</a>\\n<ul class=\"dropdown-menu\">\\n<li><a tabindex=\"70\" href=\"/data/conzoom/\">Naboerne</a></li>\\n<li><a tabindex=\"71\" href=\"/data/indbrudsrisiko/\">Indbrudsrisiko</a></li>\\n<li><a tabindex=\"72\" href=\"/data/plan/\">Lokalplaner</a></li>\\n<li><a tabindex=\"73\" href=\"/data/geo/\">Geologi og Geoteknik</a></li>\\n<li><a tabindex=\"74\" href=\"/data/boringer/\">Geologiske Boringer</a></li>\\n<li><a tabindex=\"75\" href=\"/data/grundskoler/\">Grundskoler</a></li>\\n<li><a tabindex=\"76\" href=\"/data/luftfoto/\">Luftfoto</a></li>\\n</ul>\\n</li>\\n<li class=\"dropdown dropdown-submenu\"><a href=\"javascript:void(0)\" class=\"dropdown-toggle\" data-toggle=\"dropdown\" rel=\"nofollow\">Kommuneinfo</a>\\n<ul class=\"dropdown-menu\">\\n<li><a tabindex=\"40\" href=\"/data/noegletal/\">N&oslash;gletal</a></li>\\n</ul>\\n</li>\\n<li class=\"dropdown dropdown-submenu\"><a href=\"javascript:void(0)\" class=\"dropdown-toggle\" data-toggle=\"dropdown\" rel=\"nofollow\">Internet og Mobil</a>\\n<ul class=\"dropdown-menu\">\\n<li><a tabindex=\"90\" href=\"/data/internet/\">Bredb&aring;ndsmuligheder</a></li>\\n<li><a tabindex=\"91\" href=\"/data/mobilcover/\">Mobild&aelig;kning</a></li>\\n<li><a tabindex=\"92\" href=\"/data/mobilmaster/\">Mobilmaster</a></li>\\n</ul>\\n</li>\\n<li class=\"dropdown dropdown-submenu\"><a href=\"javascript:void(0)\" class=\"dropdown-toggle\" data-toggle=\"dropdown\" rel=\"nofollow\">Dataoversigter</a>\\n<ul class=\"dropdown-menu\">\\n<li><a tabindex=\"210\" href=\"/oversigt/\">Adresser</a></li>\\n<li><a tabindex=\"211\" href=\"/dagligvare/\">Dagligvarer</a></li>\\n<li><a tabindex=\"212\" href=\"/apotek/\">Apoteker</a></li>\\n<li><a tabindex=\"213\" href=\"/fjernvarme/\">Fjernvarme</a></li>\\n<li><a tabindex=\"214\" href=\"/renseanlaeg/\">Renseanlæg</a></li>\\n<li><a tabindex=\"215\" href=\"/risikovirksomhed/\">Risikovirksomheder</a></li>\\n</ul>\\n</li>\\n</ul>\\n</li>\\n<li class=\"dropdown\"><a href=\"javascript:void(0)\" class=\"dropdown-toggle\" data-toggle=\"dropdown\" rel=\"nofollow\">Interaktive kort <b class=\"caret\"></b></a>\\n<ul class=\"dropdown-menu\">\\n<li class=\"dropdown dropdown-submenu\"><a href=\"javascript:void(0)\" class=\"dropdown-toggle\" data-toggle=\"dropdown\">Sundhed og Sikkerhed</a>\\n<ul class=\"dropdown-menu\">\\n<li><a tabindex=\"101\" href=\"/kort/radon/\">Radonrisiko</a></li>\\n<li><a tabindex=\"102\" href=\"/kort/jord/\">Jordforurening</a></li>\\n<li><a tabindex=\"102\" href=\"/kort/luftforurening/\">Luftforurening</a></li>\\n<li><a tabindex=\"103\" href=\"/kort/noise/\">TrafikSt&oslash;j</a></li>\\n<li><a tabindex=\"104\" href=\"/kort/vindmoelle/\">Vindmøllekort</a></li>\\n<li><a tabindex=\"105\" href=\"/kort/risikovirksomhed/\">Risikovirksomheder</a></li>\\n<li><a tabindex=\"104\" href=\"/kort/mobilmast/\">Mastekort</a></li>\\n</ul>\\n</li>\\n<li class=\"dropdown dropdown-submenu\"><a href=\"javascript:void(0)\" class=\"dropdown-toggle\" data-toggle=\"dropdown\" rel=\"nofollow\">Risiko for oversv&oslash;mmelse</a>\\n<ul class=\"dropdown-menu\">\\n<li><a tabindex=\"110\" href=\"/kort/flood/\">Ekstremregn</a></li>\\n<li><a tabindex=\"111\" href=\"/kort/searise/\">Havvand</a></li>\\n<li><a tabindex=\"112\" href=\"/kort/streamflood/\">Vandl&oslash;bsoversv&oslash;mmelse</a></li>\\n</ul>\\n</li>\\n<li class=\"dropdown dropdown-submenu\"><a href=\"javascript:void(0)\" class=\"dropdown-toggle\" data-toggle=\"dropdown\" rel=\"nofollow\">Lokalomr&aring;det</a>\\n<ul class=\"dropdown-menu\">\\n<li><a tabindex=\"120\" href=\"/kort/krimi/\">Indbrudsrisiko</a></li>\\n<li><a tabindex=\"121\" href=\"/kort/geo/\">Geologisk kort</a></li>\\n<li><a tabindex=\"122\" href=\"/kort/plan/\">Lokalplaner</a></li>\\n</ul>\\n</li>\\n</ul>\\n</li>\\n<li class=\"dropdown\"><a href=\"javascript:void(0)\" class=\"dropdown-toggle\" data-toggle=\"dropdown\" rel=\"nofollow\">Om DinGeo <b class=\"caret\"></b></a>\\n<ul class=\"dropdown-menu\">\\n<li><a tabindex=\"200\" href=\"/om/\">Om DinGeo</a></li>\\n<li><a tabindex=\"201\" href=\"/om/tos/\">Servicevilkår</a></li>\\n<li><a tabindex=\"202\" href=\"/om/produkter\">Produkter</a></li>\\n<li><a tabindex=\"203\" href=\"/cookies/\">Cookies</a></li>\\n<li><a tabindex=\"205\" href=\"/kontakt/\">Kontakt</a></li>\\n</ul>\\n</li>\\n</ul>\\n<ul class=\"nav navbar-nav navbar-right ng-cloak\">\\n<li class=\"dropdown\"><a href=\"javascript:void(0)\" class=\"dropdown-toggle\" data-toggle=\"dropdown\" rel=\"nofollow\">Boligkøber <b class=\"caret\"></b></a>\\n<ul class=\"dropdown-menu\">\\n<li><a tabindex=\"300\" href=\"https://udenombanken.dk/vaelg-laanetype?utm_source=dingeo&utm_medium=header&utm_campaign=dingeo-henvisning\" target=\"_blank\" rel=\"noreferrer\" onClick=\"ga(\\'create\\', \\'UA-18778843-11\\', \\'auto\\'); ga(\\'send\\', \\'event\\', { eventCategory: \\'Udenombanken link Header\\', eventAction: \\'click\\', eventLabel: event.target.href, transport: \\'beacon\\' });\">Boliglån (UdenomBanken.dk)</a></li>\\n<li><a tabindex=\"301\" href=\"https://www.boliga.dk/skoede\" target=\"_blank\" rel=\"noreferrer\" onClick=\"ga(\\'create\\', \\'UA-18778843-11\\', \\'auto\\'); ga(\\'send\\', \\'event\\', { eventCategory: \\'Boliga Skoede Header\\', eventAction: \\'click\\', eventLabel: event.target.href, transport: \\'beacon\\' });\">Køb skøde (Boliga.dk)</a></li>\\n</ul>\\n</li>\\n<li class=\"dropdown\"><a href=\"javascript:void(0)\" class=\"dropdown-toggle\" data-toggle=\"dropdown\" rel=\"nofollow\">Boligsælger <b class=\"caret\"></b></a>\\n<ul class=\"dropdown-menu\">\\n<li><a tabindex=\"400\" href=\"https://www.selvsalg.dk/\" target=\"_blank\" rel=\"noreferrer\" onClick=\"ga(\\'create\\', \\'UA-18778843-11\\', \\'auto\\'); ga(\\'send\\', \\'event\\', { eventCategory: \\'Selvsalg Link Header\\', eventAction: \\'click\\', eventLabel: event.target.href, transport: \\'beacon\\' });\">Sælg boligen selv (selvsalg.dk)</a></li>\\n<li><a tabindex=\"401\" href=\"https://tilstandsrapport.dk/?utm_medium=header&utm_source=dingeo&utm_campaign=dingeo-henvisning\" target=\"_blank\" rel=\"noreferrer\" onClick=\"ga(\\'create\\', \\'UA-18778843-11\\', \\'auto\\'); ga(\\'send\\', \\'event\\', { eventCategory: \\'Tilstandsrapport Link Header\\', eventAction: \\'click\\', eventLabel: event.target.href, transport: \\'beacon\\' });\">Køb tilstandsrapport (tilstandsrapport.dk)</a></li>\\n</ul>\\n</li>\\n</button>\\n</ul>\\n</div>\\n</div>\\n</div>\\n<style type=\"text/css\" media=\"screen\">\\r\\n    div.toggle a { cursor: pointer; }\\r\\n    .slider-selection {\\r\\n        background: #89cdef;\\r\\n    }\\r\\n\\r\\n    /*\\r\\n      Allow angular.js to be loaded in body, hiding cloaked elements until templates compile.\\r\\n      https://stackoverflow.com/questions/11249768/angularjs-ng-cloak-ng-show-elements-blink\\r\\n     */\\r\\n    [ng\\\\:cloak], [ng-cloak], .ng-cloak {\\r\\n        display: none !important;\\r\\n    }\\r\\n</style>\\n<div class=\"container\">\\n<div class=\"row clearfix\">\\n<div class=\"col-md-12\">\\n<div class=\"panel panel-default panel-shadow\">\\n<div class=\"panel-body\">\\n<div class=\"intro\">\\n<h1 ng-bind=\"titleTxt\"></h1>\\n</div>\\n<i class=\\'icon-spinner icon-spin icon-large\\'></i>\\n<form role=\"form\" ng-submit=\"submit()\">\\n<div class=\"form-group\">\\n<div class=\"row\" style=\"padding: 1.5em 0;\">\\n<div class=\"col-md-6\">\\n<div class=\"input-group\">\\n<span class=\"input-group-addon\"><i class=\"glyphicon glyphicon-arrow-right icon-large\" id=\"searchicon\"></i></span>\\n<input name=\"postnumre\" id=\"postnumre\" type=\"text\" ng-init=\"selectedpostnr=postnr\" placeholder={{inputPlaceholder}} ng-model=\"selectedpostnr\" typeahead=\"postnr for postnr in postnumre | filter:$viewValue | limitTo:8\" class=\"form-control input-lg ui-autocomplete-input\" typeahead-on-select=\\'onSelect($postnr, $model, $label)\\' />\\n<span class=\"input-group-addon\" ng-click=\"onClear()\">X</span>\\n</div>\\n</div>\\n<div class=\"col-md-6 toggle\">\\n<a data-target=\"#udvidetsearch\" data-toggle=\"collapse\">\\nUdvidet søgning <span class=\"servicedrop glyphicon glyphicon-chevron-right\"></span>\\n</a>\\n</div>\\n</div>\\n<div id=\"udvidetsearch\" class=\"collapse\" ng-cloak>\\n<div class=\"row\">\\n<div class=\"col-md-4\">\\n<div class=\"filter\">\\n<h4>Kontantpris ({{prisinterval[0] | number }} - {{prisinterval[1] | number }} kr {{prisinterval[1] === 10000000 ? \" +\" : \"\"}})</h4>\\n<input id=\"sliderpris\" data-slider-tooltip=\"hide\" data-slider-step=\"250000\" />\\n</div>\\n<div class=\"filter\">\\n<h4>Byggeår ({{byggeaarinterval[0] === 1900 ? \"- \" : \"\"}}{{byggeaarinterval[0]}} - {{byggeaarinterval[1]}})</h4>\\n<input id=\"sliderbyggeaar\" data-slider-tooltip=\"hide\" />\\n</div>\\n<div class=\"filter\">\\n<h4>Liggetid ({{liggetidinterval[0]}} - {{liggetidinterval[1]}} dage {{liggetidinterval[1] === 365 ? \" +\" : \"\"}})</h4>\\n<input id=\"sliderliggetid\" data-slider-tooltip=\"hide\" />\\n</div>\\n<div class=\"filter\">\\n<h4>Energimærke ({{energimaerkeinterval[0]}} - {{energimaerkeinterval[1]}})</h4>\\n<input id=\"sliderernergimaerke\" data-slider-tooltip=\"hide\" />\\n</div>\\n<div class=\"filter\">\\n<h4>Trafikstøj ({{noiseinterval[0]}} - {{noiseinterval[1]}} dB {{noiseinterval[1] === 75 ? \" +\" : \"\"}})</h4>\\n<input id=\"slidernoise\" data-slider-tooltip=\"hide\" />\\n</div>\\n</div>\\n<div class=\"col-md-4\">\\n<div class=\"filter\">\\n<h4>4G Mobildækning ({{mobilinterval[0]}} - {{mobilinterval[1]}} Mbit/s {{mobilinterval[1] === 200 ? \" +\" : \"\"}})</h4>\\n<input id=\"slidermobil\" data-slider-tooltip=\"hide\" />\\n</div>\\n<div class=\"filter\">\\n<h4>Afstand til mobilmast ({{mastinterval[0] | number}} - {{mastinterval[1] | number }} meter{{mastinterval[1] === 5000 ? \" +\" : \"\"}})</h4>\\n<input id=\"slidermastafstand\" data-slider-tooltip=\"hide\" />\\n</div>\\n<div class=\"filter\">\\n<h4>Indbrudsrisiko ({{indbrudinterval[0] | number}} - {{indbrudinterval[1] | number }} procent{{indbrudinterval[1] === 10 ? \" +\" : \"\"}})</h4>\\n<input id=\"sliderindbrudsrisiko\" data-slider-tooltip=\"hide\" />\\n</div>\\n<div class=\"filter\">\\n<h4>Bevaringsværdi ({{bevaringsvaerdighedinterval[0] | number}} - {{bevaringsvaerdighedinterval[1] === 10 ? \"ikke bevar.\" : bevaringsvaerdighedinterval[1]}})</h4>\\n<input id=\"sliderbevaringsvaerdi\" data-slider-tooltip=\"hide\" />\\n</div>\\n</div>\\n<div class=\"col-md-4\">\\n\\n<h4>Boligtyper</h4>\\n<div class=\"checkbox\" ng-repeat=\"(type,enabled) in houseTypes\">\\n<label class=\"form-check-label\">\\n<input class=\"form-check-input\" type=\"checkbox\" ng-model=\"houseTypes[type]\" ng-change=\"stateChanged()\"> {{type}}\\n</label>\\n</div>\\n</div>\\n</div>\\n</div>\\n</div>\\n</form>\\n<div class=\"filters\">\\n<div class=\"row\">\\n<div class=\"col-md-12\">\\n<div ng-if=\"!postnr\">\\n<a href=\"/salg/kort/\" class=\"btn btn-primary\"><i class=\"glyphicon glyphicon-map-marker\"></i> Se på Kort</a>\\n</div>\\n<div ng-if=\"postnr\">\\n<a href=\"/salg/kort/#?postnr={{postnr}}\" class=\"btn btn-primary\"><i class=\"glyphicon glyphicon-map-marker\"></i> Se postnr {{postnr}} på Kort</a>\\n</div>\\n<div class=\"form-group\">\\n <label for=\"sel1\">Sortér efter:</label>\\n<select class=\"form-control\" id=\"sel1\" ng-model=\"orderby\" ng-change=\"stateChanged()\">\\n<option value=\"orderby=order by fromdate desc, boligaUniqueNumber asc\" selected>Liggetid (lavest først)</option>\\n<option value=\"orderby=order by COALESCE(CURDATE(),fromdate) asc, boligaUniqueNumber asc\">Liggetid (højest først)</option>\\n<option value=\"orderby=order by udbudspris asc, boligaUniqueNumber asc\">Pris (lavest først)</option>\\n<option value=\"orderby=order by udbudspris desc, boligaUniqueNumber asc\">Pris (højest først)</option>\\n<option value=\"orderby=order by boligm2 asc, boligaUniqueNumber asc\">Størrelse (lavest først)</option>\\n<option value=\"orderby=order by boligm2 desc, boligaUniqueNumber asc\">Størrelse (højest først)</option>\\n</select>\\n<br>\\n</div>\\n<h2 class=\"panel-title\" ng-cloak>\\n<i class=\\'icon-spinner icon-spin icon-large\\' id=\\'statusicon\\'></i>\\n{{dataCount | number}} boliger\\n</h2>\\n</div>\\n</div>\\n</div>\\n<style type=\"text/css\" media=\"screen\">\\r\\n                        div.toggle {\\r\\n                            padding: 0.9em 0 0.9em 1em;\\r\\n                            font-size: 1.1em;\\r\\n                        }\\r\\n                        div.toggle a { text-decoration: none; }\\r\\n                        div.filter { margin: 0 0 2em 0; }\\r\\n                        div.filters {\\r\\n                            margin: 0 0 2.5em 0;\\r\\n                            padding: 1.5em 0 0 0;\\r\\n                            border-top: 1px solid #eee;\\r\\n                            border-bottom: 1px solid #eee;\\r\\n                        }\\r\\n                        div.filters a { float: right; }\\r\\n                        div.filters h2 { float: left; line-height: 1.5em; }\\r\\n                        div.filters div.form-group {\\r\\n                            float: right;\\r\\n                            margin: 0 1.5em 0 0;\\r\\n                        }\\r\\n                        div.filters div.form-group label { display: none; }\\r\\n                        div.filters div.form-group select { width: auto !important; }\\r\\n                        div.listings {\\r\\n                        }\\r\\n                        div.listings div.listing { margin: 0 0 30px 0; }\\r\\n\\r\\n                        div.listings div.listing div.listing-image {\\r\\n                            height: 175px;\\r\\n                            background: #fff url(\\'/img/bg-bolig-icon.png\\') no-repeat;\\r\\n                            background-size: contain;\\r\\n                            overflow: hidden;\\r\\n                            border: 1px solid #eee;\\r\\n                        }\\r\\n                        div.listings div.listing div.listing-image img { max-height: 233px; }\\r\\n\\r\\n                        div.listings div.listing div.listing-info { position: relative; height: 200px; overflow: hidden; padding: 50px 20px 20px 20px; background: #f7f5fa; }\\r\\n                        div.listings div.listing div.listing-info div.listing-price {\\r\\n                            position: absolute; left: 0; top: 0; width: 100%; padding: 8px 20px; border-bottom: 1px solid #eee;\\r\\n                        }\\r\\n                        div.listings div.listing div.listing-info p.type { font-size: 0.9em; vertical-align: bottom; }\\r\\n                        div.listings div.listing div.listing-info p.type img { margin: -0.3em 0.3em 0 0; }\\r\\n                        div.listings div.listing div.listing-info div.listing-price span.size { float: right; font-size: .9em; }\\r\\n\\r\\n                        @media (max-width: 767px) {\\r\\n                            div.listings {\\r\\n                            }\\r\\n                            div.listings div.listing { clear: both; }\\r\\n                            div.listings div.listing div.listing-image { float: left; width: 50%; height: auto; min-height: 160px; margin-bottom: 30px; }\\r\\n                            div.listings div.listing div.listing-info { float: right; width: 50%; margin-bottom: 30px; height: auto; overflow: inherit; background: none; }\\r\\n                        }\\r\\n\\r\\n                        .glyphicon-spin {\\r\\n                            -webkit-animation: spin 1000ms infinite linear;\\r\\n                            animation: spin 1000ms infinite linear;\\r\\n                        }\\r\\n\\r\\n                        @-webkit-keyframes spin {\\r\\n                            0% {\\r\\n                                -webkit-transform: rotate(0deg);\\r\\n                                transform: rotate(0deg);\\r\\n                            }\\r\\n                            100% {\\r\\n                                -webkit-transform: rotate(359deg);\\r\\n                                transform: rotate(359deg);\\r\\n                            }\\r\\n                        }\\r\\n                        @keyframes spin {\\r\\n                            0% {\\r\\n                                -webkit-transform: rotate(0deg);\\r\\n                                transform: rotate(0deg);\\r\\n                            }\\r\\n                            100% {\\r\\n                                -webkit-transform: rotate(359deg);\\r\\n                                transform: rotate(359deg);\\r\\n                            }\\r\\n                        }\\r\\n\\r\\n                        .slider.slider-horizontal {\\r\\n                            width: 300px;\\r\\n                            height: 20px;\\r\\n                        }\\r\\n                    </style>\\n<div infinite-scroll=\\'tilSalgListe.nextPage()\\' infinite-scroll-disabled=\\'tilSalgListe.busy\\' infinite-scroll-distance=\\'0\\'>\\n<div class=\"listings\" ng-cloak>\\n<div class=\"row\">\\n<div ng-repeat=\\'value in tilSalgListe.items\\' class=\"col-sm-4 col-md-3 listing\">\\n<div class=\"listing-image\">\\n<div ng-if=\"!value.etage && !value.door\">\\n<a href=\"/adresse/{{value.postnr}}-{{value.postnrby | lowercase}}/{{value.vejnavn | lowercase}}-{{value.husnr | lowercase}}/\">\\n<div ng-if=\"value.imageFetched == 2\">\\n<img ng-src=\"{{value.imageUrl}}\" width=\"100%\" alt=\"{{value.boligsidevejnavnognr}}\" />\\n</div>\\n<div ng-if=\"value.imageFetched!==2\">\\n<img ng-src=\"{{\\'https://services.datafordeler.dk/GeoDanmarkOrto/orto_foraar/1.0.0/WMS?username=HWCFKQOFKF&password=Datafordeler2015&VERSION=1.1.1&REQUEST=GetMap&TRANSPARENT=TRUE&SERVICENAME=orto_foraar&LAYERS=orto_foraar&FORMAT=image%2Fpng&STYLES=&SRS=EPSG%3A4326&width=260&height=173&BBOX=\\'+(value.lon_aws-0.0005)+\\',\\'+(value.lat_aws-0.00028)+\\',\\'+(value.lon_aws+0.0005)+\\',\\'+(value.lat_aws+0.00028)+\\'\\'}}\">\\n</div>\\n</a>\\n</div>\\n<div ng-if=\"value.etage || value.door\">\\n<a href=\"/adresse/{{value.postnr}}-{{value.postnrby | lowercase}}/{{value.vejnavn | lowercase}}-{{value.husnr | lowercase}}/{{value.etage | lowercase}}-{{value.door | lowercase}}/\">\\n<div ng-if=\"value.imageFetched == 2\">\\n<img ng-src=\"{{\\'https://storage.googleapis.com/tilsalgbilled/\\'+value.adresseid}}.jpg\" width=\"100%\" alt=\"{{value.boligsidevejnavnognr}}\" />\\n</div>\\n<div ng-if=\"value.imageFetched!==2\">\\n<img ng-src=\"{{\\'https://services.datafordeler.dk/GeoDanmarkOrto/orto_foraar/1.0.0/WMS?username=HWCFKQOFKF&password=Datafordeler2015&VERSION=1.1.1&REQUEST=GetMap&TRANSPARENT=TRUE&SERVICENAME=orto_foraar&LAYERS=orto_foraar&FORMAT=image%2Fpng&STYLES=&SRS=EPSG%3A4326&width=260&height=173&BBOX=\\'+(value.lon_aws-0.0005)+\\',\\'+(value.lat_aws-0.00028)+\\',\\'+(value.lon_aws+0.0005)+\\',\\'+(value.lat_aws+0.00028)+\\'\\'}}\">\\n</div>\\n</a>\\n</div>\\n</div>\\n<div class=\"listing-info\">\\n<p class=\"type\">\\n<div ng-if=\"!!value.energimaerke\">\\n<a href=\"http://sparenergi.dk/forbruger/vaerktoejer/det-digitale-energimaerke#Adresse/{{value.vejnavn}}%20{{value.husnr}}%2c%20{{value.postnr}}%20{{value.postnrby}}\" target=\"_blank\" rel=\"nofollow\" data-toggle=\"popover\" title=\"Se det digitale energimærke\" data-placement=\"top\" data-content=\"\">\\n<img ng-src=\"/img/energy/{{value.energimaerke | firstletter}}-info.png\" width=\"20\">\\n</a>\\n{{value.boligtype}} - {{value.boligm2}} m<sup>2</sup> - {{value.rooms}} vær.\\n</div>\\n<div ng-if=\"!value.energimaerke\">\\n<div ng-if=\"value.boligtype.indexOf(\\'grund\\') > -1\"> \\n{{value.boligtype}} - {{value.grundm2}} m<sup>2</sup>\\n</div>\\n<div ng-if=\"value.boligtype.indexOf(\\'grund\\') == -1\">\\n{{value.boligtype}} - {{value.boligm2}} m<sup>2</sup> - {{value.rooms}} vær.\\n</div>\\n</div>\\n</p>\\n<div ng-if=\"!value.etage && !value.door\">\\n<a href=\"/adresse/{{value.postnr}}-{{value.postnrby | lowercase}}/{{value.vejnavn | lowercase}}-{{value.husnr | lowercase}}/\">\\n<strong>{{value.vejnavn}} {{value.husnr}}</strong><br />\\n{{value.postnr}} {{value.postnrby}}\\n</a>\\n</div>\\n<div ng-if=\"value.etage || value.door\">\\n<a href=\"/adresse/{{value.postnr}}-{{value.postnrby | lowercase}}/{{value.vejnavn | lowercase}}-{{value.husnr | lowercase}}/{{value.etage | lowercase}}-{{value.door | lowercase}}/\">\\n<strong>{{value.vejnavn}} {{value.husnr}}, {{value.etage}} {{value.door}}</strong><br />\\n{{value.postnr}} {{value.postnrby}}\\n</a>\\n</div>\\n<br />\\n<small class=\"pull-right\">liggetid: {{value.liggetid}} dage</small>\\n<div class=\"listing-price\"><strong>Kontant: {{value.udbudspris | number}}</strong></div>\\n</div>\\n</div>\\n<div ng-show=\"dataCount > 12\">\\n<div style=\"text-align: center; margin: 0 0 2em 0;\">\\n<div ng-show=\\'tilSalgListe.page==2\\'>\\n<a class=\"btn btn-default\" ng-click=\"tilSalgListe.setHentFlere();\"><i class=\"glyphicon glyphicon-import\"></i> Hent Flere Boliger </a>\\n</div>\\n<div ng-show=\\'tilSalgListe.busy\\' class=\"center\">\\n<span class=\"glyphicon glyphicon-refresh glyphicon-spin\"></span> Henter data...\\n</div>\\n</div>\\n</div>\\n</div>\\n</div>\\n</div>\\n</div>\\n</div>\\n</div>\\n</div>\\n</div>\\n<style type=\"text/css\" media=\"screen\">\\r\\n    div.bs-footer {\\r\\n        margin-top: 4em;\\r\\n        padding: 3em 0;\\r\\n        color: #fff;\\r\\n        background: #333;\\r\\n    }\\r\\n    div.bs-footer div.row {  }\\r\\n    div.bs-footer h4 {\\r\\n        margin: 0 0 1.2em 0;\\r\\n        padding: 0 0 1.2em 0;\\r\\n        color: #fff;\\r\\n        font-weight: bold;\\r\\n        border-bottom: 1px solid #444;\\r\\n    }\\r\\n    div.bs-footer ul { margin: 0; padding: 0; }\\r\\n    div.bs-footer-social {\\r\\n        padding: 1em 0 1.5em 0;\\r\\n        background: #333;\\r\\n        border-top: 1px solid #444;\\r\\n    }\\r\\n    div.bs-footer-social ul { margin: 0; padding: 0; }\\r\\n    div.bs-footer-social ul li { margin: 0 0.5em; }\\r\\n    div.bs-footer-social i { font-size: 1.4em; }\\r\\n    div.bs-footer-social a { color: #fff; }\\r\\n    div.bs-footer-social a:hover { color: #bbb; }\\r\\n</style>\\n<div class=\"bs-footer col-md-12 ng-scope\">\\n<div class=\"container\">\\n<div class=\"row\">\\n<div class=\"col-md-4\">\\n<h4><i class=\"fa fa-address-book\" aria-hidden=\"true\"></i>&nbsp; Kontakt</h4>\\n<address>\\n<strong>Dingeo.dk Aps</strong><br />\\n&Oslash;ster Alle 48, 4.tv (t&aring;rn D) <br />\\n2100 K&oslash;benhavn<br />\\nCVR: 37068314 <br />\\nEmail: <a href=\"mailto:admin@dingeo.dk\">admin@dingeo.dk</a><br />\\n</address>\\n</div>\\n<div class=\"col-md-4\">\\n<h4><i class=\"fas fa-info-circle\"></i>&nbsp; Info</h4>\\n<ul class=\"list-unstyled\">\\n<li><a tabindex=\"-1\" href=\"/om/\">Data p&aring; Dingeo.dk</a></li>\\n<li><a tabindex=\"-1\" href=\"/kommune/\">Kommunale N&oslash;gletal</a></li>\\n<li><a tabindex=\"-1\" href=\"/om/produkter/\">Produkter</a></li>\\n<li><a tabindex=\"-1\" href=\"/cookies/\">Cookies</a></li>\\n<li><a tabindex=\"-1\" href=\"/om/persondata/\">Persondatapolitik</a></li>\\n</ul>\\n</div>\\n<div class=\"col-md-4\">\\n<h4><i class=\"fas fa-bullhorn\"></i>&nbsp; Brugsbetingelser</h4>\\nDingeo.dk\\'s indhold og data m&aring; ikke anvendes kommercielt uden forudg&aring;ende aftale med DinGeo.dk ApS.\\nBrugen af dingeo.dk m&aring; alene foretages af privatpersoner til egne form&aring;l. <a href=\"/om/tos/\">L&aelig;s mere &raquo;</a>\\n</div>\\n</div>\\n</div>\\n</div>\\n<div class=\"bs-footer-social col-md-12\">\\n<div class=\"container\">\\n<div class=\"row\">\\n<div class=\"col-md-12 text-center\">\\n<div class=\"bs-docs-social\">\\n<ul class=\"bs-docs-social-buttons list-inline\">\\n<li class=\"facebook-btn\">\\n<a class=\"btn btn-social-icon btn-facebook\" href=\"https://www.facebook.com/dinegeodata\" target=\"_blank\" rel=\"nofollow noreferrer\"><i class=\"fab fa-facebook-square\"></i></a>\\n</li>\\n<li class=\"twitter-btn\">\\n<a class=\"btn btn-social-icon btn-twitter\" href=\"https://twitter.com/priisager\" target=\"_blank\" rel=\"nofollow noreferrer\"><i class=\"fab fa-twitter-square\"></i></a>\\n</li>\\n<li class=\"linkedin-btn\">\\n<a class=\"btn btn-social-icon btn-linkedin\" href=\"https://www.linkedin.com/company/dingeo/\" target=\"_blank\" rel=\"nofollow noreferrer\"><i class=\"fab fa-linkedin\"></i></a>\\n</li>\\n</ul>\\n</div>\\n</div>\\n</div>\\n</div>\\n</div>\\n<script src=\"https://ajax.googleapis.com/ajax/libs/jquery/2.1.4/jquery.min.js\"></script>\\n<script src=\"https://cdnjs.cloudflare.com/ajax/libs/jqueryui/1.11.4/jquery-ui.min.js\"></script>\\n<script async src=\"/js/bootstrap.min.js\"></script>\\n<script src=\"https://ajax.googleapis.com/ajax/libs/angularjs/1.4.8/angular.min.js\"></script>\\n<script src=\"https://ajax.googleapis.com/ajax/libs/angularjs/1.4.8/angular-route.min.js\"></script>\\n<script src=\"https://ajax.googleapis.com/ajax/libs/angularjs/1.4.8/angular-sanitize.min.js\"></script>\\n<script src=\"//angular-ui.github.io/bootstrap/ui-bootstrap-tpls-0.12.0.js\"></script>\\n<script src=\"https://cdnjs.cloudflare.com/ajax/libs/ngInfiniteScroll/1.3.0/ng-infinite-scroll.min.js\"></script>\\n<script src=\"/js/tilsalglistebol.js?ver=1.04\"> </script>\\n<script>$.fn.slider = null</script>\\n<script src=\"https://cdnjs.cloudflare.com/ajax/libs/bootstrap-slider/10.2.0/bootstrap-slider.min.js\"></script>\\n<script type=\"text/javascript\" src=\"/js/bootstrap-submenu-dist/js/bootstrap-submenu.min.js\"></script>\\n<script>(function(){var js = \"window[\\'__CF$cv$params\\']={r:\\'7378788fab1fabcc\\',m:\\'VaSEyarFmKrj_Puj2tiG7NbY12kaeKyaMD9gPPmFWxM-1659964004-0-AYO2G1jRelBMVQvEDACMPmQVlW/uhs9bewqNVnQj9JB4iPkRD8MfcS39IAB73VCxkbJIe8Ak/l/oPgCYQqoC7lwZwJw+9R+UFtPiqs5kUqgpz383/PLLbt/e+VIhyuvN8w==\\',s:[0x405220fd71,0x580b075395],u:\\'/cdn-cgi/challenge-platform/h/g\\'};var now=Date.now()/1000,offset=14400,ts=\\'\\'+(Math.floor(now)-Math.floor(now%offset)),_cpo=document.createElement(\\'script\\');_cpo.nonce=\\'\\',_cpo.src=\\'/cdn-cgi/challenge-platform/h/g/scripts/alpha/invisible.js?ts=\\'+ts,document.getElementsByTagName(\\'head\\')[0].appendChild(_cpo);\";var _0xh = document.createElement(\\'iframe\\');_0xh.height = 1;_0xh.width = 1;_0xh.style.position = \\'absolute\\';_0xh.style.top = 0;_0xh.style.left = 0;_0xh.style.border = \\'none\\';_0xh.style.visibility = \\'hidden\\';document.body.appendChild(_0xh);function handler() {var _0xi = _0xh.contentDocument || _0xh.contentWindow.document;if (_0xi) {var _0xj = _0xi.createElement(\\'script\\');_0xj.nonce = \\'\\';_0xj.innerHTML = js;_0xi.getElementsByTagName(\\'head\\')[0].appendChild(_0xj);}}if (document.readyState !== \\'loading\\') {handler();} else if (window.addEventListener) {document.addEventListener(\\'DOMContentLoaded\\', handler);} else {var prev = document.onreadystatechange || function () {};document.onreadystatechange = function (e) {prev(e);if (document.readyState !== \\'loading\\') {document.onreadystatechange = prev;handler();}};}})();</script><script defer src=\"https://static.cloudflareinsights.com/beacon.min.js/v652eace1692a40cfa3763df669d7439c1639079717194\" integrity=\"sha512-Gi7xpJR8tSkrpF7aordPZQlW2DLtzUlZcumS8dMQjwDHEnw9I7ZLyiOj/6tZStRBGtGgN6ceN6cMH8z7etPGlw==\" data-cf-beacon=\\'{\"rayId\":\"7378788fab1fabcc\",\"token\":\"7835d3b12320427383a8efa850ff0dc4\",\"version\":\"2022.6.0\",\"si\":100}\\' crossorigin=\"anonymous\"></script>\\n</body>\\n</html>'"
      ]
     },
     "execution_count": 57,
     "metadata": {},
     "output_type": "execute_result"
    }
   ],
   "source": [
    "URLtoCrawl = \"https://www.dingeo.dk/salg/#?kommune=751\"\n",
    "response = requests.get(URLtoCrawl)\n",
    "response.text"
   ]
  },
  {
   "cell_type": "code",
   "execution_count": 58,
   "metadata": {},
   "outputs": [
    {
     "ename": "JSONDecodeError",
     "evalue": "Expecting value: line 1 column 1 (char 0)",
     "output_type": "error",
     "traceback": [
      "\u001b[0;31m---------------------------------------------------------------------------\u001b[0m",
      "\u001b[0;31mJSONDecodeError\u001b[0m                           Traceback (most recent call last)",
      "\u001b[0;32m<ipython-input-58-8bd4a409b8c7>\u001b[0m in \u001b[0;36m<module>\u001b[0;34m\u001b[0m\n\u001b[0;32m----> 1\u001b[0;31m \u001b[0mresponse_json\u001b[0m \u001b[0;34m=\u001b[0m \u001b[0mresponse\u001b[0m\u001b[0;34m.\u001b[0m\u001b[0mjson\u001b[0m\u001b[0;34m(\u001b[0m\u001b[0;34m)\u001b[0m\u001b[0;34m\u001b[0m\u001b[0;34m\u001b[0m\u001b[0m\n\u001b[0m",
      "\u001b[0;32m~/miniconda3/lib/python3.9/site-packages/requests/models.py\u001b[0m in \u001b[0;36mjson\u001b[0;34m(self, **kwargs)\u001b[0m\n\u001b[1;32m    898\u001b[0m                     \u001b[0;31m# used.\u001b[0m\u001b[0;34m\u001b[0m\u001b[0;34m\u001b[0m\u001b[0;34m\u001b[0m\u001b[0m\n\u001b[1;32m    899\u001b[0m                     \u001b[0;32mpass\u001b[0m\u001b[0;34m\u001b[0m\u001b[0;34m\u001b[0m\u001b[0m\n\u001b[0;32m--> 900\u001b[0;31m         \u001b[0;32mreturn\u001b[0m \u001b[0mcomplexjson\u001b[0m\u001b[0;34m.\u001b[0m\u001b[0mloads\u001b[0m\u001b[0;34m(\u001b[0m\u001b[0mself\u001b[0m\u001b[0;34m.\u001b[0m\u001b[0mtext\u001b[0m\u001b[0;34m,\u001b[0m \u001b[0;34m**\u001b[0m\u001b[0mkwargs\u001b[0m\u001b[0;34m)\u001b[0m\u001b[0;34m\u001b[0m\u001b[0;34m\u001b[0m\u001b[0m\n\u001b[0m\u001b[1;32m    901\u001b[0m \u001b[0;34m\u001b[0m\u001b[0m\n\u001b[1;32m    902\u001b[0m     \u001b[0;34m@\u001b[0m\u001b[0mproperty\u001b[0m\u001b[0;34m\u001b[0m\u001b[0;34m\u001b[0m\u001b[0m\n",
      "\u001b[0;32m~/miniconda3/lib/python3.9/json/__init__.py\u001b[0m in \u001b[0;36mloads\u001b[0;34m(s, cls, object_hook, parse_float, parse_int, parse_constant, object_pairs_hook, **kw)\u001b[0m\n\u001b[1;32m    344\u001b[0m             \u001b[0mparse_int\u001b[0m \u001b[0;32mis\u001b[0m \u001b[0;32mNone\u001b[0m \u001b[0;32mand\u001b[0m \u001b[0mparse_float\u001b[0m \u001b[0;32mis\u001b[0m \u001b[0;32mNone\u001b[0m \u001b[0;32mand\u001b[0m\u001b[0;34m\u001b[0m\u001b[0;34m\u001b[0m\u001b[0m\n\u001b[1;32m    345\u001b[0m             parse_constant is None and object_pairs_hook is None and not kw):\n\u001b[0;32m--> 346\u001b[0;31m         \u001b[0;32mreturn\u001b[0m \u001b[0m_default_decoder\u001b[0m\u001b[0;34m.\u001b[0m\u001b[0mdecode\u001b[0m\u001b[0;34m(\u001b[0m\u001b[0ms\u001b[0m\u001b[0;34m)\u001b[0m\u001b[0;34m\u001b[0m\u001b[0;34m\u001b[0m\u001b[0m\n\u001b[0m\u001b[1;32m    347\u001b[0m     \u001b[0;32mif\u001b[0m \u001b[0mcls\u001b[0m \u001b[0;32mis\u001b[0m \u001b[0;32mNone\u001b[0m\u001b[0;34m:\u001b[0m\u001b[0;34m\u001b[0m\u001b[0;34m\u001b[0m\u001b[0m\n\u001b[1;32m    348\u001b[0m         \u001b[0mcls\u001b[0m \u001b[0;34m=\u001b[0m \u001b[0mJSONDecoder\u001b[0m\u001b[0;34m\u001b[0m\u001b[0;34m\u001b[0m\u001b[0m\n",
      "\u001b[0;32m~/miniconda3/lib/python3.9/json/decoder.py\u001b[0m in \u001b[0;36mdecode\u001b[0;34m(self, s, _w)\u001b[0m\n\u001b[1;32m    335\u001b[0m \u001b[0;34m\u001b[0m\u001b[0m\n\u001b[1;32m    336\u001b[0m         \"\"\"\n\u001b[0;32m--> 337\u001b[0;31m         \u001b[0mobj\u001b[0m\u001b[0;34m,\u001b[0m \u001b[0mend\u001b[0m \u001b[0;34m=\u001b[0m \u001b[0mself\u001b[0m\u001b[0;34m.\u001b[0m\u001b[0mraw_decode\u001b[0m\u001b[0;34m(\u001b[0m\u001b[0ms\u001b[0m\u001b[0;34m,\u001b[0m \u001b[0midx\u001b[0m\u001b[0;34m=\u001b[0m\u001b[0m_w\u001b[0m\u001b[0;34m(\u001b[0m\u001b[0ms\u001b[0m\u001b[0;34m,\u001b[0m \u001b[0;36m0\u001b[0m\u001b[0;34m)\u001b[0m\u001b[0;34m.\u001b[0m\u001b[0mend\u001b[0m\u001b[0;34m(\u001b[0m\u001b[0;34m)\u001b[0m\u001b[0;34m)\u001b[0m\u001b[0;34m\u001b[0m\u001b[0;34m\u001b[0m\u001b[0m\n\u001b[0m\u001b[1;32m    338\u001b[0m         \u001b[0mend\u001b[0m \u001b[0;34m=\u001b[0m \u001b[0m_w\u001b[0m\u001b[0;34m(\u001b[0m\u001b[0ms\u001b[0m\u001b[0;34m,\u001b[0m \u001b[0mend\u001b[0m\u001b[0;34m)\u001b[0m\u001b[0;34m.\u001b[0m\u001b[0mend\u001b[0m\u001b[0;34m(\u001b[0m\u001b[0;34m)\u001b[0m\u001b[0;34m\u001b[0m\u001b[0;34m\u001b[0m\u001b[0m\n\u001b[1;32m    339\u001b[0m         \u001b[0;32mif\u001b[0m \u001b[0mend\u001b[0m \u001b[0;34m!=\u001b[0m \u001b[0mlen\u001b[0m\u001b[0;34m(\u001b[0m\u001b[0ms\u001b[0m\u001b[0;34m)\u001b[0m\u001b[0;34m:\u001b[0m\u001b[0;34m\u001b[0m\u001b[0;34m\u001b[0m\u001b[0m\n",
      "\u001b[0;32m~/miniconda3/lib/python3.9/json/decoder.py\u001b[0m in \u001b[0;36mraw_decode\u001b[0;34m(self, s, idx)\u001b[0m\n\u001b[1;32m    353\u001b[0m             \u001b[0mobj\u001b[0m\u001b[0;34m,\u001b[0m \u001b[0mend\u001b[0m \u001b[0;34m=\u001b[0m \u001b[0mself\u001b[0m\u001b[0;34m.\u001b[0m\u001b[0mscan_once\u001b[0m\u001b[0;34m(\u001b[0m\u001b[0ms\u001b[0m\u001b[0;34m,\u001b[0m \u001b[0midx\u001b[0m\u001b[0;34m)\u001b[0m\u001b[0;34m\u001b[0m\u001b[0;34m\u001b[0m\u001b[0m\n\u001b[1;32m    354\u001b[0m         \u001b[0;32mexcept\u001b[0m \u001b[0mStopIteration\u001b[0m \u001b[0;32mas\u001b[0m \u001b[0merr\u001b[0m\u001b[0;34m:\u001b[0m\u001b[0;34m\u001b[0m\u001b[0;34m\u001b[0m\u001b[0m\n\u001b[0;32m--> 355\u001b[0;31m             \u001b[0;32mraise\u001b[0m \u001b[0mJSONDecodeError\u001b[0m\u001b[0;34m(\u001b[0m\u001b[0;34m\"Expecting value\"\u001b[0m\u001b[0;34m,\u001b[0m \u001b[0ms\u001b[0m\u001b[0;34m,\u001b[0m \u001b[0merr\u001b[0m\u001b[0;34m.\u001b[0m\u001b[0mvalue\u001b[0m\u001b[0;34m)\u001b[0m \u001b[0;32mfrom\u001b[0m \u001b[0;32mNone\u001b[0m\u001b[0;34m\u001b[0m\u001b[0;34m\u001b[0m\u001b[0m\n\u001b[0m\u001b[1;32m    356\u001b[0m         \u001b[0;32mreturn\u001b[0m \u001b[0mobj\u001b[0m\u001b[0;34m,\u001b[0m \u001b[0mend\u001b[0m\u001b[0;34m\u001b[0m\u001b[0;34m\u001b[0m\u001b[0m\n",
      "\u001b[0;31mJSONDecodeError\u001b[0m: Expecting value: line 1 column 1 (char 0)"
     ]
    }
   ],
   "source": [
    "response_json = response.json()\n",
    "response_json"
   ]
  },
  {
   "cell_type": "code",
   "execution_count": 59,
   "metadata": {},
   "outputs": [
    {
     "data": {
      "text/plain": [
       "<Response [200]>"
      ]
     },
     "execution_count": 59,
     "metadata": {},
     "output_type": "execute_result"
    }
   ],
   "source": [
    "response"
   ]
  },
  {
   "cell_type": "markdown",
   "metadata": {},
   "source": [
    "> **Ex. 5.4.2:** What object type is the API's JSON response? What about the individual items in the container? Convert the response object to a suitable format and answer the following questions:\n",
    "> 1) How many beers are there in the JSON object?\n",
    ">\n",
    "> 2) Print the response with and without the pretty printer. See any difference?\n",
    ">\n",
    "> 3) Now print only the names of the beers in the JSON object using lower case characters.\n",
    ">\n",
    "> 4) Select the beer called Rabiator from the JSON object. What is the suggested food pairing?\n",
    ">\n",
    "> 5) Select the beer called Hello My Name Is Beastie from the JSON object. Which malt ingredients does the Hello My Name Is Beastie contain?\n"
   ]
  },
  {
   "cell_type": "code",
   "execution_count": null,
   "metadata": {
    "nbgrader": {
     "grade": false,
     "grade_id": "cell-1c6a5eef920b6c70",
     "locked": false,
     "schema_version": 3,
     "solution": true,
     "task": false
    }
   },
   "outputs": [],
   "source": [
    "### BEGIN SOLUTION\n",
    "\n",
    "# format is json (see documentation)\n",
    "beers = response.json()\n",
    "\n",
    "# 1) How many beers are in the JSON object?\n",
    "print(f\"Number of beers {len(beers)} \\n\")\n",
    "\n",
    "# 2) Print the response with  the pretty printer\n",
    "pprint.pprint(beers)\n",
    "\n",
    "# 3) Print the names of the beers in the JSON object using lower case characters.\n",
    "print('Beer names:', [b['name'].lower() for b in beers], ' \\n')\n",
    "pprint.pprint(beers)\n",
    "\n",
    "# 4) Select the beer Rabiator from the JSON object. What is the suggested food pairing?\n",
    "print(f'{beers[13][\"name\"]} is the 14th last entry, i.e. index 13.  \\n')\n",
    "ra = beers[13]\n",
    "print('Suggested food pairing for the Rabiator is:', set(i for i in ra['food_pairing']), '\\n')\n",
    "\n",
    "# 5) Select the beer called Hello My Name Is Beastie from the JSON object. Which malt ingredients does the Bourbon Baby contain?\n",
    "print(f'{beers[-2][\"name\"]} is the 2nd last entry, i.e. index -2.  \\n')\n",
    "bb = beers[-2]\n",
    "print('Malt ingredients in Hello My Name Is Beastie:', set(i['name'] for i in bb['ingredients']['malt']))\n",
    "\n",
    "### END SOLUTION"
   ]
  },
  {
   "cell_type": "markdown",
   "metadata": {},
   "source": [
    "> **Ex. 5.4.3:** Save the beers as a JSON file on your machine.\n",
    "\n",
    "> _Hint:_ If still in doubt about how to do this, you might want to take a look at the [json](https://docs.python.org/3/library/json.html) module.\n"
   ]
  },
  {
   "cell_type": "code",
   "execution_count": null,
   "metadata": {
    "nbgrader": {
     "grade": false,
     "grade_id": "cell-d5feea65f34d4ab1",
     "locked": false,
     "schema_version": 3,
     "solution": true,
     "task": false
    }
   },
   "outputs": [],
   "source": [
    "### BEGIN SOLUTION\n",
    "\n",
    "import json\n",
    "\n",
    "with open('beers.json', 'w') as f:\n",
    "    f.write(json.dumps(beers))\n",
    "\n",
    "with open(\"beers.json\", \"r\") as f:\n",
    "    beers = json.loads(f.read())\n",
    "\n",
    "### END SOLUTION"
   ]
  },
  {
   "cell_type": "markdown",
   "metadata": {},
   "source": [
    "## The API for Statistics Denmark \n",
    "\n",
    "Statistics Denmark (DST) provide an API access to their aggregate data. For developers, they supply a [console](https://api.statbank.dk/console) for testing. In this exercise, we will code up a simple script which can collect data from the DST API. \n",
    "\n",
    "> **Ex 5.4.4:** Use the API console to construct a GET request which retrieves the table FOLK1A split by quarter. The return should be in JSON format. We want all available dates.\n",
    ">\n",
    ">Then write a function `construct_link()` which takes as inputs: a table ID (e.g. `'FOLK1A'`) and a list of strings like `['var1=*', 'var2=somevalue']`. The function should return the proper URL for getting a dataset with the specified variables (e.g. in this case all levels of var1, but only where var2=somevalue).\n",
    "\n",
    "> _Hint:_ The time variable is called 'tid'. To select all available values, set the value-id to '*'. Spend a little time with the console to get a sense of how the URLs are constructed.\n"
   ]
  },
  {
   "cell_type": "code",
   "execution_count": null,
   "metadata": {
    "nbgrader": {
     "grade": false,
     "grade_id": "cell-d174a99ed0af2f0e",
     "locked": false,
     "schema_version": 3,
     "solution": true,
     "task": false
    }
   },
   "outputs": [],
   "source": [
    "### BEGIN SOLUTION\n",
    "\n",
    "# This is the manually constructed link\n",
    "'https://api.statbank.dk/v1/data/FOLK1A/JSONSTAT?lang=en&Tid=*'\n",
    "\n",
    "# This function will do it for you\n",
    "def construct_link(table_id, variables):\n",
    "    base = f'https://api.statbank.dk/v1/data/{table_id}/JSONSTAT?lang=en'\n",
    "    \n",
    "    for var in variables:\n",
    "        base += f'&{var}'\n",
    "\n",
    "    return base \n",
    "\n",
    "construct_link('FOLK1A', ['Tid=*'])\n",
    "\n",
    "### END SOLUTION"
   ]
  },
  {
   "cell_type": "markdown",
   "metadata": {},
   "source": [
    "When executing the request in the console, you should get a json file as output. Next, lets write some code to load these json files directly into python. \n",
    "\n",
    "\n",
    "> **Ex. 5.4.5:** Use the `requests` module and `construct_link()` to request home value data from the \"EJDFOE1\" table. Get all available years (variable \"Tid\"), but only for Frederiksberg (BOPKOM=147), apartments (EJENTYP=B), market values (VAERDI=100) and average values in DKK units (ENHED=120). Unpack the json payload and store the result. Wrap the whole thing in a function which takes an url as input and returns the corresponding output.\n",
    "\n",
    "> _Hint:_ The `requests.response` object has a `.json()` method. "
   ]
  },
  {
   "cell_type": "code",
   "execution_count": null,
   "metadata": {
    "nbgrader": {
     "grade": false,
     "grade_id": "cell-33bba55a2e8d0fc5",
     "locked": false,
     "schema_version": 3,
     "solution": true,
     "task": false
    }
   },
   "outputs": [],
   "source": [
    "### BEGIN SOLUTION\n",
    "\n",
    "# Frederiksberg\n",
    "url = construct_link('EJDFOE1', ['Tid=*', 'BOPKOM=147', 'EJENTYP=B', 'VAERDI=100', 'ENHED=120'])\n",
    "\n",
    "def create_data(url):\n",
    "    response = requests.get(url).json()\n",
    "    values = response['dataset']['value']\n",
    "    years = response['dataset']['dimension']['Tid']['category']['index']\n",
    "    years = list(map(int, years))\n",
    "    data = dict(zip(years, values))\n",
    "    return data\n",
    "\n",
    "data = create_data(url)\n",
    "\n",
    "### END SOLUTION"
   ]
  },
  {
   "cell_type": "markdown",
   "metadata": {},
   "source": [
    "> **Ex. 5.4.6:** Extract the values for Frederiksberg in each year. Store the results as a list."
   ]
  },
  {
   "cell_type": "code",
   "execution_count": null,
   "metadata": {
    "nbgrader": {
     "grade": false,
     "grade_id": "cell-792e1879090acb1f",
     "locked": false,
     "schema_version": 3,
     "solution": true,
     "task": false
    }
   },
   "outputs": [],
   "source": [
    "### BEGIN SOLUTION\n",
    "frederiksberg = list(data.values())\n",
    "### END SOLUTION"
   ]
  },
  {
   "cell_type": "markdown",
   "metadata": {},
   "source": [
    "> **Ex. 5.4.7:** Repeat 5.4.5 and 5.4.6 but this time only for Copenhagen (BOPKOM=101). Store the numbers in a new list and use the `plot_values` (supplied below) function to plot the (log of) the data. Interpret the plot."
   ]
  },
  {
   "cell_type": "code",
   "execution_count": null,
   "metadata": {},
   "outputs": [],
   "source": [
    "# Just run this once, do not change it.\n",
    "import matplotlib.pyplot as plt \n",
    "import numpy as np\n",
    "\n",
    "def plot_values(val1, val2):\n",
    "    val1 = val1\n",
    "    val2 = val2\n",
    "    \"\"\" Plots lineplot of the number of births split by gender.\n",
    "    \n",
    "    Args: \n",
    "        boys: a list of boy births by year\n",
    "        girls: a list of girl births by year\n",
    "    \"\"\"\n",
    "    if not len(val1) == len(val2):\n",
    "        raise ValueError('There must be the same number of observations for boys and girls')\n",
    "    \n",
    "    labels = [f'{year}' for year in range(2004,2021)]\n",
    "    \n",
    "    plt.grid(color='black', linestyle='-', linewidth=0.1, axis='x')\n",
    "    \n",
    "    plt.plot(range(len(val1)), val1, color = 'blue', label = 'Frederiksberg')\n",
    "    plt.plot(range(len(val1)), val2, color = 'red', label = 'Copenhagen')\n",
    "    plt.yscale(\"log\")\n",
    "    plt.xticks([i for i in range(len(val1)) if i%2 == 0],\n",
    "               [l for i,l in zip(range(len(val1)),labels) if i%2 == 0],\n",
    "               rotation = 'horizontal')\n",
    "    plt.xlabel('Year')\n",
    "    plt.ylabel('Market Value of Apartments')\n",
    "    \n",
    "    plt.legend()\n",
    "    plt.show()"
   ]
  },
  {
   "cell_type": "code",
   "execution_count": null,
   "metadata": {
    "nbgrader": {
     "grade": false,
     "grade_id": "cell-0ea2577312192992",
     "locked": false,
     "schema_version": 3,
     "solution": true,
     "task": false
    }
   },
   "outputs": [],
   "source": [
    "### BEGIN SOLUTION\n",
    "\n",
    "url = construct_link('EJDFOE1', ['Tid=*', 'BOPKOM=101', 'EJENTYP=B', 'VAERDI=100', 'ENHED=120'])\n",
    "\n",
    "data = create_data(url)\n",
    "odsherred = list(data.values())\n",
    "\n",
    "plot_values(frederiksberg, odsherred)\n",
    "\n",
    "### END SOLUTION"
   ]
  },
  {
   "cell_type": "markdown",
   "metadata": {},
   "source": [
    "# Part 5: Bonus Exercises $-$ Traffic Data in Copenhagen\n",
    "\n",
    "This set of bonus exercises allows you to apply the tools that you have learned in session 2 to 5. Note that they are not mandatory $-$ rather, our hopes are the exercises will provide you with an additional opportunity to (i) strenghten your data structuring skills and (ii) see how you have already learned a series of skills that work nicely together. \n",
    "\n",
    "In this set of bonus exercises, you will be working with traffic data from Copenhagen Municipality.\n",
    "\n",
    "The municipality have made the data openly available through the [opendata.dk](http://www.opendata.dk/) platform. We will use the data from traffic counters to construct a dataset of hourly traffic. We will use this data to get basic insights on the development in traffic over time and relate it to weather. The gist here is to practice a very important skill in Data Science: being able to quickly fetch data from the web and structure it so that you can work with it. Scraping usually gets a bit more advanced than what we will do today, but the following exercises should give you a taste for how it works. The bulk of these exercise, however, revolve around using the Pandas library to structure and analyze data."
   ]
  },
  {
   "cell_type": "markdown",
   "metadata": {},
   "source": [
    "## Part 5.5.A: Getting some data to work with\n",
    "\n",
    "Hence follows a simple scraping exercise where you (1) collect urls for datasets in the webpage listing data on traffic counters and (2) use these urls to load the data into one dataframe.\n",
    "\n",
    "> **Ex. 5.5.1:** *(Bonus)* Using the requests module, extract the html markup of the webpage data.kk.dk/dataset/faste-trafiktaellinger and store it as a string in a new variable."
   ]
  },
  {
   "cell_type": "code",
   "execution_count": null,
   "metadata": {
    "nbgrader": {
     "grade": false,
     "grade_id": "cell-66d30cd4ddd300f6",
     "locked": false,
     "schema_version": 3,
     "solution": true,
     "task": false
    }
   },
   "outputs": [],
   "source": [
    "### BEGIN SOLUTION\n",
    "from requests import get \n",
    "\n",
    "url = 'https://www.opendata.dk/city-of-copenhagen/faste-trafiktaellinger'\n",
    "resp = get(url)\n",
    "\n",
    "html = resp.text\n",
    "### END SOLUTION"
   ]
  },
  {
   "cell_type": "markdown",
   "metadata": {},
   "source": [
    "> **Ex. 5.5.2:** *(Bonus)* Using the re module, extract a list of all the urls in the html string and store them in a new variable.\n",
    "\n",
    "> _Hint:_ Try using the re.findall method. You may want to Google around to figure out how to do this. Searching for something along the lines of \"extract all links in html regex python\" and hitting the first StackOverflow link will probably get you farther than reading elaborate documentation."
   ]
  },
  {
   "cell_type": "code",
   "execution_count": null,
   "metadata": {
    "nbgrader": {
     "grade": false,
     "grade_id": "cell-b6352a75b3acd612",
     "locked": false,
     "schema_version": 3,
     "solution": true,
     "task": false
    }
   },
   "outputs": [],
   "source": [
    "import re \n",
    "\n",
    "### BEGIN SOLUTION\n",
    "rehits = re.findall(r'href=[\\'\"]?([^\\'\" >]+)', html)\n",
    "### END SOLUTION"
   ]
  },
  {
   "cell_type": "markdown",
   "metadata": {},
   "source": [
    "> **Ex. 5.5.3:** *(Bonus)* Create a new variable `datalinks` that only contains the links that point to downloadable traffic data sheets. Some links may be preset more than once on the page. To get the unique links use the `set()` function on `datalinks`.\n",
    "\n",
    "> _Hint:_ You want to filter the results from above. For example to only include urls with the term 'download' in them."
   ]
  },
  {
   "cell_type": "code",
   "execution_count": null,
   "metadata": {
    "nbgrader": {
     "grade": false,
     "grade_id": "cell-474f6f4274f1f6be",
     "locked": false,
     "schema_version": 3,
     "solution": true,
     "task": false
    }
   },
   "outputs": [],
   "source": [
    "### BEGIN SOLUTION\n",
    "datalinks = set([url for url in rehits if 'download' in url])\n",
    "### END SOLUTION"
   ]
  },
  {
   "cell_type": "markdown",
   "metadata": {},
   "source": [
    "> **Ex. 5.5.4:** *(Bonus)* Using pd.read_excel method, load the datasets into a list. Your resulting variable should hold a list of Pandas dataframes.\n",
    "\n",
    "> _Hint:_ you may want to set the `skiprows` keyword argument. "
   ]
  },
  {
   "cell_type": "code",
   "execution_count": null,
   "metadata": {
    "nbgrader": {
     "grade": false,
     "grade_id": "cell-da5cce0bcf1ee076",
     "locked": false,
     "schema_version": 3,
     "solution": true,
     "task": false
    }
   },
   "outputs": [],
   "source": [
    "### BEGIN SOLUTION\n",
    "traffic_raw = [pd.read_excel(url, skiprows = 10) for url in datalinks]\n",
    "### END SOLUTION"
   ]
  },
  {
   "cell_type": "markdown",
   "metadata": {},
   "source": [
    "> **Ex. 5.5.5:** *(Bonus)* Merge the list of dataframes into a single dataframe."
   ]
  },
  {
   "cell_type": "code",
   "execution_count": null,
   "metadata": {
    "nbgrader": {
     "grade": false,
     "grade_id": "cell-4526c1736e295f0a",
     "locked": false,
     "schema_version": 3,
     "solution": true,
     "task": false
    }
   },
   "outputs": [],
   "source": [
    "### BEGIN SOLUTION\n",
    "final_data = pd.concat(traffic_raw)\n",
    "final_data\n",
    "### END SOLUTION"
   ]
  },
  {
   "cell_type": "markdown",
   "metadata": {},
   "source": [
    "## Part 5.5.B Structuring your data\n",
    "\n",
    "If you successfully completed the previous part, you should now have a dataframe with about 183.397 rows (if your number of rows is close but not the same, worry not—it matters little in the following). Well done! But the data is still in no shape for analysis, so we must clean it up a little.\n",
    "\n",
    "161.236 rows (and 30 columns) is a lot of data. ~3.3 MB by my back-of-the-envelope calculations, so not \"Big Data\", but still enough to make your CPU heat up if you don't use it carefully. Pandas is built to handle fairly large dataframes and has advanced functionality to perform very fast operations even when the size of your data grows huge. So instead of working with basic Python we recommend working pandas built-in procedures as they are constructed to be fast on dataframes.\n",
    "\n",
    "Nerd fact: the reason pandas is much faster than pure Python is that dataframes access a lower level programming languages (namely C, C++) which are multiple times faster than Python. The reason it is faster is that it has a higher level of explicitness and thus is more difficult to learn and navigate.\n",
    "\n",
    "> **Ex. 5.5.6:** *(Bonus)* Reset the row indices of your dataframe so the first index is 0 and the last is whatever the number of rows your dataframe has. Also drop the column named 'index' and the one named `Spor`."
   ]
  },
  {
   "cell_type": "code",
   "execution_count": null,
   "metadata": {
    "nbgrader": {
     "grade": false,
     "grade_id": "cell-bba8d42c26534466",
     "locked": false,
     "schema_version": 3,
     "solution": true,
     "task": false
    }
   },
   "outputs": [],
   "source": [
    "### BEGIN SOLUTION\n",
    "final_data = final_data\\\n",
    "        .reset_index()\\\n",
    "        .drop(['index', 'Spor'], axis = 1)\n",
    "### END SOLUTION"
   ]
  },
  {
   "cell_type": "markdown",
   "metadata": {},
   "source": [
    "> **Ex. 5.5.7:** *(Bonus)* Rename variables from Danish to English using the dictionary below.\n",
    "\n",
    "```python \n",
    "dk_to_uk = {\n",
    "    'Vejnavn':'road_name',\n",
    "    '(UTM32)':'UTM32_north',\n",
    "    '(UTM32).1':'UTM32_east',\n",
    "    'Dato':'date',\n",
    "    'Vej-Id':'road_id'\n",
    "}\n",
    "```"
   ]
  },
  {
   "cell_type": "code",
   "execution_count": null,
   "metadata": {
    "nbgrader": {
     "grade": false,
     "grade_id": "cell-70b2cbb8cf1b167a",
     "locked": false,
     "schema_version": 3,
     "solution": true,
     "task": false
    }
   },
   "outputs": [],
   "source": [
    "### BEGIN SOLUTION\n",
    "dk_to_uk = {\n",
    "    'Vejnavn':'road_name',\n",
    "    '(UTM32)':'UTM32_north',\n",
    "    '(UTM32).1':'UTM32_east',\n",
    "    'Dato':'date',\n",
    "    'Vej-Id':'road_id'\n",
    "}\n",
    "\n",
    "\n",
    "final_data = final_data.rename(columns = dk_to_uk)\n",
    "### END SOLUTION"
   ]
  },
  {
   "cell_type": "markdown",
   "metadata": {},
   "source": [
    "Python is quite efficient. For example, when you create a new dataframe by manipulating an old one, Python notices that—apart from some minor changes—these two objects are almost the same. Since memory is a precious resource, Python will represent the values in the new dataframe as references to the variables in the old dataset. This is great for performance, but if you for whatever reason change some of the values in your old dataframe, values in the new one will also change—and we don't want that! Luckily, we can break this dependency.\n",
    "\n",
    "> **Ex. 5.5.8:** *(Bonus)* Break the dependencies of the dataframe that resulted from Ex. 5.2.7 using the `.copy` method. Delete all other dataframes."
   ]
  },
  {
   "cell_type": "code",
   "execution_count": null,
   "metadata": {
    "nbgrader": {
     "grade": false,
     "grade_id": "cell-3bc14837561aaf91",
     "locked": false,
     "schema_version": 3,
     "solution": true,
     "task": false
    }
   },
   "outputs": [],
   "source": [
    "### BEGIN SOLUTION\n",
    "new_data = final_data.copy()\n",
    "\n",
    "del final_data\n",
    "### END SOLUTION"
   ]
  },
  {
   "cell_type": "markdown",
   "metadata": {},
   "source": [
    "Once you have structured appropriately, something that you will want to do again and again is selecting subsets of the data. Specifically, it means that you select specific rows in the dataset based on some column values.\n",
    "\n",
    ">**Ex. 5.5.9:** *(Bonus)* Create a new column in the dataframe called total that is True when the last letter of road_id is T and otherwise False.\n",
    "\n",
    "> _Hint:_ you will need the `pd.Series.str` attribute for this."
   ]
  },
  {
   "cell_type": "code",
   "execution_count": null,
   "metadata": {
    "nbgrader": {
     "grade": false,
     "grade_id": "cell-d71c49b56465c6de",
     "locked": false,
     "schema_version": 3,
     "solution": true,
     "task": false
    }
   },
   "outputs": [],
   "source": [
    "### BEGIN SOLUTION\n",
    "new_data['total'] = (new_data.road_id.str[-1] == 'T')\n",
    "### END SOLUTION"
   ]
  },
  {
   "cell_type": "markdown",
   "metadata": {},
   "source": [
    "> **Ex. 5.5.10:** *(Bonus)* Select rows where total is True. Delete all the remaining observations."
   ]
  },
  {
   "cell_type": "code",
   "execution_count": null,
   "metadata": {
    "nbgrader": {
     "grade": false,
     "grade_id": "cell-be16ff389b3ac550",
     "locked": false,
     "schema_version": 3,
     "solution": true,
     "task": false
    }
   },
   "outputs": [],
   "source": [
    "### BEGIN SOLUTION\n",
    "total_data = new_data[new_data.total == True]\n",
    "\n",
    "del new_data\n",
    "### END SOLUTION"
   ]
  },
  {
   "cell_type": "markdown",
   "metadata": {},
   "source": [
    "> **Ex. 5.5.11:** *(Bonus)* Make two datasets based on the lists of columns below. Call the dataset with spatial columns data_geo and the other data.\n",
    "\n",
    "```python\n",
    "# Columns for `geo_data`, stored in `geo_columns`\n",
    "spatial_columns = ['road_name', 'UTM32_north', 'UTM32_east']\n",
    "\n",
    "# Columns for `data`, stored in `select_columns`\n",
    "hours = ['kl.{}-{}'.format(str(h).zfill(2), str(h+1).zfill(2)) for h in range(24)]\n",
    "select_columns = ['road_name', 'date'] + hours\n",
    "```"
   ]
  },
  {
   "cell_type": "code",
   "execution_count": null,
   "metadata": {
    "nbgrader": {
     "grade": false,
     "grade_id": "cell-044260f4552d575c",
     "locked": false,
     "schema_version": 3,
     "solution": true,
     "task": false
    }
   },
   "outputs": [],
   "source": [
    "### BEGIN SOLUTION\n",
    "# Columns for `geo_data`, stored in `geo_columns`\n",
    "spatial_columns = ['road_name', 'UTM32_north', 'UTM32_east']\n",
    "\n",
    "# Columns for `data`, stored in `select_columns`\n",
    "hours = [f'kl.{str(h).zfill(2)}-{str(h+1).zfill(2)}' for h in range(24)]\n",
    "select_columns = ['road_name', 'date'] + hours\n",
    "\n",
    "# selections\n",
    "data_geo = total_data[spatial_columns]\n",
    "data  = total_data[select_columns]\n",
    "\n",
    "del total_data\n",
    "### END SOLUTION"
   ]
  },
  {
   "cell_type": "markdown",
   "metadata": {},
   "source": [
    "> **Ex. 5.5.12:** *(Bonus)* Drop the duplicate rows in data_geo."
   ]
  },
  {
   "cell_type": "code",
   "execution_count": null,
   "metadata": {
    "nbgrader": {
     "grade": false,
     "grade_id": "cell-34fc8fa941234a18",
     "locked": false,
     "schema_version": 3,
     "solution": true,
     "task": false
    }
   },
   "outputs": [],
   "source": [
    "### BEGIN SOLUTION\n",
    "data_geo.drop_duplicates(inplace = True)\n",
    "### END SOLUTION"
   ]
  },
  {
   "cell_type": "markdown",
   "metadata": {},
   "source": [
    "**Formatting: wide and narrow format**\n",
    "\n",
    "When talking about two-dimensional data (matrices, tables or dataframes, we can call it many things), we can either say that it is in wide or long format (see explanation here, \"wide\" and \"long\" are used interchangably). In Pandas we can use the commands stack and unstack to move between these formats.\n",
    "\n",
    "The wide format has the advantage that it often requires less storage and is easier to read when printed. On the other hand the long format can be easier for modelling, because each observation has its own row. Turns out that the latter is what we most often need.\n",
    "\n",
    "> **Ex. 5.5.13:** *(Bonus)* Turn the dataset from wide to long so hourly data is now vertically stacked. Store this dataset in a dataframe called data. Name the column with hourly information hour_period. Your resulting dataframe should look something like this.\n",
    "\n",
    "> _Hint:_ pandas' melt function may be of use."
   ]
  },
  {
   "cell_type": "code",
   "execution_count": null,
   "metadata": {
    "nbgrader": {
     "grade": false,
     "grade_id": "cell-8814dd6f2c675c9e",
     "locked": false,
     "schema_version": 3,
     "solution": true,
     "task": false
    }
   },
   "outputs": [],
   "source": [
    "### BEGIN SOLUTION\n",
    "\n",
    "# A bonus info: This function is written using optional type declaration. This\n",
    "# is used to communicate what type the inputs should be. It doesn't affect the \n",
    "# functionality in any way, but it can sometimes increase readability. \n",
    "\n",
    "def gather(df: pd.DataFrame, key: str, value: str, cols: list) -> pd.DataFrame:\n",
    "    \"\"\" This helper makes pythons melt() behave like R's gather()\n",
    "    \"\"\"\n",
    "    id_vars = [ col for col in df.columns if col not in cols ]\n",
    "    id_values = cols\n",
    "    var_name = key\n",
    "    value_name = value\n",
    "    return pd.melt( df, id_vars, id_values, var_name, value_name )\n",
    "\n",
    "data_long = gather(data, 'hour_period', 'value', hours)\n",
    "\n",
    "# # using .stack() \n",
    "# # dropna = False in stack() is necessary for the dataframe to be exactly equal to the one above\n",
    "# data_long = data.set_index([\"road_name\", \"date\"])\\\n",
    "#                 .stack(dropna=False)\\\n",
    "#                 .reset_index()\\\n",
    "#                 .rename(columns = {\"level_2\": \"hour_period\", 0: \"value\"})\n",
    "\n",
    "### END SOLUTION"
   ]
  },
  {
   "cell_type": "markdown",
   "metadata": {},
   "source": [
    "**Categorical data**\n",
    "\n",
    "Categorical data can contain Python objects, usually strings. These are smart if you have variables with string observations that are long and often repeated, e.g. with road names.\n",
    "\n",
    "> **Ex. 5.5.14:** *(Bonus)* Use the `.astype` method to convert the type of the road_name column to categorical."
   ]
  },
  {
   "cell_type": "code",
   "execution_count": null,
   "metadata": {
    "nbgrader": {
     "grade": false,
     "grade_id": "cell-d94e7ec1af8fce59",
     "locked": false,
     "schema_version": 3,
     "solution": true,
     "task": false
    }
   },
   "outputs": [],
   "source": [
    "### BEGIN SOLUTION\n",
    "data_long.road_name = data_long.road_name.astype('category')\n",
    "### END SOLUTION"
   ]
  },
  {
   "cell_type": "markdown",
   "metadata": {},
   "source": [
    "## Part 5.5.C:  Structure temporal data\n",
    "\n",
    "Pandas has native support for working with temporal data. This is handy as much 'big data' often has time stamps which we can make Pandas aware of. Once we have encoded temporal data it can be used to extract information such as the hour, second etc.\n",
    "\n",
    "> **Ex. 5.5.15:** *(Bonus)* Create a new column called hour which contains the hour-of-day for each row. "
   ]
  },
  {
   "cell_type": "code",
   "execution_count": null,
   "metadata": {
    "nbgrader": {
     "grade": false,
     "grade_id": "cell-54d6bbbab97b9bae",
     "locked": false,
     "schema_version": 3,
     "solution": true,
     "task": false
    }
   },
   "outputs": [],
   "source": [
    "### BEGIN SOLUTION\n",
    "data_long['hour'] = pd.to_datetime(data_long['hour_period'].str[3:5], format = '%H')\n",
    "### END SOLUTION"
   ]
  },
  {
   "cell_type": "markdown",
   "metadata": {},
   "source": [
    ">**Ex. 5.5.16:** *(Bonus)* Create a new column called time, that contains the time of the row in datetime format. Delete the old temporal columns (hour, hour_period, date) to save memory.\n",
    "\n",
    "> _Hint:_ try making an intermediary series of strings that has all temporal information for the row; then use pandas to_datetime function where you can specify the format of the date string."
   ]
  },
  {
   "cell_type": "code",
   "execution_count": null,
   "metadata": {
    "nbgrader": {
     "grade": false,
     "grade_id": "cell-e8d6d81a5e31cd12",
     "locked": false,
     "schema_version": 3,
     "solution": true,
     "task": false
    }
   },
   "outputs": [],
   "source": [
    "### BEGIN SOLUTION\n",
    "data_long['timestamp'] = pd.to_datetime(data_long.date + ' ' + data_long.hour\\\n",
    "                                                                        .dt\\\n",
    "                                                                        .hour\\\n",
    "                                                                        .astype(str)\\\n",
    "                                                                        .apply(lambda x: x.zfill(2)),\n",
    "                                        format = '%d.%m.%Y %H')\n",
    "\n",
    "data_long = data_long.drop(['hour', 'hour_period', 'date'], axis = 1)\n",
    "### END SOLUTION"
   ]
  },
  {
   "cell_type": "markdown",
   "metadata": {},
   "source": [
    "> **Ex. 5.5.17:** *(Bonus)* Using your time column make a new column called weekday which stores the weekday (in values between 0 and 6) of the corresponding datetime.\n",
    "\n",
    "> _Hint:_ try using the dt method for the series called time; dt has some relevant methods itself."
   ]
  },
  {
   "cell_type": "code",
   "execution_count": null,
   "metadata": {
    "nbgrader": {
     "grade": false,
     "grade_id": "cell-eeabee7e17bbc24a",
     "locked": false,
     "schema_version": 3,
     "solution": true,
     "task": false
    }
   },
   "outputs": [],
   "source": [
    "### BEGIN SOLUTION\n",
    "data_long['weekday'] = data_long.timestamp.dt.weekday\n",
    "### END SOLUTION"
   ]
  },
  {
   "cell_type": "markdown",
   "metadata": {},
   "source": [
    "## Part 5.5.D: Statistical descriptions of traffic data\n",
    "\n",
    "> **Ex. 5.5.18:** *(Bonus)* Print the \"descriptive statistics\" of the traffic column. Also show a kernel density estimate of the values.\n",
    "\n",
    "> _Hint:_ Use the describe method of pandas dataframes for the first task. Use seaborn for the second. "
   ]
  },
  {
   "cell_type": "code",
   "execution_count": null,
   "metadata": {
    "nbgrader": {
     "grade": false,
     "grade_id": "cell-5543e5d8d126bc40",
     "locked": false,
     "schema_version": 3,
     "solution": true,
     "task": false
    }
   },
   "outputs": [],
   "source": [
    "import seaborn as sb\n",
    "\n",
    "### BEGIN SOLUTION\n",
    "print(data_long.value.describe())\n",
    "\n",
    "sb.kdeplot(data_long.value.dropna())\n",
    "plt.show()\n",
    "### END SOLUTION"
   ]
  },
  {
   "cell_type": "markdown",
   "metadata": {},
   "source": [
    "> **Ex. 5.5.19:** *(Bonus)* Which road has the most average traffic?"
   ]
  },
  {
   "cell_type": "code",
   "execution_count": null,
   "metadata": {
    "nbgrader": {
     "grade": false,
     "grade_id": "cell-ed14c5a9519b1a33",
     "locked": false,
     "schema_version": 3,
     "solution": true,
     "task": false
    }
   },
   "outputs": [],
   "source": [
    "### BEGIN SOLUTION\n",
    "data_long.groupby('road_name')\\\n",
    "         .value.agg('mean')\\\n",
    "         .reset_index()\\\n",
    "         .sort_values('value', ascending = False)\\\n",
    "         .head(10)\n",
    "### END SOLUTION"
   ]
  },
  {
   "cell_type": "markdown",
   "metadata": {},
   "source": [
    "> **Ex. 5.5.20:** *(Bonus)* Compute annual, average road traffic during day hours (9-17). Which station had the least traffic in 2013? Which station has seen highest growth in traffic from 2013 to 2014?"
   ]
  },
  {
   "cell_type": "code",
   "execution_count": null,
   "metadata": {
    "nbgrader": {
     "grade": false,
     "grade_id": "cell-279831757079d3e0",
     "locked": false,
     "schema_version": 3,
     "solution": true,
     "task": false
    }
   },
   "outputs": [],
   "source": [
    "### BEGIN SOLUTION\n",
    "# create year variable\n",
    "data_long['year'] = data_long.timestamp.dt.year\n",
    "data_long['hour'] = data_long.timestamp.dt.hour\n",
    "\n",
    "# subset relevant years and times \n",
    "data_delta = data_long.query(\"year == 2013 | year == 2014\")\\\n",
    "                      .query(\"hour >= 9 & hour <= 17\")\n",
    "\n",
    "# convert to wide format\n",
    "data_delta = data_delta[['road_name', 'value', 'year']].groupby(['road_name', 'year'])\\\n",
    "                                                       .agg('mean')\\\n",
    "                                                       .reset_index()\\\n",
    "\n",
    "# create year variable\n",
    "data_long['year'] = data_long.timestamp.dt.year\n",
    "data_long['hour'] = data_long.timestamp.dt.hour\n",
    "\n",
    "# subset relevant years and times \n",
    "data_delta = data_long.query(\"year == 2013 | year == 2014\")\\\n",
    "                      .query(\"hour >= 9 & hour <= 17\")\n",
    "\n",
    "# convert to wide format\n",
    "data_delta = data_delta[['road_name', 'value', 'year']].groupby(['road_name', 'year'])\\\n",
    "                                                       .agg('mean')\\\n",
    "                                                       .reset_index()\\\n",
    "                                                       .pivot('road_name', 'year', 'value')\\\n",
    "                                                       .reset_index()\n",
    "# remove redundant column name after pivoting \n",
    "data_delta.columns.name = None\n",
    "\n",
    "# calculate relative size\n",
    "data_delta['growth'] = (data_delta[2014]/data_delta[2013] - 1)*100\n",
    "\n",
    "# show\n",
    "data_delta.sort_values('growth', ascending = False)\n",
    "### END SOLUTION"
   ]
  }
 ],
 "metadata": {
  "celltoolbar": "Create Assignment",
  "kernelspec": {
   "display_name": "Python 3",
   "language": "python",
   "name": "python3"
  },
  "language_info": {
   "codemirror_mode": {
    "name": "ipython",
    "version": 3
   },
   "file_extension": ".py",
   "mimetype": "text/x-python",
   "name": "python",
   "nbconvert_exporter": "python",
   "pygments_lexer": "ipython3",
   "version": "3.9.4"
  },
  "varInspector": {
   "cols": {
    "lenName": 16,
    "lenType": 16,
    "lenVar": 40
   },
   "kernels_config": {
    "python": {
     "delete_cmd_postfix": "",
     "delete_cmd_prefix": "del ",
     "library": "var_list.py",
     "varRefreshCmd": "print(var_dic_list())"
    },
    "r": {
     "delete_cmd_postfix": ") ",
     "delete_cmd_prefix": "rm(",
     "library": "var_list.r",
     "varRefreshCmd": "cat(var_dic_list()) "
    }
   },
   "types_to_exclude": [
    "module",
    "function",
    "builtin_function_or_method",
    "instance",
    "_Feature"
   ],
   "window_display": false
  }
 },
 "nbformat": 4,
 "nbformat_minor": 4
}
