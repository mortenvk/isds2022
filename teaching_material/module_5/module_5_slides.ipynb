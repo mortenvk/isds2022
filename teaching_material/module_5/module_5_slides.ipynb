{
 "cells": [
  {
   "cell_type": "markdown",
   "metadata": {},
   "source": [
    "## Video 0: Recap, General Questions, and Intro to Session 5"
   ]
  },
  {
   "cell_type": "code",
   "execution_count": 1,
   "metadata": {},
   "outputs": [
    {
     "data": {
      "image/jpeg": "[encoded data removed]",
      "text/html": [
       "\n",
       "        <iframe\n",
       "            width=\"640\"\n",
       "            height=\"360\"\n",
       "            src=\"https://www.youtube.com/embed/5mFd2s8utcE\"\n",
       "            frameborder=\"0\"\n",
       "            allowfullscreen\n",
       "            \n",
       "        ></iframe>\n",
       "        "
      ],
      "text/plain": [
       "<IPython.lib.display.YouTubeVideo at 0x1ec5a6b2d90>"
      ]
     },
     "execution_count": 1,
     "metadata": {},
     "output_type": "execute_result"
    }
   ],
   "source": [
    "from IPython.display import YouTubeVideo\n",
    "YouTubeVideo('5mFd2s8utcE', width=640, height=360)"
   ]
  },
  {
   "cell_type": "markdown",
   "metadata": {
    "slideshow": {
     "slide_type": "slide"
    }
   },
   "source": [
    "<style>\n",
    ".rendered_html * + ul {\n",
    "\tmargin-top: 0.5em;\n",
    "}\n",
    "    div.text_cell_render {\n",
    "    padding: 0.0em 0.0em 0.0em 0.0em;\n",
    "}\n",
    "    .reveal p {\n",
    "    margin: 20px 10;\n",
    "    line-height: 1.3;\n",
    "}\n",
    "    html, body, .reveal div, .reveal span, .reveal applet, .reveal object, .reveal iframe, .reveal h1, .reveal h2, .reveal h3, .reveal h4, .reveal h5, .reveal h6, .reveal p, .reveal blockquote, .reveal pre, .reveal a, .reveal abbr, .reveal acronym, .reveal address, .reveal big, .reveal cite, .reveal code, .reveal del, .reveal dfn, .reveal em, .reveal img, .reveal ins, .reveal kbd, .reveal q, .reveal s, .reveal samp, .reveal small, .reveal strike, .reveal strong, .reveal sub, .reveal sup, .reveal tt, .reveal var, .reveal b, .reveal u, .reveal center, .reveal dl, .reveal dt, .reveal dd, .reveal ol, .reveal ul, .reveal li, .reveal fieldset, .reveal form, .reveal label, .reveal legend, .reveal table, .reveal caption, .reveal tbody, .reveal tfoot, .reveal thead, .reveal tr, .reveal th, .reveal td, .reveal article, .reveal aside, .reveal canvas, .reveal details, .reveal embed, .reveal figure, .reveal figcaption, .reveal footer, .reveal header, .reveal hgroup, .reveal menu, .reveal nav, .reveal output, .reveal ruby, .reveal section, .reveal summary, .reveal time, .reveal mark, .reveal audio, .reveal video {\n",
    "    margin-bottom: -1px;\n",
    "}\n",
    "    div.text_cell_render {\n",
    "    padding: 0em 0em 0.5em 0.0em;\n",
    "}\n",
    "</style>\n",
    "\n",
    "# Session 5: Strings, Queries and APIs\n",
    "\n",
    "*Tobias Gabel Christiansen*"
   ]
  },
  {
   "cell_type": "markdown",
   "metadata": {
    "slideshow": {
     "slide_type": "slide"
    }
   },
   "source": [
    "## Recap (I/II) \n",
    "\n",
    "We can think of there as being two 'types' of plots:\n",
    "- **Exploratory** plots: Figures for understanding data\n",
    "    - Quick to produce $\\sim$ minimal polishing\n",
    "    - Be careful showing these out of context\n",
    "- **Explanatory** plots: Figures to convey a message\n",
    "    - Polished figures\n",
    "    - Direct attention to interesting feature in the data\n",
    "    - Minimize risk of misunderstanding"
   ]
  },
  {
   "cell_type": "markdown",
   "metadata": {
    "slideshow": {
     "slide_type": "fragment"
    }
   },
   "source": [
    "There exist several packages for plotting.  Some popular ones:\n",
    "- `Matplotlib` is good for customization (explanatory plots)\n",
    "    - Might take a lot of time when customizing!\n",
    "- `Seaborn` and `Pandas` are good quick and dirty plots (exploratory)"
   ]
  },
  {
   "cell_type": "markdown",
   "metadata": {
    "slideshow": {
     "slide_type": "slide"
    }
   },
   "source": [
    "## Recap (II/II) \n",
    "\n",
    "We need to put a lot of thinking in how to present data.\n",
    "\n",
    "In particular, one must consider the *type* of data that is to be presented:"
   ]
  },
  {
   "cell_type": "markdown",
   "metadata": {
    "slideshow": {
     "slide_type": "fragment"
    }
   },
   "source": [
    "- One variable:\n",
    "    - Categorical: Pie charts, bar chart, etc. - but sometimes a plot is not even needed\n",
    "    - Numeric: Histograms, distplot (/cumulative), boxplot in seaborn\n"
   ]
  },
  {
   "cell_type": "markdown",
   "metadata": {
    "slideshow": {
     "slide_type": "fragment"
    }
   },
   "source": [
    "- Multiple variables:\n",
    "    - `scatter` (matplotlib) or `jointplot` (seaborn): Useful when (i) both variables are numeric and (ii) there are not too many observations\n",
    "    - `lmplot` or `regplot` (seaborn) when you also want to fit a linear model\n",
    "    - `barplot` (matplotlib), `catplot` and `violinplot` (both seaborn) when one or more variables are categorical\n",
    "    - The option `hue` allows you to add a \"third\" categorical dimension... use with care\n",
    "    - Lots of other plot types and options. Go explore yourself!"
   ]
  },
  {
   "cell_type": "markdown",
   "metadata": {
    "slideshow": {
     "slide_type": "fragment"
    }
   },
   "source": [
    "- When you just want to explore: `pairplot` (seaborn) plots all pairwise correlations"
   ]
  },
  {
   "cell_type": "markdown",
   "metadata": {
    "slideshow": {
     "slide_type": "slide"
    }
   },
   "source": [
    "# General Questions\n",
    "\n",
    "I have tried to gather some questions that seemed to address more general issues:\n",
    "- Something is wrong when I use split-apply-combine...\n",
    "- I cannot delete duplicates...\n",
    "- How do I plot multiple plots in the same figure?"
   ]
  },
  {
   "cell_type": "markdown",
   "metadata": {
    "slideshow": {
     "slide_type": "slide"
    }
   },
   "source": [
    "# Something Is Wrong When I Use Split-Apply-Combine (I/III)\n",
    "\n",
    "Let's \"simulate\" some data!"
   ]
  },
  {
   "cell_type": "code",
   "execution_count": 356,
   "metadata": {},
   "outputs": [
    {
     "data": {
      "text/html": [
       "<div>\n",
       "<style scoped>\n",
       "    .dataframe tbody tr th:only-of-type {\n",
       "        vertical-align: middle;\n",
       "    }\n",
       "\n",
       "    .dataframe tbody tr th {\n",
       "        vertical-align: top;\n",
       "    }\n",
       "\n",
       "    .dataframe thead th {\n",
       "        text-align: right;\n",
       "    }\n",
       "</style>\n",
       "<table border=\"1\" class=\"dataframe\">\n",
       "  <thead>\n",
       "    <tr style=\"text-align: right;\">\n",
       "      <th></th>\n",
       "      <th>val1</th>\n",
       "      <th>val2</th>\n",
       "      <th>cat1</th>\n",
       "      <th>cat2</th>\n",
       "    </tr>\n",
       "  </thead>\n",
       "  <tbody>\n",
       "    <tr>\n",
       "      <th>0</th>\n",
       "      <td>1</td>\n",
       "      <td>0.2</td>\n",
       "      <td>q</td>\n",
       "      <td>z</td>\n",
       "    </tr>\n",
       "    <tr>\n",
       "      <th>1</th>\n",
       "      <td>2</td>\n",
       "      <td>0.4</td>\n",
       "      <td>q</td>\n",
       "      <td>z</td>\n",
       "    </tr>\n",
       "    <tr>\n",
       "      <th>2</th>\n",
       "      <td>3</td>\n",
       "      <td>0.6</td>\n",
       "      <td>q</td>\n",
       "      <td>z</td>\n",
       "    </tr>\n",
       "    <tr>\n",
       "      <th>3</th>\n",
       "      <td>4</td>\n",
       "      <td>0.8</td>\n",
       "      <td>z</td>\n",
       "      <td>o</td>\n",
       "    </tr>\n",
       "    <tr>\n",
       "      <th>4</th>\n",
       "      <td>5</td>\n",
       "      <td>1.0</td>\n",
       "      <td>z</td>\n",
       "      <td>o</td>\n",
       "    </tr>\n",
       "    <tr>\n",
       "      <th>...</th>\n",
       "      <td>...</td>\n",
       "      <td>...</td>\n",
       "      <td>...</td>\n",
       "      <td>...</td>\n",
       "    </tr>\n",
       "    <tr>\n",
       "      <th>95</th>\n",
       "      <td>96</td>\n",
       "      <td>19.2</td>\n",
       "      <td>q</td>\n",
       "      <td>z</td>\n",
       "    </tr>\n",
       "    <tr>\n",
       "      <th>96</th>\n",
       "      <td>97</td>\n",
       "      <td>19.4</td>\n",
       "      <td>q</td>\n",
       "      <td>z</td>\n",
       "    </tr>\n",
       "    <tr>\n",
       "      <th>97</th>\n",
       "      <td>98</td>\n",
       "      <td>19.6</td>\n",
       "      <td>q</td>\n",
       "      <td>z</td>\n",
       "    </tr>\n",
       "    <tr>\n",
       "      <th>98</th>\n",
       "      <td>99</td>\n",
       "      <td>19.8</td>\n",
       "      <td>z</td>\n",
       "      <td>o</td>\n",
       "    </tr>\n",
       "    <tr>\n",
       "      <th>99</th>\n",
       "      <td>100</td>\n",
       "      <td>20.0</td>\n",
       "      <td>z</td>\n",
       "      <td>o</td>\n",
       "    </tr>\n",
       "  </tbody>\n",
       "</table>\n",
       "<p>100 rows × 4 columns</p>\n",
       "</div>"
      ],
      "text/plain": [
       "    val1  val2 cat1 cat2\n",
       "0      1   0.2    q    z\n",
       "1      2   0.4    q    z\n",
       "2      3   0.6    q    z\n",
       "3      4   0.8    z    o\n",
       "4      5   1.0    z    o\n",
       "..   ...   ...  ...  ...\n",
       "95    96  19.2    q    z\n",
       "96    97  19.4    q    z\n",
       "97    98  19.6    q    z\n",
       "98    99  19.8    z    o\n",
       "99   100  20.0    z    o\n",
       "\n",
       "[100 rows x 4 columns]"
      ]
     },
     "execution_count": 356,
     "metadata": {},
     "output_type": "execute_result"
    }
   ],
   "source": [
    "import numpy as np\n",
    "import pandas as pd\n",
    "\n",
    "df = pd.DataFrame({'a':np.arange(1,101,1),\n",
    "                   'b':np.arange(1,101,1)*1/5,\n",
    "                   'c':['q', 'q', 'q', 'z', 'z']*20,  \n",
    "                   'd':['z','z','z','o','o']*20})\n",
    "df.columns = ['val1','val2','cat1','cat2']\n",
    "df"
   ]
  },
  {
   "cell_type": "markdown",
   "metadata": {
    "slideshow": {
     "slide_type": "slide"
    }
   },
   "source": [
    "# Something Is Wrong When I Use Split-Apply-Combine (II/III)\n",
    "\n",
    "In general, the syntax is always the same"
   ]
  },
  {
   "cell_type": "code",
   "execution_count": 357,
   "metadata": {
    "slideshow": {
     "slide_type": "fragment"
    }
   },
   "outputs": [
    {
     "data": {
      "text/html": [
       "<div>\n",
       "<style scoped>\n",
       "    .dataframe tbody tr th:only-of-type {\n",
       "        vertical-align: middle;\n",
       "    }\n",
       "\n",
       "    .dataframe tbody tr th {\n",
       "        vertical-align: top;\n",
       "    }\n",
       "\n",
       "    .dataframe thead tr th {\n",
       "        text-align: left;\n",
       "    }\n",
       "\n",
       "    .dataframe thead tr:last-of-type th {\n",
       "        text-align: right;\n",
       "    }\n",
       "</style>\n",
       "<table border=\"1\" class=\"dataframe\">\n",
       "  <thead>\n",
       "    <tr>\n",
       "      <th></th>\n",
       "      <th></th>\n",
       "      <th colspan=\"2\" halign=\"left\">val1</th>\n",
       "      <th colspan=\"2\" halign=\"left\">val2</th>\n",
       "    </tr>\n",
       "    <tr>\n",
       "      <th></th>\n",
       "      <th></th>\n",
       "      <th>mean</th>\n",
       "      <th>median</th>\n",
       "      <th>mean</th>\n",
       "      <th>median</th>\n",
       "    </tr>\n",
       "    <tr>\n",
       "      <th>cat1</th>\n",
       "      <th>cat2</th>\n",
       "      <th></th>\n",
       "      <th></th>\n",
       "      <th></th>\n",
       "      <th></th>\n",
       "    </tr>\n",
       "  </thead>\n",
       "  <tbody>\n",
       "    <tr>\n",
       "      <th>q</th>\n",
       "      <th>z</th>\n",
       "      <td>49.5</td>\n",
       "      <td>49.5</td>\n",
       "      <td>9.9</td>\n",
       "      <td>9.9</td>\n",
       "    </tr>\n",
       "    <tr>\n",
       "      <th>z</th>\n",
       "      <th>o</th>\n",
       "      <td>52.0</td>\n",
       "      <td>52.0</td>\n",
       "      <td>10.4</td>\n",
       "      <td>10.4</td>\n",
       "    </tr>\n",
       "  </tbody>\n",
       "</table>\n",
       "</div>"
      ],
      "text/plain": [
       "           val1         val2       \n",
       "           mean median  mean median\n",
       "cat1 cat2                          \n",
       "q    z     49.5   49.5   9.9    9.9\n",
       "z    o     52.0   52.0  10.4   10.4"
      ]
     },
     "execution_count": 357,
     "metadata": {},
     "output_type": "execute_result"
    }
   ],
   "source": [
    "combined = df.groupby(['cat1','cat2'])[['val1','val2']].agg(['mean','median'])\n",
    "combined"
   ]
  },
  {
   "cell_type": "markdown",
   "metadata": {
    "slideshow": {
     "slide_type": "slide"
    }
   },
   "source": [
    "# Something Is Wrong When I Use Split-Apply-Combine (III/III)\n",
    "\n",
    "*But now I have a multiindex... How do I access a given value?*"
   ]
  },
  {
   "cell_type": "markdown",
   "metadata": {
    "slideshow": {
     "slide_type": "fragment"
    }
   },
   "source": [
    "What you can do is to use a tuple-like structure:"
   ]
  },
  {
   "cell_type": "code",
   "execution_count": 358,
   "metadata": {
    "slideshow": {
     "slide_type": "fragment"
    }
   },
   "outputs": [
    {
     "data": {
      "text/plain": [
       "49.5"
      ]
     },
     "execution_count": 358,
     "metadata": {},
     "output_type": "execute_result"
    }
   ],
   "source": [
    "combined.loc[('q','z'), ('val1', 'mean')]"
   ]
  },
  {
   "cell_type": "markdown",
   "metadata": {
    "slideshow": {
     "slide_type": "fragment"
    }
   },
   "source": [
    "If you would like to append the values to your original dataframe you can use the *transform()* method. This often easier to implement and understand when selecting one variable and one summary statistic at a time:"
   ]
  },
  {
   "cell_type": "code",
   "execution_count": 360,
   "metadata": {
    "slideshow": {
     "slide_type": "fragment"
    }
   },
   "outputs": [
    {
     "data": {
      "text/html": [
       "<div>\n",
       "<style scoped>\n",
       "    .dataframe tbody tr th:only-of-type {\n",
       "        vertical-align: middle;\n",
       "    }\n",
       "\n",
       "    .dataframe tbody tr th {\n",
       "        vertical-align: top;\n",
       "    }\n",
       "\n",
       "    .dataframe thead th {\n",
       "        text-align: right;\n",
       "    }\n",
       "</style>\n",
       "<table border=\"1\" class=\"dataframe\">\n",
       "  <thead>\n",
       "    <tr style=\"text-align: right;\">\n",
       "      <th></th>\n",
       "      <th>val1</th>\n",
       "      <th>val2</th>\n",
       "      <th>cat1</th>\n",
       "      <th>cat2</th>\n",
       "      <th>new_var1</th>\n",
       "      <th>new_var2</th>\n",
       "    </tr>\n",
       "  </thead>\n",
       "  <tbody>\n",
       "    <tr>\n",
       "      <th>0</th>\n",
       "      <td>1</td>\n",
       "      <td>0.2</td>\n",
       "      <td>q</td>\n",
       "      <td>z</td>\n",
       "      <td>49.5</td>\n",
       "      <td>9.9</td>\n",
       "    </tr>\n",
       "    <tr>\n",
       "      <th>1</th>\n",
       "      <td>2</td>\n",
       "      <td>0.4</td>\n",
       "      <td>q</td>\n",
       "      <td>z</td>\n",
       "      <td>49.5</td>\n",
       "      <td>9.9</td>\n",
       "    </tr>\n",
       "    <tr>\n",
       "      <th>2</th>\n",
       "      <td>3</td>\n",
       "      <td>0.6</td>\n",
       "      <td>q</td>\n",
       "      <td>z</td>\n",
       "      <td>49.5</td>\n",
       "      <td>9.9</td>\n",
       "    </tr>\n",
       "    <tr>\n",
       "      <th>3</th>\n",
       "      <td>4</td>\n",
       "      <td>0.8</td>\n",
       "      <td>z</td>\n",
       "      <td>o</td>\n",
       "      <td>52.0</td>\n",
       "      <td>10.4</td>\n",
       "    </tr>\n",
       "    <tr>\n",
       "      <th>4</th>\n",
       "      <td>5</td>\n",
       "      <td>1.0</td>\n",
       "      <td>z</td>\n",
       "      <td>o</td>\n",
       "      <td>52.0</td>\n",
       "      <td>10.4</td>\n",
       "    </tr>\n",
       "  </tbody>\n",
       "</table>\n",
       "</div>"
      ],
      "text/plain": [
       "   val1  val2 cat1 cat2  new_var1  new_var2\n",
       "0     1   0.2    q    z      49.5       9.9\n",
       "1     2   0.4    q    z      49.5       9.9\n",
       "2     3   0.6    q    z      49.5       9.9\n",
       "3     4   0.8    z    o      52.0      10.4\n",
       "4     5   1.0    z    o      52.0      10.4"
      ]
     },
     "execution_count": 360,
     "metadata": {},
     "output_type": "execute_result"
    }
   ],
   "source": [
    "df['new_var1'] = df.groupby(['cat1', 'cat2'])['val1'].transform('median')\n",
    "df['new_var2'] = df.groupby(['cat1', 'cat2'])['val2'].transform('mean')\n",
    "df.head()"
   ]
  },
  {
   "cell_type": "markdown",
   "metadata": {
    "slideshow": {
     "slide_type": "slide"
    }
   },
   "source": [
    "## I Cannot Delete Duplicates... (I/II)\n",
    "\n",
    "When you apply (chains of) methods, it may seem that the changes that you make are temporary..."
   ]
  },
  {
   "cell_type": "code",
   "execution_count": 361,
   "metadata": {},
   "outputs": [
    {
     "data": {
      "text/html": [
       "<div>\n",
       "<style scoped>\n",
       "    .dataframe tbody tr th:only-of-type {\n",
       "        vertical-align: middle;\n",
       "    }\n",
       "\n",
       "    .dataframe tbody tr th {\n",
       "        vertical-align: top;\n",
       "    }\n",
       "\n",
       "    .dataframe thead th {\n",
       "        text-align: right;\n",
       "    }\n",
       "</style>\n",
       "<table border=\"1\" class=\"dataframe\">\n",
       "  <thead>\n",
       "    <tr style=\"text-align: right;\">\n",
       "      <th></th>\n",
       "      <th>one</th>\n",
       "      <th>two</th>\n",
       "      <th>three</th>\n",
       "      <th>four</th>\n",
       "    </tr>\n",
       "  </thead>\n",
       "  <tbody>\n",
       "    <tr>\n",
       "      <th>0</th>\n",
       "      <td>0</td>\n",
       "      <td>1</td>\n",
       "      <td>2</td>\n",
       "      <td>3</td>\n",
       "    </tr>\n",
       "    <tr>\n",
       "      <th>1</th>\n",
       "      <td>?</td>\n",
       "      <td>5</td>\n",
       "      <td>6</td>\n",
       "      <td>?</td>\n",
       "    </tr>\n",
       "    <tr>\n",
       "      <th>2</th>\n",
       "      <td>8</td>\n",
       "      <td>9</td>\n",
       "      <td>10</td>\n",
       "      <td>11</td>\n",
       "    </tr>\n",
       "    <tr>\n",
       "      <th>3</th>\n",
       "      <td>?</td>\n",
       "      <td>13</td>\n",
       "      <td>14</td>\n",
       "      <td>?</td>\n",
       "    </tr>\n",
       "  </tbody>\n",
       "</table>\n",
       "</div>"
      ],
      "text/plain": [
       "  one  two  three four\n",
       "0   0    1      2    3\n",
       "1   ?    5      6    ?\n",
       "2   8    9     10   11\n",
       "3   ?   13     14    ?"
      ]
     },
     "execution_count": 361,
     "metadata": {},
     "output_type": "execute_result"
    }
   ],
   "source": [
    "import numpy as np\n",
    "import pandas as pd\n",
    "\n",
    "df = pd.DataFrame(np.arange(16).reshape(4,4), columns = [\"one\", \"two\", \"three\", \"four\"])\n",
    "df.loc[[1, 3], [\"one\", \"four\"]] = '?'\n",
    "\n",
    "df.replace('?', np.NaN).dropna()\n",
    "df"
   ]
  },
  {
   "cell_type": "markdown",
   "metadata": {
    "slideshow": {
     "slide_type": "slide"
    }
   },
   "source": [
    "## I Cannot Delete Duplicates... (II/II)\n",
    "\n",
    "Problem: Whenever you apply a (method) to a dataframe and modify it, the new dataframe will not exist (outside the memory) until you assign it to something."
   ]
  },
  {
   "cell_type": "code",
   "execution_count": 362,
   "metadata": {},
   "outputs": [
    {
     "data": {
      "text/html": [
       "<div>\n",
       "<style scoped>\n",
       "    .dataframe tbody tr th:only-of-type {\n",
       "        vertical-align: middle;\n",
       "    }\n",
       "\n",
       "    .dataframe tbody tr th {\n",
       "        vertical-align: top;\n",
       "    }\n",
       "\n",
       "    .dataframe thead th {\n",
       "        text-align: right;\n",
       "    }\n",
       "</style>\n",
       "<table border=\"1\" class=\"dataframe\">\n",
       "  <thead>\n",
       "    <tr style=\"text-align: right;\">\n",
       "      <th></th>\n",
       "      <th>one</th>\n",
       "      <th>two</th>\n",
       "      <th>three</th>\n",
       "      <th>four</th>\n",
       "    </tr>\n",
       "  </thead>\n",
       "  <tbody>\n",
       "    <tr>\n",
       "      <th>0</th>\n",
       "      <td>0.0</td>\n",
       "      <td>1</td>\n",
       "      <td>2</td>\n",
       "      <td>3.0</td>\n",
       "    </tr>\n",
       "    <tr>\n",
       "      <th>2</th>\n",
       "      <td>8.0</td>\n",
       "      <td>9</td>\n",
       "      <td>10</td>\n",
       "      <td>11.0</td>\n",
       "    </tr>\n",
       "  </tbody>\n",
       "</table>\n",
       "</div>"
      ],
      "text/plain": [
       "   one  two  three  four\n",
       "0  0.0    1      2   3.0\n",
       "2  8.0    9     10  11.0"
      ]
     },
     "execution_count": 362,
     "metadata": {},
     "output_type": "execute_result"
    }
   ],
   "source": [
    "df_new = df.replace('?', np.NaN).dropna()\n",
    "df_new"
   ]
  },
  {
   "cell_type": "markdown",
   "metadata": {
    "slideshow": {
     "slide_type": "slide"
    }
   },
   "source": [
    "## How do I plot multiple plots in the same figure?"
   ]
  },
  {
   "cell_type": "code",
   "execution_count": 352,
   "metadata": {},
   "outputs": [],
   "source": [
    "#Generate data\n",
    "X = np.arange(-5, 5 , 0.1)\n",
    "Y1 = np.sin(X)\n",
    "Y2 = np.cos(X)"
   ]
  },
  {
   "cell_type": "markdown",
   "metadata": {
    "slideshow": {
     "slide_type": "slide"
    }
   },
   "source": [
    "Let's then plot two curves in the same figure but different axes:"
   ]
  },
  {
   "cell_type": "code",
   "execution_count": 363,
   "metadata": {
    "slideshow": {
     "slide_type": "fragment"
    }
   },
   "outputs": [
    {
     "data": {
      "image/png": "[encoded data removed]",
      "text/plain": [
       "<Figure size 432x288 with 2 Axes>"
      ]
     },
     "metadata": {
      "needs_background": "light"
     },
     "output_type": "display_data"
    }
   ],
   "source": [
    "import matplotlib.pyplot as plt\n",
    "\n",
    "fig, ax = plt.subplots(nrows = 2, ncols = 1)\n",
    "\n",
    "ax[0].plot(X,Y1, color = 'red')\n",
    "ax[0].set_title(\"Sine(x)\")\n",
    "\n",
    "ax[1].plot(X,Y2, color = 'green')\n",
    "ax[1].set_title(\"Cosine(x)\") \n",
    "\n",
    "fig.tight_layout()"
   ]
  },
  {
   "cell_type": "markdown",
   "metadata": {
    "slideshow": {
     "slide_type": "slide"
    }
   },
   "source": [
    "Now let's try and plot the on the same axes"
   ]
  },
  {
   "cell_type": "code",
   "execution_count": 365,
   "metadata": {
    "slideshow": {
     "slide_type": "fragment"
    }
   },
   "outputs": [
    {
     "data": {
      "image/png": "[encoded data removed]",
      "text/plain": [
       "<Figure size 432x288 with 1 Axes>"
      ]
     },
     "metadata": {
      "needs_background": "light"
     },
     "output_type": "display_data"
    }
   ],
   "source": [
    "fig, ax = plt.subplots(nrows = 1, ncols = 1)\n",
    "\n",
    "ax.plot(X,Y1, color = 'red', label = 'Sine(x)')\n",
    "ax.plot(X,Y2, color = 'green', label = 'Cosine(x)' )\n",
    "\n",
    "ax.legend()\n",
    "\n",
    "fig.tight_layout()"
   ]
  },
  {
   "cell_type": "markdown",
   "metadata": {
    "slideshow": {
     "slide_type": "slide"
    }
   },
   "source": [
    "# Overview of Session 5\n",
    "\n",
    "Today, we will work with strings, requests and APIs. In particular, we will cover:\n",
    "1. Text as Data:\n",
    "    - What is a string, and how do we work with it?\n",
    "2. Key Based Containers:\n",
    "    - What is a dictionary, and how is this different from lists and tuples?\n",
    "    - When are dictionaries useful, and how do we work with them?\n",
    "3. Interacting with the Web:\n",
    "    - What is HTTP and HTML?\n",
    "    - What is an API, and how do interact with it?\n",
    "4. Leveraging APIs:\n",
    "    - What kinds of data can be extracted via an API?\n",
    "    - How do we translate an API into useful data?"
   ]
  },
  {
   "cell_type": "markdown",
   "metadata": {
    "slideshow": {
     "slide_type": "slide"
    }
   },
   "source": [
    "# Associated Readings"
   ]
  },
  {
   "cell_type": "markdown",
   "metadata": {
    "slideshow": {
     "slide_type": "fragment"
    }
   },
   "source": [
    "PDA:\n",
    "- Section 2.3 p. 36-38: How to work with strings in Python\n",
    "- Section 3.3 p. 77-80: Opening text files, interpreting characters\n",
    "- Section 6.1 p. 187-189: JSON data\n",
    "- Section 6.3: Intro to interacting with APIs"
   ]
  },
  {
   "cell_type": "markdown",
   "metadata": {
    "slideshow": {
     "slide_type": "fragment"
    }
   },
   "source": [
    "Gazarov (2016): \"What is an API? In English, please.\"\n",
    "- Excellent and easily understood intro to the concept\n",
    "- Examples of different 'types' of APIs\n",
    "- Intro to the concepts of servers, clients and HTML"
   ]
  },
  {
   "cell_type": "markdown",
   "metadata": {
    "slideshow": {
     "slide_type": "slide"
    }
   },
   "source": [
    "# Text as Data"
   ]
  },
  {
   "cell_type": "markdown",
   "metadata": {
    "slideshow": {
     "slide_type": "slide"
    }
   },
   "source": [
    "## Why Text Data? \n",
    "\n",
    "Data is everywhere... and collection is taking speed! \n",
    "- Personal devices and [what we have at home](https://www.nytimes.com/wirecutter/blog/amazons-alexa-never-stops-listening-to-you/) (e.g. Siri, Alexa etc.)\n",
    "- Online in terms of news websites, wikipedia, social media, blogs, document archives (lots of information!)\n",
    "\n",
    "Working with text data opens up interesting new avenues for analysis and research. Some cool examples:\n",
    "  - Text from central bank reports to analyse how the signals sent by the central bank affect long-run interest rates:\n",
    "      - [Narrative signals about uncertainty in inflation reports drive long-run outcomes](https://sekhansen.github.io/pdf_files/jme_2019.pdf)\n",
    "  - Text from annual reports to predict financial distress \n",
    "      - [Predicting Distresses\n",
    "using Deep Learning of\n",
    "Text Segments in Annual\n",
    "Reports](https://www.nationalbanken.dk/da/publikationer/Documents/2018/11/WP_130.pdf)"
   ]
  },
  {
   "cell_type": "markdown",
   "metadata": {
    "slideshow": {
     "slide_type": "slide"
    }
   },
   "source": [
    "## Text as Data\n",
    "\n",
    "Data from the web often come in HTML or other text format\n",
    "\n",
    "In this course, you will get tools to do basic work with text as data.\n",
    "\n",
    "However, in order to do that:\n",
    "\n",
    "- learn how to manipulate strings\n",
    "- save our text data in smart ways (JSON)\n",
    "- interact with the web"
   ]
  },
  {
   "cell_type": "markdown",
   "metadata": {
    "slideshow": {
     "slide_type": "slide"
    }
   },
   "source": [
    "## Videos and Exercises\n",
    "\n",
    "Now proceed to the notebook with videos and exercises, where you will first learn a bit about string operations and different non-sequential containers. Then we proceed and you will get an opportunity to interact with the web.\n",
    "\n",
    "The structure of the notebook is as follows:\n",
    "1. String Operations:\n",
    "    - Common string operations...\n",
    "    - ... more string operations...\n",
    "    - ... and warm-up exercises\n",
    "2. Saving as Text File\n",
    "3. Python Containers and Dictionaries\n",
    "4. Python and the Web\n",
    "    - Application Programming Interface (API)\n",
    "    - The Punk API\n",
    "    - The API for Statistics Denmark"
   ]
  },
  {
   "cell_type": "markdown",
   "metadata": {
    "slideshow": {
     "slide_type": "slide"
    }
   },
   "source": [
    "# Video 5.1: Key Based Containers"
   ]
  },
  {
   "cell_type": "markdown",
   "metadata": {
    "slideshow": {
     "slide_type": "slide"
    }
   },
   "source": [
    "## Containers Recap (I/II)\n",
    "\n",
    "*What are containers? Which have we seen?*"
   ]
  },
  {
   "cell_type": "markdown",
   "metadata": {
    "slideshow": {
     "slide_type": "fragment"
    }
   },
   "source": [
    "Sequential (ordered) containers:\n",
    "- `list` which we can modify (**mutable**).\n",
    "    - useful to collect data on the go\n",
    "- `tuple` which is after initial assignment **immutable**\n",
    "     - tuples are faster as they can do less things\n",
    "- `array` \n",
    "    - which is mutable in content (i.e. we can change elements)\n",
    "    - but immutable in size\n",
    "    - great for data analysis"
   ]
  },
  {
   "cell_type": "markdown",
   "metadata": {
    "slideshow": {
     "slide_type": "slide"
    }
   },
   "source": [
    "## Containers Recap (II/II)"
   ]
  },
  {
   "cell_type": "markdown",
   "metadata": {
    "slideshow": {
     "slide_type": "fragment"
    }
   },
   "source": [
    "Non-sequential (no order) containers:\n",
    "- Dictionaries (`dict`) which are accessed by keys (immutable objects).\n",
    "- Sets (`set`) where elements are\n",
    "    - unique (no duplicates) \n",
    "    - not ordered\n",
    "    - disadvantage: cannot access specific elements!"
   ]
  },
  {
   "cell_type": "markdown",
   "metadata": {
    "slideshow": {
     "slide_type": "slide"
    }
   },
   "source": [
    "## Dictionaries Recap (I/II)\n",
    "\n",
    "*How did we make a container which is accessed by arbitrary keys?*"
   ]
  },
  {
   "cell_type": "markdown",
   "metadata": {
    "slideshow": {
     "slide_type": "fragment"
    }
   },
   "source": [
    "By using a dictionary, `dict`. Simple way of constructing a `dict`:"
   ]
  },
  {
   "cell_type": "code",
   "execution_count": 22,
   "metadata": {
    "slideshow": {
     "slide_type": "-"
    }
   },
   "outputs": [],
   "source": [
    "my_dict = {'Andreas': 'Assistant Professor',\n",
    "           'Tobias': 'PhD Fellow',\n",
    "           'Hjalte': 'PhD Fellow'}"
   ]
  },
  {
   "cell_type": "code",
   "execution_count": 23,
   "metadata": {
    "slideshow": {
     "slide_type": "-"
    }
   },
   "outputs": [
    {
     "name": "stdout",
     "output_type": "stream",
     "text": [
      "PhD Fellow\n"
     ]
    }
   ],
   "source": [
    "print(my_dict['Tobias'])"
   ]
  },
  {
   "cell_type": "code",
   "execution_count": 24,
   "metadata": {
    "slideshow": {
     "slide_type": "-"
    }
   },
   "outputs": [
    {
     "name": "stdout",
     "output_type": "stream",
     "text": [
      "1000\n"
     ]
    }
   ],
   "source": [
    "my_new_dict = {}\n",
    "for a in range(0,100):\n",
    "    my_new_dict[\"cube%s\" %a] = a**3\n",
    "    \n",
    "print(my_new_dict['cube10'])"
   ]
  },
  {
   "cell_type": "markdown",
   "metadata": {
    "slideshow": {
     "slide_type": "fragment"
    }
   },
   "source": [
    "Sidenote: The `%s` token is replaced by whatever is passed to the string after the `%` symbol."
   ]
  },
  {
   "cell_type": "markdown",
   "metadata": {
    "slideshow": {
     "slide_type": "slide"
    }
   },
   "source": [
    "## Dictionaries Recap (II/II)\n",
    "\n",
    "Dictionaries can also be constructed from two associated lists. These are tied together with the `zip` function. Try the following code:"
   ]
  },
  {
   "cell_type": "code",
   "execution_count": 26,
   "metadata": {
    "slideshow": {
     "slide_type": "-"
    }
   },
   "outputs": [
    {
     "name": "stdout",
     "output_type": "stream",
     "text": [
      "[('a', 2), ('b', 3), ('c', 4)]\n"
     ]
    }
   ],
   "source": [
    "keys = ['a', 'b', 'c']\n",
    "values = range(2,5)\n",
    "\n",
    "key_value_pairs = list(zip(keys, values))\n",
    "print(key_value_pairs) #Print as a list of tuples"
   ]
  },
  {
   "cell_type": "code",
   "execution_count": 27,
   "metadata": {
    "scrolled": true,
    "slideshow": {
     "slide_type": "-"
    }
   },
   "outputs": [
    {
     "name": "stdout",
     "output_type": "stream",
     "text": [
      "{'a': 2, 'b': 3, 'c': 4}\n"
     ]
    }
   ],
   "source": [
    "my_dict2 = dict(key_value_pairs)\n",
    "print(my_dict2) #Print dictionary"
   ]
  },
  {
   "cell_type": "code",
   "execution_count": 28,
   "metadata": {},
   "outputs": [
    {
     "name": "stdout",
     "output_type": "stream",
     "text": [
      "2\n"
     ]
    }
   ],
   "source": [
    "print(my_dict2['a']) #Fetch the value associated with 'a'"
   ]
  },
  {
   "cell_type": "markdown",
   "metadata": {
    "slideshow": {
     "slide_type": "slide"
    }
   },
   "source": [
    "## Storing Containers\n",
    "\n",
    "*Does there exist a file format for easy storage of containers?*"
   ]
  },
  {
   "cell_type": "markdown",
   "metadata": {
    "slideshow": {
     "slide_type": "fragment"
    }
   },
   "source": [
    "Yes, the JSON file format.\n",
    "- Can store lists and dictionaries.\n",
    "- Syntax is the same as Python lists and dictionaries - only add quotation marks. \n",
    "    - Example: `'{\"a\":1,\"b\":1}'`\n",
    "- The most common format when accessing data through an API\n",
    "- When scraping you will often format the collected data as a JSON file"
   ]
  },
  {
   "cell_type": "markdown",
   "metadata": {
    "slideshow": {
     "slide_type": "slide"
    }
   },
   "source": [
    "# VIDEO 5.2: Interacting with the Web"
   ]
  },
  {
   "cell_type": "markdown",
   "metadata": {
    "slideshow": {
     "slide_type": "slide"
    }
   },
   "source": [
    "## The Internet as Data (I/II)\n",
    "\n",
    "When we surf around the internet we are exposed to a wealth of information."
   ]
  },
  {
   "cell_type": "markdown",
   "metadata": {
    "slideshow": {
     "slide_type": "fragment"
    }
   },
   "source": [
    "- Examples: Facebook, Twitter, Reddit, Wikipedia, Airbnb etc."
   ]
  },
  {
   "cell_type": "markdown",
   "metadata": {
    "slideshow": {
     "slide_type": "fragment"
    }
   },
   "source": [
    "What if we could take this and analyze it?"
   ]
  },
  {
   "cell_type": "markdown",
   "metadata": {
    "slideshow": {
     "slide_type": "fragment"
    }
   },
   "source": [
    "- Well, we can. And we will. "
   ]
  },
  {
   "cell_type": "markdown",
   "metadata": {
    "slideshow": {
     "slide_type": "slide"
    }
   },
   "source": [
    "## The Internet as Data (II/II)\n"
   ]
  },
  {
   "cell_type": "markdown",
   "metadata": {
    "slideshow": {
     "slide_type": "fragment"
    }
   },
   "source": [
    "- Sometimes we get lucky. The data is served to us (i.e. weather data in assignment 0)\n",
    "- The data is provided as an `API` service (today)\n",
    "- The data can extracted by queries on underlying tables (scraping sessions). However, often we need to do the work ourselves:\n",
    "    - We need to explore the structure of the webpage we are interested in\n",
    "    - We can extract relevant elements \n"
   ]
  },
  {
   "cell_type": "markdown",
   "metadata": {
    "slideshow": {
     "slide_type": "slide"
    }
   },
   "source": [
    "## Web Interactions\n",
    "\n",
    "In the words of Gazarov (2016): The web can be seen as a large network of connected servers\n",
    "- A page on the internet is stored somewhere on a remote server\n",
    "    - Remote server $\\sim$ (part of a) remotely located computer that is optimized to process requests"
   ]
  },
  {
   "cell_type": "markdown",
   "metadata": {
    "slideshow": {
     "slide_type": "fragment"
    }
   },
   "source": [
    "- When accessing a web page through browser:\n",
    "    - Your browser (the *client*) sends a request to the website's server\n",
    "    - The server then sends code back to the browser\n",
    "    - This code is interpreted by the browser and displayed\n"
   ]
  },
  {
   "cell_type": "markdown",
   "metadata": {
    "slideshow": {
     "slide_type": "slide"
    }
   },
   "source": [
    "## The Web Protocol\n",
    "*What is `http` and where is it used?*"
   ]
  },
  {
   "cell_type": "markdown",
   "metadata": {
    "slideshow": {
     "slide_type": "fragment"
    }
   },
   "source": [
    "- `http` stands for HyperText Transfer Protocol.\n",
    "- `http` is used for transmitting the data when a webpage is visited:\n",
    "   - The visiting client (i.e. Chrome) sends a `http` request to the web (e.g. an HTML page, JPG image, data etc.);\n",
    "   - The server receives and processes the request, and returns a `http` response to the browser.\n",
    "   - Note: `http` is not a programming language, but a protocol for transferring the hypertext pages from Web Server to Web Browser"
   ]
  },
  {
   "cell_type": "markdown",
   "metadata": {
    "slideshow": {
     "slide_type": "fragment"
    }
   },
   "source": [
    "*Should we care about `http`?*"
   ]
  },
  {
   "cell_type": "markdown",
   "metadata": {
    "slideshow": {
     "slide_type": "fragment"
    }
   },
   "source": [
    "- In this course we ***do not*** care explicitly about `http`. \n",
    "- We use a Python module called `requests` as a `http` interface.\n"
   ]
  },
  {
   "cell_type": "markdown",
   "metadata": {
    "slideshow": {
     "slide_type": "slide"
    }
   },
   "source": [
    "## Markup Language\n",
    "*What is `html` and where is it used?*"
   ]
  },
  {
   "cell_type": "markdown",
   "metadata": {
    "slideshow": {
     "slide_type": "fragment"
    }
   },
   "source": [
    "- HyperText Markup Lanugage\n",
    "- Most common programming languages used to create and design websites and pages\n",
    "  - That is, `html` contains: content, design, available actions."
   ]
  },
  {
   "cell_type": "markdown",
   "metadata": {
    "slideshow": {
     "slide_type": "fragment"
    }
   },
   "source": [
    "*Should we care about `html`?*"
   ]
  },
  {
   "cell_type": "markdown",
   "metadata": {
    "slideshow": {
     "slide_type": "fragment"
    }
   },
   "source": [
    "- Yes, `html` is often where the interesting data can be found.\n",
    "- Sometimes, we are lucky, and instead of `html` we get a JSON in return. \n",
    "- Getting data from `html` is the topic of the coming scraping sessions."
   ]
  },
  {
   "cell_type": "markdown",
   "metadata": {
    "slideshow": {
     "slide_type": "slide"
    }
   },
   "source": [
    "# VIDEO 5.3: Leveraging APIs "
   ]
  },
  {
   "cell_type": "markdown",
   "metadata": {
    "slideshow": {
     "slide_type": "slide"
    }
   },
   "source": [
    "## Web APIs (I/IV)\n",
    "*So when do we get lucky, i.e. when is `html` not important?*"
   ]
  },
  {
   "cell_type": "markdown",
   "metadata": {
    "slideshow": {
     "slide_type": "fragment"
    }
   },
   "source": [
    "- When we get a Application Programming Interface (`API`) on the web\n",
    "- The API usually provides access to a database or some service\n",
    "- How does it work?\n",
    "  - We send a query to the Web API (e.g. a `http`-request / URL that describes the relevant content)\n",
    "  - We get a response from the Web API with data back in return, typically as structured as JSON (but could really be any format).\n"
   ]
  },
  {
   "cell_type": "markdown",
   "metadata": {
    "slideshow": {
     "slide_type": "slide"
    }
   },
   "source": [
    "## Web APIs (II/IV)\n",
    "*So where is the API?*"
   ]
  },
  {
   "cell_type": "markdown",
   "metadata": {
    "slideshow": {
     "slide_type": "fragment"
    }
   },
   "source": [
    "- Usually on separate sub-domain, e.g. `api.github.com`\n",
    "    - The data is often not visible\n",
    "    - We have to access it through the http-request / URL\n",
    "- Sometimes hidden in code (see sessions on scraping) "
   ]
  },
  {
   "cell_type": "markdown",
   "metadata": {
    "slideshow": {
     "slide_type": "fragment"
    }
   },
   "source": [
    "*So how do we know how the API works?*"
   ]
  },
  {
   "cell_type": "markdown",
   "metadata": {
    "slideshow": {
     "slide_type": "fragment"
    }
   },
   "source": [
    "- There usually is some documentation. E.g. google [\"api github com\"](https://www.google.com/search?q=api+github)"
   ]
  },
  {
   "cell_type": "markdown",
   "metadata": {
    "slideshow": {
     "slide_type": "slide"
    }
   },
   "source": [
    "## Web APIs (III/IV)\n",
    "*So is data free? As in free lunch?*"
   ]
  },
  {
   "cell_type": "markdown",
   "metadata": {
    "slideshow": {
     "slide_type": "fragment"
    }
   },
   "source": [
    "- Most commercial APIs require authentication and have limited free usage\n",
    "  - e.g. Google Maps, various weather services"
   ]
  },
  {
   "cell_type": "markdown",
   "metadata": {
    "slideshow": {
     "slide_type": "fragment"
    }
   },
   "source": [
    "- Some open APIs that are free\n",
    "  - Danish \n",
    "    - Statistics Denmark (DST)\n",
    "    - Danish weather data (DMI)\n",
    "    - Danish spatial data (DAWA, danish addresses) \n",
    "  - Global\n",
    "      - OpenStreetMaps, Wikipedia"
   ]
  },
  {
   "cell_type": "markdown",
   "metadata": {
    "slideshow": {
     "slide_type": "fragment"
    }
   },
   "source": [
    "- If no authentication is required the API may be delimited.\n",
    "  - This means only a certain number of requests can be handled per second or per hour from a given IP address."
   ]
  },
  {
   "cell_type": "markdown",
   "metadata": {
    "slideshow": {
     "slide_type": "slide"
    }
   },
   "source": [
    "## Web APIs (IV/IV)\n",
    "*So how to make the URLs?*"
   ]
  },
  {
   "cell_type": "markdown",
   "metadata": {
    "slideshow": {
     "slide_type": "fragment"
    }
   },
   "source": [
    "- An `API` query is a URL consisting of:\n",
    "  - Server URL, e.g. `https://api.github.com`\n",
    "  - Endpoint path, `/users/isdsucph/repos`\n",
    "  \n",
    "- The `API` documentation can then be used to built URLs that access relevant information "
   ]
  },
  {
   "cell_type": "markdown",
   "metadata": {
    "slideshow": {
     "slide_type": "slide"
    }
   },
   "source": [
    "## Web APIs: An Example"
   ]
  },
  {
   "cell_type": "markdown",
   "metadata": {
    "slideshow": {
     "slide_type": "fragment"
    }
   },
   "source": [
    "- Let's consider the punk API that contains information on a large selection of beers\n",
    "    - https://punkapi.com/"
   ]
  },
  {
   "cell_type": "code",
   "execution_count": 60,
   "metadata": {
    "scrolled": true,
    "slideshow": {
     "slide_type": "fragment"
    }
   },
   "outputs": [
    {
     "data": {
      "text/plain": [
       "'Buzz'"
      ]
     },
     "execution_count": 60,
     "metadata": {},
     "output_type": "execute_result"
    }
   ],
   "source": [
    "import requests\n",
    "response = requests.get('https://api.punkapi.com/v2/beers/1')\n",
    "response.json()[0]['name']"
   ]
  }
 ],
 "metadata": {
  "celltoolbar": "Slideshow",
  "kernelspec": {
   "display_name": "Python 3 (ipykernel)",
   "language": "python",
   "name": "python3"
  },
  "language_info": {
   "codemirror_mode": {
    "name": "ipython",
    "version": 3
   },
   "file_extension": ".py",
   "mimetype": "text/x-python",
   "name": "python",
   "nbconvert_exporter": "python",
   "pygments_lexer": "ipython3",
   "version": "3.9.12"
  }
 },
 "nbformat": 4,
 "nbformat_minor": 4
}
