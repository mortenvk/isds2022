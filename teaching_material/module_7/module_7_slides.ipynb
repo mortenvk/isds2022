{
 "cells": [
  {
   "cell_type": "markdown",
   "metadata": {
    "slideshow": {
     "slide_type": "slide"
    }
   },
   "source": [
    "# Session 7: Web Scraping 2, HTML and parsing\n",
    "\n",
    "*Hjalte Fejerskov Boas*"
   ]
  },
  {
   "cell_type": "markdown",
   "metadata": {
    "slideshow": {
     "slide_type": "slide"
    }
   },
   "source": [
    "## Recap\n",
    "\n",
    "Recall the different steps in web scraping:\n",
    "1. Mapping (session 6):\n",
    "    - We learned how to use the structure of the URL to go through all the webpages you want to scrape\n",
    "2. Downloading (session 6):\n",
    "    - We learned how to download the HTML strings of webpages\n",
    "    - We learned how to use the network panel to download data directly from the webpage's server\n",
    "3. Parsing (this session)\n",
    "\n",
    "In this session we will learn how to parse the downloaded HTML into meaningful and structured data"
   ]
  },
  {
   "cell_type": "markdown",
   "metadata": {
    "slideshow": {
     "slide_type": "slide"
    }
   },
   "source": [
    "## Required readings\n",
    "\n",
    "- [Beautiful Soup: Build a Web Scraper With Python](https://realpython.com/beautiful-soup-web-scraper-python/)\n",
    "\n",
    "- [A Practical Introduction to Web Scraping in Python](https://realpython.com/python-web-scraping-practical-introduction/)"
   ]
  },
  {
   "cell_type": "markdown",
   "metadata": {
    "slideshow": {
     "slide_type": "slide"
    }
   },
   "source": [
    "# Overview of Session 7\n",
    "\n",
    "1. What is HTML?\n",
    "    - How does the tree structure work?\n",
    "2. How can we find our way in the HTML string? I.e. find the data we need (parse the HTML string)\n",
    "    - Regex\n",
    "    - CSS selectors\n",
    "    - BeautifulSoup\n",
    "        - Today we will mainly spend time on BeautifulSoup"
   ]
  },
  {
   "cell_type": "markdown",
   "metadata": {
    "slideshow": {
     "slide_type": "slide"
    }
   },
   "source": [
    "## Introduction to HTML"
   ]
  },
  {
   "cell_type": "markdown",
   "metadata": {
    "slideshow": {
     "slide_type": "fragment"
    }
   },
   "source": [
    "### Recall from previous session\n",
    "\n",
    "How a human sees a webpage             |  How a computer sees a webpage (**HTML**)\n",
    ":-------------------------:|:-------------------------:\n",
    "![](https://drive.google.com/uc?exportview&id=1cbrC303j-gQnXbXyTEQBPT2xH7kgz6Cy)  |  ![](https://drive.google.com/uc?export=view&id=1VFlfDcJHCzbtmkpr4kvXzGecrDE7KmLY)"
   ]
  },
  {
   "cell_type": "markdown",
   "metadata": {
    "slideshow": {
     "slide_type": "subslide"
    }
   },
   "source": [
    "## [What is HTML?](https://www.w3schools.com/html/html_intro.asp)  \n",
    "\n",
    "HTML(Hyper Text Markup Language) is the standard language for creating webpages"
   ]
  },
  {
   "cell_type": "markdown",
   "metadata": {
    "slideshow": {
     "slide_type": "fragment"
    }
   },
   "source": [
    "### HTML elements and tags\n",
    "\n",
    "HTML consists of different elements: These elements tell your browser what to display and how to display it\n",
    "\n",
    "An HTML element consists of a tag and the element content.\n",
    "- The tag defines the content: for example the tag ```<h1>``` defines the content as \"a large heading\"\n",
    "- Example: \n",
    "```html \n",
    "<h1> My first heading </h1>\n",
    "```"
   ]
  },
  {
   "cell_type": "markdown",
   "metadata": {
    "slideshow": {
     "slide_type": "subslide"
    }
   },
   "source": [
    "In the browser, the HTML above will show up like this: <h1> My first heading </h1>"
   ]
  },
  {
   "cell_type": "markdown",
   "metadata": {
    "slideshow": {
     "slide_type": "subslide"
    }
   },
   "source": [
    "### Important tags\n",
    "\n",
    "Here are some examples of often used tags:\n",
    "```html \n",
    "<h1> Defines a large header </h1>\n",
    "<p> Defines a paragraph </p>    \n",
    "<div> Defines a section </div>\n",
    "<a> Defines a link </a> \n",
    "<table> Defines a table </table> \n",
    "```"
   ]
  },
  {
   "cell_type": "markdown",
   "metadata": {
    "slideshow": {
     "slide_type": "subslide"
    }
   },
   "source": [
    "### Attributes to the HTML elements\n",
    "Each element can have some [attributes](https://www.w3schools.com/html/html_attributes.asp)\n",
    "\n",
    "- They are specified in the tags\n",
    "- Example: \n",
    "```html \n",
    "<div class=myclass> My first section </div>\n",
    "```"
   ]
  },
  {
   "cell_type": "markdown",
   "metadata": {
    "slideshow": {
     "slide_type": "fragment"
    }
   },
   "source": [
    "### Important attributes\n",
    "Here are some examples of often used attributes:\n",
    "- class: Specifies a class for an HTML element (multiple elements can share the same class)\n",
    "- id: Specifies a *unique* id for an HTML element\n",
    "- href: Specifies the link's destination/URL (used in combination with the ```<a>``` tag)"
   ]
  },
  {
   "cell_type": "markdown",
   "metadata": {
    "slideshow": {
     "slide_type": "subslide"
    }
   },
   "source": [
    "### HTML is like a tree\n",
    "\n",
    "An element is also called a node\n",
    "\n",
    "A node can have more nodes inside it. The nodes inside are then called *children*"
   ]
  },
  {
   "cell_type": "markdown",
   "metadata": {
    "slideshow": {
     "slide_type": "fragment"
    }
   },
   "source": [
    "- Example: \n",
    "```html \n",
    "<div> \n",
    "    <p> My first paragraph </p>\n",
    "</div>\n",
    "```\n",
    "In this example, ```<p>``` is the child, and ```<div>``` is the parent.\n",
    "- You may come across expressions like *children*, *siblings*, *parents*, *descendants*"
   ]
  },
  {
   "cell_type": "markdown",
   "metadata": {
    "slideshow": {
     "slide_type": "subslide"
    }
   },
   "source": [
    "### Here is an example of an HTML tree (can you see the similarity with a family tree?) \n",
    "<img src=\"http://www.openbookproject.net/tutorials/getdown/css/images/lesson4/HTMLDOMTree.png\"/>"
   ]
  },
  {
   "cell_type": "markdown",
   "metadata": {
    "slideshow": {
     "slide_type": "slide"
    }
   },
   "source": [
    "# Video 7.1: Navigating the HTML tree, intro"
   ]
  },
  {
   "cell_type": "markdown",
   "metadata": {
    "slideshow": {
     "slide_type": "subslide"
    }
   },
   "source": [
    "## How do we find our way around the HTML tree?\n",
    "\n",
    "The HTML contains the information that we are interested in!\n",
    "- But how do we locate it?"
   ]
  },
  {
   "cell_type": "markdown",
   "metadata": {
    "slideshow": {
     "slide_type": "fragment"
    }
   },
   "source": [
    "### Three ways of finding the information you want:\n",
    "1. Regex: Exploiting string patterns in HTML using regular expresssions\n",
    "2. CSS-selectors: Specifying paths in the tree using CSS-selectors\n",
    "3. ```BeautifulSoup```: A Python package that makes it easy to navigate the HTML tree"
   ]
  },
  {
   "cell_type": "markdown",
   "metadata": {
    "slideshow": {
     "slide_type": "subslide"
    }
   },
   "source": [
    "### 1. Regex\n",
    "**What is regex?**\n",
    "\n",
    "Regex is used to define a search pattern in text"
   ]
  },
  {
   "cell_type": "markdown",
   "metadata": {
    "slideshow": {
     "slide_type": "fragment"
    }
   },
   "source": [
    "Suppose we want to search for all links in an HTML tree:\n",
    "- We can then define a search pattern in regex that searches for \"www.\" for example\n",
    "- Using regex we will then find all the places in the HTML where it says \"www.\""
   ]
  },
  {
   "cell_type": "markdown",
   "metadata": {
    "slideshow": {
     "slide_type": "fragment"
    }
   },
   "source": [
    "Note: Regex only works on text/strings. So we need to convert our HTML tree into one large string before we can use regex on HTML\n",
    "\n",
    "More about regex in session 8!"
   ]
  },
  {
   "cell_type": "markdown",
   "metadata": {
    "slideshow": {
     "slide_type": "subslide"
    }
   },
   "source": [
    "### 2. [CSS Selectors ](https://en.wikipedia.org/wiki/CSS)\n",
    "A CSS selector is used to select the HTML elements ([How can you use a CSS selector?](https://www.scrapingbee.com/blog/python-web-scraping-beautiful-soup/))\n",
    "- At first it will seem very similar to the BeautifulSoup way of selecting elements (which you will learn in a minute)\n",
    "    - However, a CSS selector is useful when you cannot rely on *class* and *id* attributes (for example in very messy written HTML)\n",
    "\n",
    "It is a need way to define a unique path to an element or multiple similar elements in the HTML tree\n",
    "\n",
    "You can download a CSS Selector as a Google Chrome extension that will do the work for you: [SelectorGadget](https://chrome.google.com/webstore/detail/selectorgadget/mhjhnkcfbdhnjickkkdbjoemdmbfginb)"
   ]
  },
  {
   "cell_type": "code",
   "execution_count": 1,
   "metadata": {},
   "outputs": [
    {
     "name": "stdout",
     "output_type": "stream",
     "text": [
      "Requirement already satisfied: lxml in /Users/MortenKarlsen/miniconda3/lib/python3.9/site-packages (4.9.1)\n",
      "Note: you may need to restart the kernel to use updated packages.\n"
     ]
    }
   ],
   "source": [
    "pip install lxml\n"
   ]
  },
  {
   "cell_type": "code",
   "execution_count": 2,
   "metadata": {
    "slideshow": {
     "slide_type": "subslide"
    }
   },
   "outputs": [],
   "source": [
    "import requests\n",
    "from bs4 import BeautifulSoup\n",
    "import pandas as pd"
   ]
  },
  {
   "cell_type": "markdown",
   "metadata": {
    "slideshow": {
     "slide_type": "subslide"
    }
   },
   "source": [
    "#### BeautifulSoup has a built-in CSS selector:\n",
    "\n",
    "Just use the function `.select`"
   ]
  },
  {
   "cell_type": "code",
   "execution_count": 3,
   "metadata": {
    "slideshow": {
     "slide_type": "fragment"
    }
   },
   "outputs": [],
   "source": [
    "url = 'https://www.dr.dk/nyheder/udland'\n",
    "response = requests.get(url)\n",
    "soup = BeautifulSoup(response.content, 'lxml') #Make the BeautifulSoup object (soup): Take the HTML content as input and choose your parser (lxml)"
   ]
  },
  {
   "cell_type": "code",
   "execution_count": 4,
   "metadata": {
    "slideshow": {
     "slide_type": "fragment"
    }
   },
   "outputs": [
    {
     "data": {
      "text/plain": [
       "'Knap var flyet landet i Taiwan, før en storpolitisk konflikt var i lys lue - her er forklaringen'"
      ]
     },
     "execution_count": 4,
     "metadata": {},
     "output_type": "execute_result"
    }
   ],
   "source": [
    "# The CSS selector \".dre-hyphenate-text\" selects all titles on the DR international news page\n",
    "soup.select('.dre-hyphenate-text')[0].text #Selecting first title"
   ]
  },
  {
   "cell_type": "markdown",
   "metadata": {
    "slideshow": {
     "slide_type": "subslide"
    }
   },
   "source": [
    "### 3. Parsing HTML with BeautifulSoup\n",
    "A third way to navigate the HTML tree is BeautifulSoup\n",
    "\n",
    "It exploits the stucture of tags and attributes"
   ]
  },
  {
   "cell_type": "markdown",
   "metadata": {
    "slideshow": {
     "slide_type": "fragment"
    }
   },
   "source": [
    "It allows you to:\n",
    "- Search for elements by tag name and/or by attribute.\n",
    "- Iterate through them, go up, sideways or down the tree.\n",
    "- Furthermore it helps you with standard tasks such as extracting raw text from html"
   ]
  },
  {
   "cell_type": "markdown",
   "metadata": {
    "slideshow": {
     "slide_type": "slide"
    }
   },
   "source": [
    "# Video 7.2: Parsing the HTML with BeautifulSoup"
   ]
  },
  {
   "cell_type": "markdown",
   "metadata": {
    "slideshow": {
     "slide_type": "slide"
    }
   },
   "source": [
    "## Learning by doing: Creating a dataset from www.dr.dk/nyheder/udland\n",
    "\n",
    "### Let's put together some of the stuff we have learned so far\n",
    "1. **Mapping:** In this exercise we will collect some URLs from webpages with news articles and save them into a list\n",
    "2. **Downloading:** Then we will download the HTML content of the webpages\n",
    "3. **Parsing:** At last we will collect relevant information in each article"
   ]
  },
  {
   "cell_type": "markdown",
   "metadata": {
    "slideshow": {
     "slide_type": "slide"
    }
   },
   "source": [
    "## 1. MAPPING"
   ]
  },
  {
   "cell_type": "markdown",
   "metadata": {
    "slideshow": {
     "slide_type": "subslide"
    }
   },
   "source": [
    "#### First, we investigate the site trying to understand its structure\n",
    "\n",
    "We do this by opening up the Chrome Developer Tools on the webpage:\n",
    "1. Right-click anywhere on the webpage\n",
    "2. Click \"Inspect\"\n",
    "3. Choose the panel \"Elements\""
   ]
  },
  {
   "cell_type": "markdown",
   "metadata": {
    "slideshow": {
     "slide_type": "fragment"
    }
   },
   "source": [
    "You can now see the HTML of the webpage and the tree structure.\n",
    "\n",
    "First, we want to understand where the articles are located in the HTML: \n",
    "- The \"Elements\" panel will jump to the place in the HTML tree where you right-click\n",
    "- So to find the location of articles in the HTML, just right-click on one of them"
   ]
  },
  {
   "cell_type": "markdown",
   "metadata": {
    "slideshow": {
     "slide_type": "subslide"
    }
   },
   "source": [
    "#### Get the webpage content and make the BeautifulSoup object:"
   ]
  },
  {
   "cell_type": "code",
   "execution_count": 5,
   "metadata": {
    "slideshow": {
     "slide_type": "fragment"
    }
   },
   "outputs": [],
   "source": [
    "# Define our URL\n",
    "url = 'https://www.dr.dk/nyheder/udland' \n",
    "\n",
    "# Connects to site\n",
    "response = requests.get(url)\n",
    "\n",
    "# Parse data with BeautifulSoup\n",
    "soup = BeautifulSoup(response.content,'lxml')"
   ]
  },
  {
   "cell_type": "markdown",
   "metadata": {
    "slideshow": {
     "slide_type": "subslide"
    }
   },
   "source": [
    "#### Find the articles to scrape:\n",
    "\n",
    "[`find_all`](https://www.crummy.com/software/BeautifulSoup/bs4/doc/#find-all) finds all elements in the HTML that have the tag ```<div>``` and the class attribute 'dre-teaser-content' "
   ]
  },
  {
   "cell_type": "code",
   "execution_count": 6,
   "metadata": {
    "slideshow": {
     "slide_type": "fragment"
    }
   },
   "outputs": [],
   "source": [
    "# Identify articles to scrape by inspecting site\n",
    "articles = soup.find_all('div', class_ = 'dre-teaser-content') #(class_ is used because class is reserved in Python)"
   ]
  },
  {
   "cell_type": "code",
   "execution_count": 7,
   "metadata": {
    "slideshow": {
     "slide_type": "fragment"
    }
   },
   "outputs": [
    {
     "data": {
      "text/plain": [
       "[<div class=\"dre-teaser-content\"><div class=\"dre-article-teaser__text-box dre-article-teaser__text-box--transparent dre-article-teaser__text-box--xxs-xx-small dre-article-teaser__text-box--xs-x-small dre-article-teaser__text-box--sm-small dre-article-teaser__text-box--md-large dre-article-teaser__text-box--lg-large dre-article-teaser__text-box--xl-large\"><div class=\"dre-article-teaser__meta-wrapper\"><div class=\"dre-article-teaser-meta-label\"><div aria-hidden=\"true\" class=\"dre-teaser-meta\"><span class=\"dre-label-text dre-label-text--xxs-x-small\"><span class=\"dre-label-text__text\"><span class=\"dre-teaser-meta__part dre-teaser-meta__part--primary\"><span class=\"dre-teaser-meta-label dre-teaser-meta-label--primary\">Udland</span></span><span class=\"dre-teaser-meta__part\"><span class=\"dre-teaser-meta-label\">I går kl. 20:50</span></span></span></span></div></div></div><a aria-label='Knap var flyet landet i Taiwan, før en storpolitisk konflikt var i lys lue - her er forklaringen, fra sektionen \"Udland\"' class=\"dre-teaser-title dre-teaser-title--xxs-xx-small dre-teaser-title--xs-x-small dre-teaser-title--sm-small dre-teaser-title--md-large dre-teaser-title--lg-large dre-teaser-title--xl-large\" href=\"/nyheder/udland/knap-var-flyet-landet-i-taiwan-foer-en-storpolitisk-konflikt-var-i-lys-lue-her-er\"><span class=\"dre-teaser-title__text\"><span class=\"dre-title-text\"><span class=\"dre-hyphenate-text\">Knap var flyet landet i Taiwan, før en <span class=\"dre-hyphenate-text__hyphen\">storpolitisk</span> konflikt var i lys lue - her er <span class=\"dre-hyphenate-text__hyphen\">forklaringen</span></span></span></span></a></div></div>,\n",
       " <div class=\"dre-teaser-content\"><div class=\"dre-article-teaser__text-box dre-article-teaser__text-box--transparent dre-article-teaser__text-box--xxs-xx-small dre-article-teaser__text-box--xs-xx-small dre-article-teaser__text-box--sm-xx-small dre-article-teaser__text-box--md-x-small dre-article-teaser__text-box--lg-x-small dre-article-teaser__text-box--xl-x-small\"><div class=\"dre-article-teaser__meta-wrapper\"><div class=\"dre-article-teaser-meta-label\"><div aria-hidden=\"true\" class=\"dre-teaser-meta\"><span class=\"dre-label-text dre-label-text--xxs-x-small\"><span class=\"dre-label-text__text\"><span class=\"dre-teaser-meta__part dre-teaser-meta__part--primary\"><span class=\"dre-teaser-meta-label dre-teaser-meta-label--primary\">Udland</span></span><span class=\"dre-teaser-meta__part\"><span class=\"dre-teaser-meta-label\">I går kl. 18:29</span></span></span></span></div></div></div><a aria-label=\"DR's Matilde Kimer er blevet udvist af Rusland, fra sektionen &quot;Udland&quot;\" class=\"dre-teaser-title dre-teaser-title--xxs-xx-small dre-teaser-title--xs-xx-small dre-teaser-title--sm-xx-small dre-teaser-title--md-x-small dre-teaser-title--lg-x-small dre-teaser-title--xl-x-small\" href=\"/nyheder/udland/drs-matilde-kimer-er-blevet-udvist-af-rusland\"><span class=\"dre-teaser-title__text\"><span class=\"dre-title-text\"><span class=\"dre-hyphenate-text\">DR's Matilde Kimer er blevet udvist af Rusland</span></span></span></a></div></div>,\n",
       " <div class=\"dre-teaser-content\"><div class=\"dre-article-teaser__text-box dre-article-teaser__text-box--transparent dre-article-teaser__text-box--xxs-xx-small dre-article-teaser__text-box--xs-xx-small dre-article-teaser__text-box--sm-xx-small dre-article-teaser__text-box--md-x-small dre-article-teaser__text-box--lg-x-small dre-article-teaser__text-box--xl-x-small\"><div class=\"dre-article-teaser__meta-wrapper\"><div class=\"dre-article-teaser-meta-label\"><div aria-hidden=\"true\" class=\"dre-teaser-meta\"><span class=\"dre-label-text dre-label-text--xxs-x-small\"><span class=\"dre-label-text__text\"><span class=\"dre-teaser-meta__part dre-teaser-meta__part--primary\"><span class=\"dre-teaser-meta-label dre-teaser-meta-label--primary\">Udland</span></span><span class=\"dre-teaser-meta__part\"><span class=\"dre-teaser-meta-label\">I går kl. 10:56</span></span></span></span></div></div></div><a aria-label=\"Første amerikanske delstat har stemt 'nej' til at fjerne retten til fri abort, fra sektionen &quot;Udland&quot;\" class=\"dre-teaser-title dre-teaser-title--xxs-xx-small dre-teaser-title--xs-xx-small dre-teaser-title--sm-xx-small dre-teaser-title--md-x-small dre-teaser-title--lg-x-small dre-teaser-title--xl-x-small\" href=\"/nyheder/udland/foerste-amerikanske-delstat-har-stemt-nej-til-fjerne-retten-til-fri-abort\"><span class=\"dre-teaser-title__text\"><span class=\"dre-title-text\"><span class=\"dre-hyphenate-text\">Første <span class=\"dre-hyphenate-text__hyphen\">amerikanske</span> delstat har stemt 'nej' til at fjerne retten til fri abort</span></span></span></a></div></div>,\n",
       " <div class=\"dre-teaser-content\"><div class=\"dre-article-teaser__text-box dre-article-teaser__text-box--transparent dre-article-teaser__text-box--xxs-xx-small dre-article-teaser__text-box--xs-x-small dre-article-teaser__text-box--sm-small dre-article-teaser__text-box--md-large dre-article-teaser__text-box--lg-large dre-article-teaser__text-box--xl-large\"><div class=\"dre-article-teaser__meta-wrapper\"><div class=\"dre-article-teaser-meta-label\"><div aria-hidden=\"true\" class=\"dre-teaser-meta\"><span class=\"dre-label-text dre-label-text--xxs-x-small\"><span class=\"dre-label-text__text\"><span class=\"dre-teaser-meta__part dre-teaser-meta__part--primary\"><span class=\"dre-teaser-meta-label dre-teaser-meta-label--primary\">Udland</span></span><span class=\"dre-teaser-meta__part\"><span class=\"dre-teaser-meta-label\">2. aug kl. 20:53</span></span></span></span></div></div></div><a aria-label='Taiwan byder Pelosi velkommen med åbne arme, mens Kina skruer op for trusler, fra sektionen \"Udland\"' class=\"dre-teaser-title dre-teaser-title--xxs-xx-small dre-teaser-title--xs-x-small dre-teaser-title--sm-small dre-teaser-title--md-large dre-teaser-title--lg-large dre-teaser-title--xl-large\" href=\"/nyheder/udland/taiwan-byder-pelosi-velkommen-med-aabne-arme-mens-kina-skruer-op-trusler\"><span class=\"dre-teaser-title__text\"><span class=\"dre-title-text\"><span class=\"dre-hyphenate-text\">Taiwan byder Pelosi velkommen med åbne arme, mens Kina skruer op for trusler</span></span></span></a></div></div>,\n",
       " <div class=\"dre-teaser-content\"><div class=\"dre-article-teaser__text-box dre-article-teaser__text-box--transparent dre-article-teaser__text-box--xxs-xx-small dre-article-teaser__text-box--xs-xx-small dre-article-teaser__text-box--sm-xx-small dre-article-teaser__text-box--md-x-small dre-article-teaser__text-box--lg-x-small dre-article-teaser__text-box--xl-x-small\"><div class=\"dre-article-teaser__meta-wrapper\"><div class=\"dre-article-teaser-meta-label\"><div aria-hidden=\"true\" class=\"dre-teaser-meta\"><span class=\"dre-label-text dre-label-text--xxs-x-small\"><span class=\"dre-label-text__text\"><span class=\"dre-teaser-meta__part dre-teaser-meta__part--primary\"><span class=\"dre-teaser-meta-label dre-teaser-meta-label--primary\">Udland</span></span><span class=\"dre-teaser-meta__part\"><span class=\"dre-teaser-meta-label\">2. aug kl. 18:14</span></span></span></span></div></div></div><a aria-label='Al-Qaeda-leder blev dræbt i diplomatkvarter - fem minutters gang fra tidligere dansk ambassade , fra sektionen \"Udland\"' class=\"dre-teaser-title dre-teaser-title--xxs-xx-small dre-teaser-title--xs-xx-small dre-teaser-title--sm-xx-small dre-teaser-title--md-x-small dre-teaser-title--lg-x-small dre-teaser-title--xl-x-small\" href=\"/nyheder/udland/al-qaeda-leder-blev-draebt-i-diplomatkvarter-fem-minutters-gang-fra-tidligere-dansk\"><span class=\"dre-teaser-title__text\"><span class=\"dre-title-text\"><span class=\"dre-hyphenate-text\">Al-Qaeda-leder blev dræbt i <span class=\"dre-hyphenate-text__hyphen\">diplomatkvarter</span> - fem minutters gang fra tidligere dansk ambassade </span></span></span></a></div></div>,\n",
       " <div class=\"dre-teaser-content\"><div class=\"dre-article-teaser__text-box dre-article-teaser__text-box--transparent dre-article-teaser__text-box--xxs-xx-small dre-article-teaser__text-box--xs-xx-small dre-article-teaser__text-box--sm-xx-small dre-article-teaser__text-box--md-x-small dre-article-teaser__text-box--lg-x-small dre-article-teaser__text-box--xl-x-small\"><div class=\"dre-article-teaser__meta-wrapper\"><div class=\"dre-article-teaser-meta-label\"><div aria-hidden=\"true\" class=\"dre-teaser-meta\"><span class=\"dre-label-text dre-label-text--xxs-x-small\"><span class=\"dre-label-text__text\"><span class=\"dre-teaser-meta__part dre-teaser-meta__part--primary\"><span class=\"dre-teaser-meta-label dre-teaser-meta-label--primary\">Udland</span></span><span class=\"dre-teaser-meta__part\"><span class=\"dre-teaser-meta-label\">2. aug kl. 16:52</span></span></span></span></div></div></div><a aria-label='Nancy Pelosi trodser kinesiske advarsler: Ankommer til Taiwan til historisk besøg, fra sektionen \"Udland\"' class=\"dre-teaser-title dre-teaser-title--xxs-xx-small dre-teaser-title--xs-xx-small dre-teaser-title--sm-xx-small dre-teaser-title--md-x-small dre-teaser-title--lg-x-small dre-teaser-title--xl-x-small\" href=\"/nyheder/udland/nancy-pelosi-trodser-kinesiske-advarsler-ankommer-til-taiwan-til-historisk-besoeg\"><span class=\"dre-teaser-title__text\"><span class=\"dre-title-text dre-title-text--prefixed\"><strong class=\"dre-title-text__prefix\"><span class=\"dre-hyphenate-text\">Nancy Pelosi trodser kinesiske advarsler: </span></strong><span class=\"dre-title-text__prefixed\"><span class=\"dre-hyphenate-text\">Ankommer til Taiwan til historisk besøg</span></span></span></span></a></div></div>,\n",
       " <div class=\"dre-teaser-content\"><div class=\"dre-story-teaser__text-box dre-story-teaser__text-box--xxs-x-small dre-story-teaser__text-box--xs-x-small dre-story-teaser__text-box--sm-xx-small dre-story-teaser__text-box--md-x-small dre-story-teaser__text-box--lg-x-small dre-story-teaser__text-box--xl-x-small\"><div class=\"dre-story-teaser__title-wrapper\"><div class=\"dre-story-teaser__meta-wrapper\"><div class=\"dre-story-teaser__meta-label\"><span class=\"dre-label-text dre-label-text--xxs-x-small\"><span class=\"dre-label-text__text\">Udland</span></span></div></div><a class=\"dre-story-teaser__title dre-story-teaser__title--xxs-x-small dre-story-teaser__title--xs-x-small dre-story-teaser__title--sm-xx-small dre-story-teaser__title--md-x-small dre-story-teaser__title--lg-x-small dre-story-teaser__title--xl-x-small\" href=\"https://www.dr.dk/stories/1288510966/usa-har-drbt-al-qaedas-topleder-hvad-betyder-det/\"><div class=\"dre-mark__block\"><mark class=\"dre-mark\"><span class=\"dre-hyphenate-text\">Er verden mere sikker nu? Ekspert giver dig tre svar om drabet på al-Qaeda-leder her</span></mark></div></a></div></div></div>,\n",
       " <div class=\"dre-teaser-content\"><div class=\"dre-article-teaser__text-box dre-article-teaser__text-box--transparent dre-article-teaser__text-box--xxs-x-small dre-article-teaser__text-box--xs-x-small dre-article-teaser__text-box--sm-xx-small dre-article-teaser__text-box--md-x-small dre-article-teaser__text-box--lg-x-small dre-article-teaser__text-box--xl-x-small\"><div class=\"dre-article-teaser__meta-wrapper\"><div class=\"dre-article-teaser-meta-label\"><div aria-hidden=\"true\" class=\"dre-teaser-meta\"><span class=\"dre-label-text dre-label-text--xxs-x-small\"><span class=\"dre-label-text__text\"><span class=\"dre-teaser-meta__part dre-teaser-meta__part--primary\"><span class=\"dre-teaser-meta-label dre-teaser-meta-label--primary\">Udland</span></span><span class=\"dre-teaser-meta__part\"><span class=\"dre-teaser-meta-label\">2. aug kl. 13:55</span></span></span></span></div></div></div><a aria-label='Corona-læges selvmord sætter gang i østrigsk debat om netchikane, fra sektionen \"Udland\"' class=\"dre-teaser-title dre-teaser-title--xxs-x-small dre-teaser-title--xs-x-small dre-teaser-title--sm-xx-small dre-teaser-title--md-x-small dre-teaser-title--lg-x-small dre-teaser-title--xl-x-small\" href=\"/nyheder/udland/corona-laeges-selvmord-saetter-gang-i-oestrigsk-debat-om-netchikane\"><span class=\"dre-teaser-title__text\"><span class=\"dre-title-text\"><span class=\"dre-hyphenate-text\">Corona-læges selvmord sætter gang i østrigsk debat om netchikane</span></span></span></a></div></div>,\n",
       " <div class=\"dre-teaser-content\"><div class=\"dre-article-teaser__text-box dre-article-teaser__text-box--transparent dre-article-teaser__text-box--xxs-x-small dre-article-teaser__text-box--xs-x-small dre-article-teaser__text-box--sm-xx-small dre-article-teaser__text-box--md-x-small dre-article-teaser__text-box--lg-x-small dre-article-teaser__text-box--xl-x-small\"><div class=\"dre-article-teaser__meta-wrapper\"><div class=\"dre-article-teaser-meta-label\"><div aria-hidden=\"true\" class=\"dre-teaser-meta\"><span class=\"dre-label-text dre-label-text--xxs-x-small\"><span class=\"dre-label-text__text\"><span class=\"dre-teaser-meta__part dre-teaser-meta__part--primary\"><span class=\"dre-teaser-meta-label dre-teaser-meta-label--primary\">Udland</span></span><span class=\"dre-teaser-meta__part\"><span class=\"dre-teaser-meta-label\">2. aug kl. 10:52</span></span></span></span></div></div></div><a aria-label=\"Puk Damsgård: 'Markant og bemærkelsesværdigt', at al-Qaedas dræbte topleder opholdt sig i Kabul , fra sektionen &quot;Udland&quot;\" class=\"dre-teaser-title dre-teaser-title--xxs-x-small dre-teaser-title--xs-x-small dre-teaser-title--sm-xx-small dre-teaser-title--md-x-small dre-teaser-title--lg-x-small dre-teaser-title--xl-x-small\" href=\"/nyheder/udland/puk-damsgaard-markant-og-bemaerkelsesvaerdigt-al-qaedas-draebte-topleder-opholdt-sig\"><span class=\"dre-teaser-title__text\"><span class=\"dre-title-text dre-title-text--prefixed\"><strong class=\"dre-title-text__prefix\"><span class=\"dre-hyphenate-text\">Puk Damsgård: </span></strong><span class=\"dre-title-text__prefixed\"><span class=\"dre-hyphenate-text\">'Markant og <span class=\"dre-hyphenate-text__hyphen\">bemærkelsesværdigt',</span> at al-Qaedas dræbte topleder opholdt sig i Kabul </span></span></span></span></a></div></div>,\n",
       " <div class=\"dre-teaser-content\"><div class=\"dre-article-teaser__text-box dre-article-teaser__text-box--transparent dre-article-teaser__text-box--xxs-xx-small dre-article-teaser__text-box--xs-x-small dre-article-teaser__text-box--sm-small dre-article-teaser__text-box--md-large dre-article-teaser__text-box--lg-large dre-article-teaser__text-box--xl-large\"><div class=\"dre-article-teaser__meta-wrapper\"><div class=\"dre-article-teaser-meta-label\"><div aria-hidden=\"true\" class=\"dre-teaser-meta\"><span class=\"dre-label-text dre-label-text--xxs-x-small\"><span class=\"dre-label-text__text\"><span class=\"dre-teaser-meta__part dre-teaser-meta__part--primary\"><span class=\"dre-teaser-meta-label dre-teaser-meta-label--primary\">Udland</span></span><span class=\"dre-teaser-meta__part\"><span class=\"dre-teaser-meta-label\">2. aug kl. 05:32</span></span></span></span></div></div></div><a aria-label='USA dræber al-Qaedas leder med drone i Kabul, fra sektionen \"Udland\"' class=\"dre-teaser-title dre-teaser-title--xxs-xx-small dre-teaser-title--xs-x-small dre-teaser-title--sm-small dre-teaser-title--md-large dre-teaser-title--lg-large dre-teaser-title--xl-large\" href=\"/nyheder/udland/usa-draeber-al-qaedas-leder-med-drone-i-kabul\"><span class=\"dre-teaser-title__text\"><span class=\"dre-title-text\"><span class=\"dre-hyphenate-text\">USA dræber al-Qaedas leder med drone i Kabul</span></span></span></a></div></div>,\n",
       " <div class=\"dre-teaser-content\"><div class=\"dre-article-teaser__text-box dre-article-teaser__text-box--transparent dre-article-teaser__text-box--xxs-xx-small dre-article-teaser__text-box--xs-xx-small dre-article-teaser__text-box--sm-xx-small dre-article-teaser__text-box--md-x-small dre-article-teaser__text-box--lg-x-small dre-article-teaser__text-box--xl-x-small\"><div class=\"dre-article-teaser__meta-wrapper\"><div class=\"dre-article-teaser-meta-label\"><div aria-hidden=\"true\" class=\"dre-teaser-meta\"><span class=\"dre-label-text dre-label-text--xxs-x-small\"><span class=\"dre-label-text__text\"><span class=\"dre-teaser-meta__part dre-teaser-meta__part--primary\"><span class=\"dre-teaser-meta-label dre-teaser-meta-label--primary\">Udland</span></span><span class=\"dre-teaser-meta__part\"><span class=\"dre-teaser-meta-label\">1. aug kl. 13:49</span></span></span></span></div></div></div><a aria-label=\"Første fragtskib i flere måneder sejler nu gennem Sortehavet: 'En lettelse for verden', fra sektionen &quot;Udland&quot;\" class=\"dre-teaser-title dre-teaser-title--xxs-xx-small dre-teaser-title--xs-xx-small dre-teaser-title--sm-xx-small dre-teaser-title--md-x-small dre-teaser-title--lg-x-small dre-teaser-title--xl-x-small\" href=\"/nyheder/udland/foerste-fragtskib-i-flere-maaneder-sejler-nu-gennem-sortehavet-en-lettelse-verden\"><span class=\"dre-teaser-title__text\"><span class=\"dre-title-text dre-title-text--prefixed\"><strong class=\"dre-title-text__prefix\"><span class=\"dre-hyphenate-text\">Første fragtskib i flere måneder sejler nu gennem <span class=\"dre-hyphenate-text__hyphen\">Sortehavet:</span> </span></strong><span class=\"dre-title-text__prefixed\"><span class=\"dre-hyphenate-text\">'En lettelse for verden'</span></span></span></span></a></div></div>,\n",
       " <div class=\"dre-teaser-content\"><div class=\"dre-article-teaser__text-box dre-article-teaser__text-box--transparent dre-article-teaser__text-box--xxs-xx-small dre-article-teaser__text-box--xs-xx-small dre-article-teaser__text-box--sm-xx-small dre-article-teaser__text-box--md-x-small dre-article-teaser__text-box--lg-x-small dre-article-teaser__text-box--xl-x-small\"><div class=\"dre-article-teaser__meta-wrapper\"><div class=\"dre-article-teaser-meta-label\"><div aria-hidden=\"true\" class=\"dre-teaser-meta\"><span class=\"dre-label-text dre-label-text--xxs-x-small\"><span class=\"dre-label-text__text\"><span class=\"dre-teaser-meta__part dre-teaser-meta__part--primary\"><span class=\"dre-teaser-meta-label dre-teaser-meta-label--primary\">Udland</span></span><span class=\"dre-teaser-meta__part\"><span class=\"dre-teaser-meta-label\">1. aug kl. 10:50</span></span></span></span></div></div></div><a aria-label=\"'Forventningerne er meget lave' forud for verdens største konference for nedrustning af atomvåben, fra sektionen &quot;Udland&quot;\" class=\"dre-teaser-title dre-teaser-title--xxs-xx-small dre-teaser-title--xs-xx-small dre-teaser-title--sm-xx-small dre-teaser-title--md-x-small dre-teaser-title--lg-x-small dre-teaser-title--xl-x-small\" href=\"/nyheder/udland/forventningerne-er-meget-lave-forud-verdens-stoerste-konference-nedrustning-af\"><span class=\"dre-teaser-title__text\"><span class=\"dre-title-text\"><span class=\"dre-hyphenate-text\"><span class=\"dre-hyphenate-text__hyphen\">'Forventningerne</span> er meget lave' forud for verdens største konference for <span class=\"dre-hyphenate-text__hyphen\">nedrustning</span> af atomvåben</span></span></span></a></div></div>,\n",
       " <div class=\"dre-teaser-content\"><div class=\"dre-article-teaser__text-box dre-article-teaser__text-box--transparent dre-article-teaser__text-box--xxs-x-small dre-article-teaser__text-box--xs-x-small dre-article-teaser__text-box--sm-xx-small dre-article-teaser__text-box--md-x-small dre-article-teaser__text-box--lg-x-small dre-article-teaser__text-box--xl-x-small\"><div class=\"dre-article-teaser__meta-wrapper\"><div class=\"dre-article-teaser-meta-label\"><div aria-hidden=\"true\" class=\"dre-teaser-meta\"><span class=\"dre-label-text dre-label-text--xxs-x-small\"><span class=\"dre-label-text__text\"><span class=\"dre-teaser-meta__part dre-teaser-meta__part--primary\"><span class=\"dre-teaser-meta-label dre-teaser-meta-label--primary\">Udland</span></span><span class=\"dre-teaser-meta__part\"><span class=\"dre-teaser-meta-label\">1. aug kl. 05:54</span></span></span></span></div></div></div><a aria-label='Der spares, hvor der kan: EU-lande lancerer energibesparende tiltag, fra sektionen \"Udland\"' class=\"dre-teaser-title dre-teaser-title--xxs-x-small dre-teaser-title--xs-x-small dre-teaser-title--sm-xx-small dre-teaser-title--md-x-small dre-teaser-title--lg-x-small dre-teaser-title--xl-x-small\" href=\"/nyheder/udland/der-spares-hvor-der-kan-eu-lande-lancerer-energibesparende-tiltag\"><span class=\"dre-teaser-title__text\"><span class=\"dre-title-text dre-title-text--prefixed\"><strong class=\"dre-title-text__prefix\"><span class=\"dre-hyphenate-text\">Der spares, hvor der kan: </span></strong><span class=\"dre-title-text__prefixed\"><span class=\"dre-hyphenate-text\">EU-lande lancerer <span class=\"dre-hyphenate-text__hyphen\">energibesparende</span> tiltag</span></span></span></span></a></div></div>,\n",
       " <div class=\"dre-teaser-content\"><div class=\"dre-article-teaser__text-box dre-article-teaser__text-box--transparent dre-article-teaser__text-box--xxs-x-small dre-article-teaser__text-box--xs-x-small dre-article-teaser__text-box--sm-xx-small dre-article-teaser__text-box--md-x-small dre-article-teaser__text-box--lg-x-small dre-article-teaser__text-box--xl-x-small\"><div class=\"dre-article-teaser__meta-wrapper\"><div class=\"dre-article-teaser-meta-label\"><div aria-hidden=\"true\" class=\"dre-teaser-meta\"><span class=\"dre-label-text dre-label-text--xxs-x-small\"><span class=\"dre-label-text__text\"><span class=\"dre-teaser-meta__part dre-teaser-meta__part--primary\"><span class=\"dre-teaser-meta-label dre-teaser-meta-label--primary\">Udland</span></span><span class=\"dre-teaser-meta__part\"><span class=\"dre-teaser-meta-label\">31. jul kl. 20:52</span></span></span></span></div></div></div><a aria-label='Drab på nigeriansk gadesælger ved højlys dag udløser vrede i Italien, fra sektionen \"Udland\"' class=\"dre-teaser-title dre-teaser-title--xxs-x-small dre-teaser-title--xs-x-small dre-teaser-title--sm-xx-small dre-teaser-title--md-x-small dre-teaser-title--lg-x-small dre-teaser-title--xl-x-small\" href=\"/nyheder/udland/drab-paa-nigeriansk-gadesaelger-ved-hoejlys-dag-udloeser-vrede-i-italien\"><span class=\"dre-teaser-title__text\"><span class=\"dre-title-text\"><span class=\"dre-hyphenate-text\">Drab på nigeriansk gadesælger ved højlys dag udløser vrede i Italien</span></span></span></a></div></div>,\n",
       " <div class=\"dre-teaser-content\"><div class=\"dre-article-teaser__text-box dre-article-teaser__text-box--transparent dre-article-teaser__text-box--xxs-x-small dre-article-teaser__text-box--xs-x-small dre-article-teaser__text-box--sm-xx-small dre-article-teaser__text-box--md-x-small dre-article-teaser__text-box--lg-x-small dre-article-teaser__text-box--xl-x-small\"><div class=\"dre-article-teaser__meta-wrapper\"><div class=\"dre-article-teaser-meta-label\"><div aria-hidden=\"true\" class=\"dre-teaser-meta\"><span class=\"dre-label-text dre-label-text--xxs-x-small\"><span class=\"dre-label-text__text\"><span class=\"dre-teaser-meta__part dre-teaser-meta__part--primary\"><span class=\"dre-teaser-meta-label dre-teaser-meta-label--primary\">Udland</span></span><span class=\"dre-teaser-meta__part\"><span class=\"dre-teaser-meta-label\">31. jul kl. 16:58</span></span></span></span></div></div></div><a aria-label='Nye pas, sim-kort og tv-kanaler: Putin er i fuld gang med at indføre russiske tilstande i besatte områder , fra sektionen \"Udland\"' class=\"dre-teaser-title dre-teaser-title--xxs-x-small dre-teaser-title--xs-x-small dre-teaser-title--sm-xx-small dre-teaser-title--md-x-small dre-teaser-title--lg-x-small dre-teaser-title--xl-x-small\" href=\"/nyheder/udland/nye-pas-sim-kort-og-tv-kanaler-putin-er-i-fuld-gang-med-indfoere-russiske-tilstande-i\"><span class=\"dre-teaser-title__text\"><span class=\"dre-title-text dre-title-text--prefixed\"><strong class=\"dre-title-text__prefix\"><span class=\"dre-hyphenate-text\">Nye pas, sim-kort og tv-kanaler: </span></strong><span class=\"dre-title-text__prefixed\"><span class=\"dre-hyphenate-text\">Putin er i fuld gang med at indføre russiske tilstande i besatte områder </span></span></span></span></a></div></div>,\n",
       " <div class=\"dre-teaser-content\"><div class=\"dre-article-teaser__text-box dre-article-teaser__text-box--transparent dre-article-teaser__text-box--xxs-xx-small dre-article-teaser__text-box--xs-x-small dre-article-teaser__text-box--sm-small dre-article-teaser__text-box--md-large dre-article-teaser__text-box--lg-large dre-article-teaser__text-box--xl-large\"><div class=\"dre-article-teaser__meta-wrapper\"><div class=\"dre-article-teaser-meta-label\"><div aria-hidden=\"true\" class=\"dre-teaser-meta\"><span class=\"dre-label-text dre-label-text--xxs-x-small\"><span class=\"dre-label-text__text\"><span class=\"dre-teaser-meta__part dre-teaser-meta__part--primary\"><span class=\"dre-teaser-meta-label dre-teaser-meta-label--primary\">Udland</span></span><span class=\"dre-teaser-meta__part\"><span class=\"dre-teaser-meta-label\">31. jul kl. 12:08</span></span></span></span></div></div></div><a aria-label='Corona-duks har pludselig flere dødsfald end nogensinde, fra sektionen \"Udland\"' class=\"dre-teaser-title dre-teaser-title--xxs-xx-small dre-teaser-title--xs-x-small dre-teaser-title--sm-small dre-teaser-title--md-large dre-teaser-title--lg-large dre-teaser-title--xl-large\" href=\"/nyheder/udland/corona-duks-har-pludselig-flere-doedsfald-end-nogensinde\"><span class=\"dre-teaser-title__text\"><span class=\"dre-title-text\"><span class=\"dre-hyphenate-text\">Corona-duks har pludselig flere dødsfald end nogensinde</span></span></span></a></div></div>,\n",
       " <div class=\"dre-teaser-content\"><div class=\"dre-article-teaser__text-box dre-article-teaser__text-box--transparent dre-article-teaser__text-box--xxs-xx-small dre-article-teaser__text-box--xs-xx-small dre-article-teaser__text-box--sm-xx-small dre-article-teaser__text-box--md-x-small dre-article-teaser__text-box--lg-x-small dre-article-teaser__text-box--xl-x-small\"><div class=\"dre-article-teaser__meta-wrapper\"><div class=\"dre-article-teaser-meta-label\"><div aria-hidden=\"true\" class=\"dre-teaser-meta\"><span class=\"dre-label-text dre-label-text--xxs-x-small\"><span class=\"dre-label-text__text\"><span class=\"dre-teaser-meta__part dre-teaser-meta__part--primary\"><span class=\"dre-teaser-meta-label dre-teaser-meta-label--primary\">Udland</span></span><span class=\"dre-teaser-meta__part\"><span class=\"dre-teaser-meta-label\">31. jul kl. 06:58</span></span></span></span></div></div></div><a aria-label='Rusland vil lade FN og Røde Kors undersøge angreb på fængslede krigsfanger, fra sektionen \"Udland\"' class=\"dre-teaser-title dre-teaser-title--xxs-xx-small dre-teaser-title--xs-xx-small dre-teaser-title--sm-xx-small dre-teaser-title--md-x-small dre-teaser-title--lg-x-small dre-teaser-title--xl-x-small\" href=\"/nyheder/udland/rusland-vil-lade-fn-og-roede-kors-undersoege-angreb-paa-faengslede-krigsfanger\"><span class=\"dre-teaser-title__text\"><span class=\"dre-title-text\"><span class=\"dre-hyphenate-text\">Rusland vil lade FN og Røde Kors undersøge angreb på fængslede <span class=\"dre-hyphenate-text__hyphen\">krigsfanger</span></span></span></span></a></div></div>,\n",
       " <div class=\"dre-teaser-content\"><div class=\"dre-article-teaser__text-box dre-article-teaser__text-box--transparent dre-article-teaser__text-box--xxs-xx-small dre-article-teaser__text-box--xs-xx-small dre-article-teaser__text-box--sm-xx-small dre-article-teaser__text-box--md-x-small dre-article-teaser__text-box--lg-x-small dre-article-teaser__text-box--xl-x-small\"><div class=\"dre-article-teaser__meta-wrapper\"><div class=\"dre-article-teaser-meta-label\"><div aria-hidden=\"true\" class=\"dre-teaser-meta\"><span class=\"dre-label-text dre-label-text--xxs-x-small\"><span class=\"dre-label-text__text\"><span class=\"dre-teaser-meta__part dre-teaser-meta__part--primary\"><span class=\"dre-teaser-meta-label dre-teaser-meta-label--primary\">Udland</span></span><span class=\"dre-teaser-meta__part\"><span class=\"dre-teaser-meta-label\">30. jul kl. 16:56</span></span></span></span></div></div></div><a aria-label=\"Ukraine bliver kritiseret for at sende børn med handicap på institutioner: 'Det minder om et fængsel', fra sektionen &quot;Udland&quot;\" class=\"dre-teaser-title dre-teaser-title--xxs-xx-small dre-teaser-title--xs-xx-small dre-teaser-title--sm-xx-small dre-teaser-title--md-x-small dre-teaser-title--lg-x-small dre-teaser-title--xl-x-small\" href=\"/nyheder/udland/ukraine-bliver-kritiseret-sende-boern-med-handicap-paa-institutioner-det-minder-om-et\"><span class=\"dre-teaser-title__text\"><span class=\"dre-title-text dre-title-text--prefixed\"><strong class=\"dre-title-text__prefix\"><span class=\"dre-hyphenate-text\">Ukraine bliver kritiseret for at sende børn med handicap på <span class=\"dre-hyphenate-text__hyphen\">institutioner:</span> </span></strong><span class=\"dre-title-text__prefixed\"><span class=\"dre-hyphenate-text\">'Det minder om et fængsel'</span></span></span></span></a></div></div>,\n",
       " <div class=\"dre-teaser-content\"><div class=\"dre-article-teaser__text-box dre-article-teaser__text-box--transparent dre-article-teaser__text-box--xxs-x-small dre-article-teaser__text-box--xs-x-small dre-article-teaser__text-box--sm-xx-small dre-article-teaser__text-box--md-x-small dre-article-teaser__text-box--lg-x-small dre-article-teaser__text-box--xl-x-small\"><div class=\"dre-article-teaser__meta-wrapper\"><div class=\"dre-article-teaser-meta-label\"><div aria-hidden=\"true\" class=\"dre-teaser-meta\"><span class=\"dre-label-text dre-label-text--xxs-x-small\"><span class=\"dre-label-text__text\"><span class=\"dre-teaser-meta__part dre-teaser-meta__part--primary\"><span class=\"dre-teaser-meta-label dre-teaser-meta-label--primary\">Udland</span></span><span class=\"dre-teaser-meta__part\"><span class=\"dre-teaser-meta-label\">30. jul kl. 06:45</span></span></span></span></div></div></div><a aria-label=\"Endnu en kinesisk raket styrter mod jorden: 'Decideret dumt og uansvarligt', fra sektionen &quot;Udland&quot;\" class=\"dre-teaser-title dre-teaser-title--xxs-x-small dre-teaser-title--xs-x-small dre-teaser-title--sm-xx-small dre-teaser-title--md-x-small dre-teaser-title--lg-x-small dre-teaser-title--xl-x-small\" href=\"/nyheder/udland/endnu-en-kinesisk-raket-styrter-mod-jorden-decideret-dumt-og-uansvarligt\"><span class=\"dre-teaser-title__text\"><span class=\"dre-title-text dre-title-text--prefixed\"><strong class=\"dre-title-text__prefix\"><span class=\"dre-hyphenate-text\">Endnu en kinesisk raket styrter mod jorden: </span></strong><span class=\"dre-title-text__prefixed\"><span class=\"dre-hyphenate-text\">'Decideret dumt og <span class=\"dre-hyphenate-text__hyphen\">uansvarligt'</span></span></span></span></span></a></div></div>,\n",
       " <div class=\"dre-teaser-content\"><div class=\"dre-article-teaser__text-box dre-article-teaser__text-box--transparent dre-article-teaser__text-box--xxs-x-small dre-article-teaser__text-box--xs-x-small dre-article-teaser__text-box--sm-xx-small dre-article-teaser__text-box--md-x-small dre-article-teaser__text-box--lg-x-small dre-article-teaser__text-box--xl-x-small\"><div class=\"dre-article-teaser__meta-wrapper\"><div class=\"dre-article-teaser-meta-label\"><div aria-hidden=\"true\" class=\"dre-teaser-meta\"><span class=\"dre-label-text dre-label-text--xxs-x-small\"><span class=\"dre-label-text__text\"><span class=\"dre-teaser-meta__part dre-teaser-meta__part--primary\"><span class=\"dre-teaser-meta-label dre-teaser-meta-label--primary\">Udland</span></span><span class=\"dre-teaser-meta__part\"><span class=\"dre-teaser-meta-label\">29. jul kl. 18:19</span></span></span></span></div></div></div><a aria-label=\"USA går ind i produktionen af mikrochips: 'Det vil i høj grad komme dansk erhvervsliv til gode', fra sektionen &quot;Udland&quot;\" class=\"dre-teaser-title dre-teaser-title--xxs-x-small dre-teaser-title--xs-x-small dre-teaser-title--sm-xx-small dre-teaser-title--md-x-small dre-teaser-title--lg-x-small dre-teaser-title--xl-x-small\" href=\"/nyheder/udland/usa-gaar-ind-i-produktionen-af-mikrochips-det-vil-i-hoej-grad-komme-dansk-erhvervsliv\"><span class=\"dre-teaser-title__text\"><span class=\"dre-title-text dre-title-text--prefixed\"><strong class=\"dre-title-text__prefix\"><span class=\"dre-hyphenate-text\">USA går ind i <span class=\"dre-hyphenate-text__hyphen\">produktionen</span> af <span class=\"dre-hyphenate-text__hyphen\">mikrochips:</span> </span></strong><span class=\"dre-title-text__prefixed\"><span class=\"dre-hyphenate-text\">'Det vil i høj grad komme dansk <span class=\"dre-hyphenate-text__hyphen\">erhvervsliv</span> til gode'</span></span></span></span></a></div></div>,\n",
       " <div class=\"dre-teaser-content\"><div class=\"dre-article-teaser__text-box dre-article-teaser__text-box--transparent dre-article-teaser__text-box--xxs-x-small dre-article-teaser__text-box--xs-x-small dre-article-teaser__text-box--sm-xx-small dre-article-teaser__text-box--md-x-small dre-article-teaser__text-box--lg-x-small dre-article-teaser__text-box--xl-x-small\"><div class=\"dre-article-teaser__meta-wrapper\"><div class=\"dre-article-teaser-meta-label\"><div aria-hidden=\"true\" class=\"dre-teaser-meta\"><span class=\"dre-label-text dre-label-text--xxs-x-small\"><span class=\"dre-label-text__text\"><span class=\"dre-teaser-meta__part dre-teaser-meta__part--primary\"><span class=\"dre-teaser-meta-label dre-teaser-meta-label--primary\">Udland</span></span><span class=\"dre-teaser-meta__part\"><span class=\"dre-teaser-meta-label\">29. jul kl. 18:15</span></span></span></span></div></div></div><a aria-label=\"Det er 'uholdbart', at russiske turister strømmer til Finland, fra sektionen &quot;Udland&quot;\" class=\"dre-teaser-title dre-teaser-title--xxs-x-small dre-teaser-title--xs-x-small dre-teaser-title--sm-xx-small dre-teaser-title--md-x-small dre-teaser-title--lg-x-small dre-teaser-title--xl-x-small\" href=\"/nyheder/udland/det-er-uholdbart-russiske-turister-stroemmer-til-finland\"><span class=\"dre-teaser-title__text\"><span class=\"dre-title-text\"><span class=\"dre-hyphenate-text\">Det er <span class=\"dre-hyphenate-text__hyphen\">'uholdbart',</span> at russiske turister strømmer til Finland</span></span></span></a></div></div>,\n",
       " <div class=\"dre-teaser-content\"><div class=\"dre-article-teaser__text-box dre-article-teaser__text-box--transparent dre-article-teaser__text-box--xxs-xx-small dre-article-teaser__text-box--xs-x-small dre-article-teaser__text-box--sm-small dre-article-teaser__text-box--md-large dre-article-teaser__text-box--lg-large dre-article-teaser__text-box--xl-large\"><div class=\"dre-article-teaser__meta-wrapper\"><div class=\"dre-article-teaser-meta-label\"><div aria-hidden=\"true\" class=\"dre-teaser-meta\"><span class=\"dre-label-text dre-label-text--xxs-x-small\"><span class=\"dre-label-text__text\"><span class=\"dre-teaser-meta__part dre-teaser-meta__part--primary\"><span class=\"dre-teaser-meta-label dre-teaser-meta-label--primary\">Udland</span></span><span class=\"dre-teaser-meta__part\"><span class=\"dre-teaser-meta-label\">29. jul kl. 18:10</span></span></span></span></div></div></div><a aria-label='Retten fælder dom i spektakulær fodboldfruesag: Det er... Rebekah Vardy, fra sektionen \"Udland\"' class=\"dre-teaser-title dre-teaser-title--xxs-xx-small dre-teaser-title--xs-x-small dre-teaser-title--sm-small dre-teaser-title--md-large dre-teaser-title--lg-large dre-teaser-title--xl-large\" href=\"/nyheder/udland/retten-faelder-dom-i-spektakulaer-fodboldfruesag-det-er-rebekah-vardy\"><span class=\"dre-teaser-title__text\"><span class=\"dre-title-text dre-title-text--prefixed\"><strong class=\"dre-title-text__prefix\"><span class=\"dre-hyphenate-text\">Retten fælder dom i <span class=\"dre-hyphenate-text__hyphen\">spektakulær</span> <span class=\"dre-hyphenate-text__hyphen\">fodboldfruesag:</span> </span></strong><span class=\"dre-title-text__prefixed\"><span class=\"dre-hyphenate-text\">Det er... Rebekah Vardy</span></span></span></span></a></div></div>,\n",
       " <div class=\"dre-teaser-content\"><div class=\"dre-story-teaser__text-box dre-story-teaser__text-box--xxs-xx-small dre-story-teaser__text-box--xs-xx-small dre-story-teaser__text-box--sm-xx-small dre-story-teaser__text-box--md-x-small dre-story-teaser__text-box--lg-x-small dre-story-teaser__text-box--xl-x-small\"><div class=\"dre-story-teaser__title-wrapper\"><div class=\"dre-story-teaser__meta-wrapper\"><div class=\"dre-story-teaser__meta-label\"><span class=\"dre-label-text dre-label-text--xxs-x-small\"><span class=\"dre-label-text__text\">Udland</span></span></div></div><a class=\"dre-story-teaser__title dre-story-teaser__title--xxs-xx-small dre-story-teaser__title--xs-xx-small dre-story-teaser__title--sm-xx-small dre-story-teaser__title--md-x-small dre-story-teaser__title--lg-x-small dre-story-teaser__title--xl-x-small\" href=\"https://www.dr.dk/stories/1288510966/olgas-hjem-er-en-togvogn/\"><div class=\"dre-mark__block\"><mark class=\"dre-mark\"><span class=\"dre-hyphenate-text\">Olgas hjem blev ødelagt af russerne - nu bor hun i en togvogn</span></mark></div></a></div></div></div>,\n",
       " <div class=\"dre-teaser-content\"><div class=\"dre-article-teaser__text-box dre-article-teaser__text-box--transparent dre-article-teaser__text-box--xxs-xx-small dre-article-teaser__text-box--xs-xx-small dre-article-teaser__text-box--sm-xx-small dre-article-teaser__text-box--md-x-small dre-article-teaser__text-box--lg-x-small dre-article-teaser__text-box--xl-x-small\"><div class=\"dre-article-teaser__meta-wrapper\"><div class=\"dre-article-teaser-meta-label\"><div aria-hidden=\"true\" class=\"dre-teaser-meta\"><span class=\"dre-label-text dre-label-text--xxs-x-small\"><span class=\"dre-label-text__text\"><span class=\"dre-teaser-meta__part dre-teaser-meta__part--primary\"><span class=\"dre-teaser-meta-label dre-teaser-meta-label--primary\">Udland</span></span><span class=\"dre-teaser-meta__part\"><span class=\"dre-teaser-meta-label\">29. jul kl. 05:54</span></span></span></span></div></div></div><a aria-label='Kinas Xi Jinping advarer Biden: Leg ikke med ilden, når det gælder Taiwan, fra sektionen \"Udland\"' class=\"dre-teaser-title dre-teaser-title--xxs-xx-small dre-teaser-title--xs-xx-small dre-teaser-title--sm-xx-small dre-teaser-title--md-x-small dre-teaser-title--lg-x-small dre-teaser-title--xl-x-small\" href=\"/nyheder/udland/kinas-xi-jinping-advarer-biden-leg-ikke-med-ilden-naar-det-gaelder-taiwan\"><span class=\"dre-teaser-title__text\"><span class=\"dre-title-text dre-title-text--prefixed\"><strong class=\"dre-title-text__prefix\"><span class=\"dre-hyphenate-text\">Kinas Xi Jinping advarer Biden: </span></strong><span class=\"dre-title-text__prefixed\"><span class=\"dre-hyphenate-text\">Leg ikke med ilden, når det gælder Taiwan</span></span></span></span></a></div></div>,\n",
       " <div class=\"dre-teaser-content\"><div class=\"dre-article-teaser__text-box dre-article-teaser__text-box--transparent dre-article-teaser__text-box--xxs-x-small dre-article-teaser__text-box--xs-x-small dre-article-teaser__text-box--sm-xx-small dre-article-teaser__text-box--md-x-small dre-article-teaser__text-box--lg-x-small dre-article-teaser__text-box--xl-x-small\"><div class=\"dre-article-teaser__meta-wrapper\"><div class=\"dre-article-teaser-meta-label\"><div aria-hidden=\"true\" class=\"dre-teaser-meta\"><span class=\"dre-label-text dre-label-text--xxs-x-small\"><span class=\"dre-label-text__text\"><span class=\"dre-teaser-meta__part dre-teaser-meta__part--primary\"><span class=\"dre-teaser-meta-label dre-teaser-meta-label--primary\">Udland</span></span><span class=\"dre-teaser-meta__part\"><span class=\"dre-teaser-meta-label\">28. jul kl. 20:51</span></span></span></span></div></div></div><a aria-label='Ukraine bomber vigtig bro og går til modangreb, fra sektionen \"Udland\"' class=\"dre-teaser-title dre-teaser-title--xxs-x-small dre-teaser-title--xs-x-small dre-teaser-title--sm-xx-small dre-teaser-title--md-x-small dre-teaser-title--lg-x-small dre-teaser-title--xl-x-small\" href=\"/nyheder/udland/ukraine-bomber-vigtig-bro-og-gaar-til-modangreb\"><span class=\"dre-teaser-title__text\"><span class=\"dre-title-text\"><span class=\"dre-hyphenate-text\">Ukraine bomber vigtig bro og går til modangreb</span></span></span></a></div></div>,\n",
       " <div class=\"dre-teaser-content\"><div class=\"dre-article-teaser__text-box dre-article-teaser__text-box--transparent dre-article-teaser__text-box--xxs-x-small dre-article-teaser__text-box--xs-x-small dre-article-teaser__text-box--sm-xx-small dre-article-teaser__text-box--md-x-small dre-article-teaser__text-box--lg-x-small dre-article-teaser__text-box--xl-x-small\"><div class=\"dre-article-teaser__meta-wrapper\"><div class=\"dre-article-teaser-meta-label\"><div aria-hidden=\"true\" class=\"dre-teaser-meta\"><span class=\"dre-label-text dre-label-text--xxs-x-small\"><span class=\"dre-label-text__text\"><span class=\"dre-teaser-meta__part dre-teaser-meta__part--primary\"><span class=\"dre-teaser-meta-label dre-teaser-meta-label--primary\">Udland</span></span><span class=\"dre-teaser-meta__part\"><span class=\"dre-teaser-meta-label\">28. jul kl. 18:20</span></span></span></span></div></div></div><a aria-label='Russisk journalist dømt for at miskreditere hær , fra sektionen \"Udland\"' class=\"dre-teaser-title dre-teaser-title--xxs-x-small dre-teaser-title--xs-x-small dre-teaser-title--sm-xx-small dre-teaser-title--md-x-small dre-teaser-title--lg-x-small dre-teaser-title--xl-x-small\" href=\"/nyheder/udland/russisk-journalist-doemt-miskreditere-haer\"><span class=\"dre-teaser-title__text\"><span class=\"dre-title-text\"><span class=\"dre-hyphenate-text\">Russisk journalist dømt for at <span class=\"dre-hyphenate-text__hyphen\">miskreditere</span> hær </span></span></span></a></div></div>,\n",
       " <div class=\"dre-teaser-content\"><div class=\"dre-article-teaser__text-box dre-article-teaser__text-box--transparent dre-article-teaser__text-box--xxs-x-small dre-article-teaser__text-box--xs-x-small dre-article-teaser__text-box--sm-xx-small dre-article-teaser__text-box--md-x-small dre-article-teaser__text-box--lg-x-small dre-article-teaser__text-box--xl-x-small\"><div class=\"dre-article-teaser__meta-wrapper\"><div class=\"dre-article-teaser-meta-label\"><div aria-hidden=\"true\" class=\"dre-teaser-meta\"><span class=\"dre-label-text dre-label-text--xxs-x-small\"><span class=\"dre-label-text__text\"><span class=\"dre-teaser-meta__part dre-teaser-meta__part--primary\"><span class=\"dre-teaser-meta-label dre-teaser-meta-label--primary\">Udland</span></span><span class=\"dre-teaser-meta__part\"><span class=\"dre-teaser-meta-label\">27. jul kl. 18:25</span></span></span></span></div></div></div><a aria-label='Video: I Kyiv trodser de luftalarmer og udgangsforbud: Kom med DR til raveparty, 2 minutter og 30 sekunder, fra sektionen \"Udland\"' class=\"dre-teaser-title dre-teaser-title--xxs-x-small dre-teaser-title--xs-x-small dre-teaser-title--sm-xx-small dre-teaser-title--md-x-small dre-teaser-title--lg-x-small dre-teaser-title--xl-x-small\" href=\"/nyheder/udland/i-kyiv-trodser-de-luftalarmer-og-udgangsforbud-kom-med-dr-til-raveparty\"><span class=\"dre-teaser-title__text\"><span class=\"dre-title-text dre-title-text--prefixed\"><strong class=\"dre-title-text__prefix\"><span class=\"dre-hyphenate-text\">I Kyiv trodser de <span class=\"dre-hyphenate-text__hyphen\">luftalarmer</span> og <span class=\"dre-hyphenate-text__hyphen\">udgangsforbud:</span> </span></strong><span class=\"dre-title-text__prefixed\"><span class=\"dre-hyphenate-text\">Kom med DR til raveparty</span></span></span></span></a></div></div>,\n",
       " <div class=\"dre-teaser-content\"><div class=\"dre-article-teaser__text-box dre-article-teaser__text-box--transparent dre-article-teaser__text-box--xxs-xx-small dre-article-teaser__text-box--xs-x-small dre-article-teaser__text-box--sm-small dre-article-teaser__text-box--md-large dre-article-teaser__text-box--lg-large dre-article-teaser__text-box--xl-large\"><div class=\"dre-article-teaser__meta-wrapper\"><div class=\"dre-article-teaser-meta-label\"><div aria-hidden=\"true\" class=\"dre-teaser-meta\"><span class=\"dre-label-text dre-label-text--xxs-x-small\"><span class=\"dre-label-text__text\"><span class=\"dre-teaser-meta__part dre-teaser-meta__part--primary\"><span class=\"dre-teaser-meta-label dre-teaser-meta-label--primary\">Udland</span></span><span class=\"dre-teaser-meta__part\"><span class=\"dre-teaser-meta-label\">27. jul kl. 05:46</span></span></span></span></div></div></div><a aria-label='Trump tilbage i Washington for første gang, siden han forlod Det Hvide Hus, fra sektionen \"Udland\"' class=\"dre-teaser-title dre-teaser-title--xxs-xx-small dre-teaser-title--xs-x-small dre-teaser-title--sm-small dre-teaser-title--md-large dre-teaser-title--lg-large dre-teaser-title--xl-large\" href=\"/nyheder/udland/trump-tilbage-i-washington-foerste-gang-siden-han-forlod-det-hvide-hus-0\"><span class=\"dre-teaser-title__text\"><span class=\"dre-title-text\"><span class=\"dre-hyphenate-text\">Trump tilbage i Washington for første gang, siden han forlod Det Hvide Hus</span></span></span></a></div></div>,\n",
       " <div class=\"dre-teaser-content\"><div class=\"dre-article-teaser__text-box dre-article-teaser__text-box--transparent dre-article-teaser__text-box--xxs-xx-small dre-article-teaser__text-box--xs-xx-small dre-article-teaser__text-box--sm-xx-small dre-article-teaser__text-box--md-x-small dre-article-teaser__text-box--lg-x-small dre-article-teaser__text-box--xl-x-small\"><div class=\"dre-article-teaser__meta-wrapper\"><div class=\"dre-article-teaser-meta-label\"><div aria-hidden=\"true\" class=\"dre-teaser-meta\"><span class=\"dre-label-text dre-label-text--xxs-x-small\"><span class=\"dre-label-text__text\"><span class=\"dre-teaser-meta__part dre-teaser-meta__part--primary\"><span class=\"dre-teaser-meta-label dre-teaser-meta-label--primary\">Udland</span></span><span class=\"dre-teaser-meta__part\"><span class=\"dre-teaser-meta-label\">26. jul kl. 18:27</span></span></span></span></div></div></div><a aria-label='EU-lande har aftalt at bruge 15 procent mindre gas: Men de er ikke pisket til det, fra sektionen \"Udland\"' class=\"dre-teaser-title dre-teaser-title--xxs-xx-small dre-teaser-title--xs-xx-small dre-teaser-title--sm-xx-small dre-teaser-title--md-x-small dre-teaser-title--lg-x-small dre-teaser-title--xl-x-small\" href=\"/nyheder/udland/eu-lande-har-aftalt-bruge-15-procent-mindre-gas-men-de-er-ikke-pisket-til-det\"><span class=\"dre-teaser-title__text\"><span class=\"dre-title-text dre-title-text--prefixed\"><strong class=\"dre-title-text__prefix\"><span class=\"dre-hyphenate-text\">EU-lande har aftalt at bruge 15 procent mindre gas: </span></strong><span class=\"dre-title-text__prefixed\"><span class=\"dre-hyphenate-text\">Men de er ikke pisket til det</span></span></span></span></a></div></div>,\n",
       " <div class=\"dre-teaser-content\"><div class=\"dre-article-teaser__text-box dre-article-teaser__text-box--transparent dre-article-teaser__text-box--xxs-xx-small dre-article-teaser__text-box--xs-xx-small dre-article-teaser__text-box--sm-xx-small dre-article-teaser__text-box--md-x-small dre-article-teaser__text-box--lg-x-small dre-article-teaser__text-box--xl-x-small\"><div class=\"dre-article-teaser__meta-wrapper\"><div class=\"dre-article-teaser-meta-label\"><div aria-hidden=\"true\" class=\"dre-teaser-meta\"><span class=\"dre-label-text dre-label-text--xxs-x-small\"><span class=\"dre-label-text__text\"><span class=\"dre-teaser-meta__part dre-teaser-meta__part--primary\"><span class=\"dre-teaser-meta-label dre-teaser-meta-label--primary\">Udland</span></span><span class=\"dre-teaser-meta__part\"><span class=\"dre-teaser-meta-label\">25. jul kl. 20:55</span></span></span></span></div></div></div><a aria-label='Gazprom strammer ifølge Tyskland skruen \"uden grund\", fra sektionen \"Udland\"' class=\"dre-teaser-title dre-teaser-title--xxs-xx-small dre-teaser-title--xs-xx-small dre-teaser-title--sm-xx-small dre-teaser-title--md-x-small dre-teaser-title--lg-x-small dre-teaser-title--xl-x-small\" href=\"/nyheder/udland/gazprom-strammer-ifoelge-tyskland-skruen-uden-grund\"><span class=\"dre-teaser-title__text\"><span class=\"dre-title-text\"><span class=\"dre-hyphenate-text\">Gazprom strammer ifølge Tyskland skruen \"uden grund\"</span></span></span></a></div></div>,\n",
       " <div class=\"dre-teaser-content\"><div class=\"dre-article-teaser__text-box dre-article-teaser__text-box--transparent dre-article-teaser__text-box--xxs-x-small dre-article-teaser__text-box--xs-x-small dre-article-teaser__text-box--sm-xx-small dre-article-teaser__text-box--md-x-small dre-article-teaser__text-box--lg-x-small dre-article-teaser__text-box--xl-x-small\"><div class=\"dre-article-teaser__meta-wrapper\"><div class=\"dre-article-teaser-meta-label\"><div aria-hidden=\"true\" class=\"dre-teaser-meta\"><span class=\"dre-label-text dre-label-text--xxs-x-small\"><span class=\"dre-label-text__text\"><span class=\"dre-teaser-meta__part dre-teaser-meta__part--primary\"><span class=\"dre-teaser-meta-label dre-teaser-meta-label--primary\">Udland</span></span><span class=\"dre-teaser-meta__part\"><span class=\"dre-teaser-meta-label\">25. jul kl. 20:52</span></span></span></span></div></div></div><a aria-label='Risikoen for udvisning til Rwanda holder ikke migranter fra at søge mod Storbritannien , fra sektionen \"Udland\"' class=\"dre-teaser-title dre-teaser-title--xxs-x-small dre-teaser-title--xs-x-small dre-teaser-title--sm-xx-small dre-teaser-title--md-x-small dre-teaser-title--lg-x-small dre-teaser-title--xl-x-small\" href=\"/nyheder/udland/risikoen-udvisning-til-rwanda-holder-ikke-migranter-fra-soege-mod-storbritannien\"><span class=\"dre-teaser-title__text\"><span class=\"dre-title-text\"><span class=\"dre-hyphenate-text\">Risikoen for udvisning til Rwanda holder ikke migranter fra at søge mod <span class=\"dre-hyphenate-text__hyphen\">Storbritannien</span> </span></span></span></a></div></div>,\n",
       " <div class=\"dre-teaser-content\"><div class=\"dre-article-teaser__text-box dre-article-teaser__text-box--transparent dre-article-teaser__text-box--xxs-x-small dre-article-teaser__text-box--xs-x-small dre-article-teaser__text-box--sm-xx-small dre-article-teaser__text-box--md-x-small dre-article-teaser__text-box--lg-x-small dre-article-teaser__text-box--xl-x-small\"><div class=\"dre-article-teaser__meta-wrapper\"><div class=\"dre-article-teaser-meta-label\"><div aria-hidden=\"true\" class=\"dre-teaser-meta\"><span class=\"dre-label-text dre-label-text--xxs-x-small\"><span class=\"dre-label-text__text\"><span class=\"dre-teaser-meta__part dre-teaser-meta__part--primary\"><span class=\"dre-teaser-meta-label dre-teaser-meta-label--primary\">Udland</span></span><span class=\"dre-teaser-meta__part\"><span class=\"dre-teaser-meta-label\">25. jul kl. 20:48</span></span></span></span></div></div></div><a aria-label=\"Paven undskylder til de oprindelige folk i Canada: 'Jeg beder ydmygt om tilgivelse', fra sektionen &quot;Udland&quot;\" class=\"dre-teaser-title dre-teaser-title--xxs-x-small dre-teaser-title--xs-x-small dre-teaser-title--sm-xx-small dre-teaser-title--md-x-small dre-teaser-title--lg-x-small dre-teaser-title--xl-x-small\" href=\"/nyheder/udland/paven-undskylder-til-de-oprindelige-folk-i-canada-jeg-beder-ydmygt-om-tilgivelse\"><span class=\"dre-teaser-title__text\"><span class=\"dre-title-text dre-title-text--prefixed\"><strong class=\"dre-title-text__prefix\"><span class=\"dre-hyphenate-text\">Paven undskylder til de <span class=\"dre-hyphenate-text__hyphen\">oprindelige</span> folk i Canada: </span></strong><span class=\"dre-title-text__prefixed\"><span class=\"dre-hyphenate-text\">'Jeg beder ydmygt om <span class=\"dre-hyphenate-text__hyphen\">tilgivelse'</span></span></span></span></span></a></div></div>,\n",
       " <div class=\"dre-teaser-content\"><div class=\"dre-story-teaser__text-box dre-story-teaser__text-box--xxs-x-small dre-story-teaser__text-box--xs-x-small dre-story-teaser__text-box--sm-xx-small dre-story-teaser__text-box--md-x-small dre-story-teaser__text-box--lg-x-small dre-story-teaser__text-box--xl-x-small\"><div class=\"dre-story-teaser__title-wrapper\"><div class=\"dre-story-teaser__meta-wrapper\"><div class=\"dre-story-teaser__meta-label\"><span class=\"dre-label-text dre-label-text--xxs-x-small\"><span class=\"dre-label-text__text\">Udland</span></span></div></div><a class=\"dre-story-teaser__title dre-story-teaser__title--xxs-x-small dre-story-teaser__title--xs-x-small dre-story-teaser__title--sm-xx-small dre-story-teaser__title--md-x-small dre-story-teaser__title--lg-x-small dre-story-teaser__title--xl-x-small\" href=\"https://www.dr.dk/stories/1288510966/tusindvis-risikerer-livet-over-den-engelske-kanal/\"><div class=\"dre-mark__block\"><mark class=\"dre-mark\"><span class=\"dre-hyphenate-text\">Flere tusinde mennesker risikerer livet i farlige lejre og ved at krydse Den Engelske Kanal i en gummibåd. Hvorfor?</span></mark></div></a></div></div></div>,\n",
       " <div class=\"dre-teaser-content\"><div class=\"dre-article-teaser__text-box dre-article-teaser__text-box--transparent dre-article-teaser__text-box--xxs-x-small dre-article-teaser__text-box--xs-x-small dre-article-teaser__text-box--sm-xx-small dre-article-teaser__text-box--md-x-small dre-article-teaser__text-box--lg-x-small dre-article-teaser__text-box--xl-x-small\"><div class=\"dre-article-teaser__meta-wrapper\"><div class=\"dre-article-teaser-meta-label\"><div aria-hidden=\"true\" class=\"dre-teaser-meta\"><span class=\"dre-label-text dre-label-text--xxs-x-small\"><span class=\"dre-label-text__text\"><span class=\"dre-teaser-meta__part dre-teaser-meta__part--primary\"><span class=\"dre-teaser-meta-label dre-teaser-meta-label--primary\">Udland</span></span><span class=\"dre-teaser-meta__part\"><span class=\"dre-teaser-meta-label\">25. jul kl. 10:58</span></span></span></span></div></div></div><a aria-label='For Xiaoyus familie og tusindvis andre er den kinesiske boligdrøm en bunke ruiner , fra sektionen \"Udland\"' class=\"dre-teaser-title dre-teaser-title--xxs-x-small dre-teaser-title--xs-x-small dre-teaser-title--sm-xx-small dre-teaser-title--md-x-small dre-teaser-title--lg-x-small dre-teaser-title--xl-x-small\" href=\"/nyheder/udland/xiaoyus-familie-og-tusindvis-andre-er-den-kinesiske-boligdroem-en-bunke-ruiner\"><span class=\"dre-teaser-title__text\"><span class=\"dre-title-text\"><span class=\"dre-hyphenate-text\">For Xiaoyus familie og tusindvis andre er den kinesiske boligdrøm en bunke ruiner </span></span></span></a></div></div>,\n",
       " <div class=\"dre-teaser-content\"><div class=\"dre-article-teaser__text-box dre-article-teaser__text-box--transparent dre-article-teaser__text-box--xxs-x-small dre-article-teaser__text-box--xs-x-small dre-article-teaser__text-box--sm-xx-small dre-article-teaser__text-box--md-x-small dre-article-teaser__text-box--lg-x-small dre-article-teaser__text-box--xl-x-small\"><div class=\"dre-article-teaser__meta-wrapper\"><div class=\"dre-article-teaser-meta-label\"><div aria-hidden=\"true\" class=\"dre-teaser-meta\"><span class=\"dre-label-text dre-label-text--xxs-x-small\"><span class=\"dre-label-text__text\"><span class=\"dre-teaser-meta__part dre-teaser-meta__part--primary\"><span class=\"dre-teaser-meta-label dre-teaser-meta-label--primary\">Udland</span></span><span class=\"dre-teaser-meta__part\"><span class=\"dre-teaser-meta-label\">24. jul kl. 20:57</span></span></span></span></div></div></div><a aria-label='Derfor besynger ukrainerne nyt missilsystem: Den russiske fremrykning er gået i stå, fra sektionen \"Udland\"' class=\"dre-teaser-title dre-teaser-title--xxs-x-small dre-teaser-title--xs-x-small dre-teaser-title--sm-xx-small dre-teaser-title--md-x-small dre-teaser-title--lg-x-small dre-teaser-title--xl-x-small\" href=\"/nyheder/udland/derfor-besynger-ukrainerne-nyt-missilsystem-den-russiske-fremrykning-er-gaaet-i-staa\"><span class=\"dre-teaser-title__text\"><span class=\"dre-title-text dre-title-text--prefixed\"><strong class=\"dre-title-text__prefix\"><span class=\"dre-hyphenate-text\">Derfor besynger ukrainerne nyt <span class=\"dre-hyphenate-text__hyphen\">missilsystem:</span> </span></strong><span class=\"dre-title-text__prefixed\"><span class=\"dre-hyphenate-text\">Den russiske <span class=\"dre-hyphenate-text__hyphen\">fremrykning</span> er gået i stå</span></span></span></span></a></div></div>,\n",
       " <div class=\"dre-teaser-content\"><div class=\"dre-article-teaser__text-box dre-article-teaser__text-box--transparent dre-article-teaser__text-box--xxs-x-small dre-article-teaser__text-box--xs-x-small dre-article-teaser__text-box--sm-xx-small dre-article-teaser__text-box--md-x-small dre-article-teaser__text-box--lg-x-small dre-article-teaser__text-box--xl-x-small\"><div class=\"dre-article-teaser__meta-wrapper\"><div class=\"dre-article-teaser-meta-label\"><div aria-hidden=\"true\" class=\"dre-teaser-meta\"><span class=\"dre-label-text dre-label-text--xxs-x-small\"><span class=\"dre-label-text__text\"><span class=\"dre-teaser-meta__part dre-teaser-meta__part--primary\"><span class=\"dre-teaser-meta-label dre-teaser-meta-label--primary\">Udland</span></span><span class=\"dre-teaser-meta__part\"><span class=\"dre-teaser-meta-label\">24. jul kl. 16:51</span></span></span></span></div></div></div><a aria-label=\"Russisk restaurant i Berlin lagt for had: 'Folk sagde, de ville skyde os', fra sektionen &quot;Udland&quot;\" class=\"dre-teaser-title dre-teaser-title--xxs-x-small dre-teaser-title--xs-x-small dre-teaser-title--sm-xx-small dre-teaser-title--md-x-small dre-teaser-title--lg-x-small dre-teaser-title--xl-x-small\" href=\"/nyheder/udland/russisk-restaurant-i-berlin-lagt-had-folk-sagde-de-ville-skyde-os\"><span class=\"dre-teaser-title__text\"><span class=\"dre-title-text dre-title-text--prefixed\"><strong class=\"dre-title-text__prefix\"><span class=\"dre-hyphenate-text\">Russisk restaurant i Berlin lagt for had: </span></strong><span class=\"dre-title-text__prefixed\"><span class=\"dre-hyphenate-text\">'Folk sagde, de ville skyde os'</span></span></span></span></a></div></div>,\n",
       " <div class=\"dre-teaser-content\"><div class=\"dre-article-teaser__text-box dre-article-teaser__text-box--transparent dre-article-teaser__text-box--xxs-x-small dre-article-teaser__text-box--xs-x-small dre-article-teaser__text-box--sm-xx-small dre-article-teaser__text-box--md-x-small dre-article-teaser__text-box--lg-x-small dre-article-teaser__text-box--xl-x-small\"><div class=\"dre-article-teaser__meta-wrapper\"><div class=\"dre-article-teaser-meta-label\"><div aria-hidden=\"true\" class=\"dre-teaser-meta\"><span class=\"dre-label-text dre-label-text--xxs-x-small\"><span class=\"dre-label-text__text\"><span class=\"dre-teaser-meta__part dre-teaser-meta__part--primary\"><span class=\"dre-teaser-meta-label dre-teaser-meta-label--primary\">Udland</span></span><span class=\"dre-teaser-meta__part\"><span class=\"dre-teaser-meta-label\">24. jul kl. 11:48</span></span></span></span></div></div></div><a aria-label=\"Foto-feature: 'Oak Fire' hærger ved Yosemite Nationalpark i USA, 16 billeder, fra sektionen &quot;Udland&quot;\" class=\"dre-teaser-title dre-teaser-title--xxs-x-small dre-teaser-title--xs-x-small dre-teaser-title--sm-xx-small dre-teaser-title--md-x-small dre-teaser-title--lg-x-small dre-teaser-title--xl-x-small\" href=\"/nyheder/udland/oak-fire-haerger-ved-yosemite-nationalpark-i-usa\"><span class=\"dre-teaser-title__text\"><span class=\"dre-title-text\"><span class=\"dre-hyphenate-text\">'Oak Fire' hærger ved Yosemite <span class=\"dre-hyphenate-text__hyphen\">Nationalpark</span> i USA</span></span></span></a></div></div>,\n",
       " <div class=\"dre-teaser-content\"><div class=\"dre-article-teaser__text-box dre-article-teaser__text-box--transparent dre-article-teaser__text-box--xxs-x-small dre-article-teaser__text-box--xs-x-small dre-article-teaser__text-box--sm-xx-small dre-article-teaser__text-box--md-x-small dre-article-teaser__text-box--lg-x-small dre-article-teaser__text-box--xl-x-small\"><div class=\"dre-article-teaser__meta-wrapper\"><div class=\"dre-article-teaser-meta-label\"><div aria-hidden=\"true\" class=\"dre-teaser-meta\"><span class=\"dre-label-text dre-label-text--xxs-x-small\"><span class=\"dre-label-text__text\"><span class=\"dre-teaser-meta__part dre-teaser-meta__part--primary\"><span class=\"dre-teaser-meta-label dre-teaser-meta-label--primary\">Udland</span></span><span class=\"dre-teaser-meta__part\"><span class=\"dre-teaser-meta-label\">23. jul kl. 17:16</span></span></span></span></div></div></div><a aria-label=\"Rusland beskyldes for at angribe havn dagen efter kornaftale: 'Det er selvfølgelig med vilje', fra sektionen &quot;Udland&quot;\" class=\"dre-teaser-title dre-teaser-title--xxs-x-small dre-teaser-title--xs-x-small dre-teaser-title--sm-xx-small dre-teaser-title--md-x-small dre-teaser-title--lg-x-small dre-teaser-title--xl-x-small\" href=\"/nyheder/udland/rusland-beskyldes-angribe-havn-dagen-efter-kornaftale-det-er-selvfoelgelig-med-vilje\"><span class=\"dre-teaser-title__text\"><span class=\"dre-title-text dre-title-text--prefixed\"><strong class=\"dre-title-text__prefix\"><span class=\"dre-hyphenate-text\">Rusland beskyldes for at angribe havn dagen efter <span class=\"dre-hyphenate-text__hyphen\">kornaftale:</span> </span></strong><span class=\"dre-title-text__prefixed\"><span class=\"dre-hyphenate-text\">'Det er <span class=\"dre-hyphenate-text__hyphen\">selvfølgelig</span> med vilje'</span></span></span></span></a></div></div>,\n",
       " <div class=\"dre-teaser-content\"><div class=\"dre-article-teaser__text-box dre-article-teaser__text-box--transparent dre-article-teaser__text-box--xxs-x-small dre-article-teaser__text-box--xs-x-small dre-article-teaser__text-box--sm-xx-small dre-article-teaser__text-box--md-x-small dre-article-teaser__text-box--lg-x-small dre-article-teaser__text-box--xl-x-small\"><div class=\"dre-article-teaser__meta-wrapper\"><div class=\"dre-article-teaser-meta-label\"><div aria-hidden=\"true\" class=\"dre-teaser-meta\"><span class=\"dre-label-text dre-label-text--xxs-x-small\"><span class=\"dre-label-text__text\"><span class=\"dre-teaser-meta__part dre-teaser-meta__part--primary\"><span class=\"dre-teaser-meta-label dre-teaser-meta-label--primary\">Udland</span></span><span class=\"dre-teaser-meta__part\"><span class=\"dre-teaser-meta-label\">23. jul kl. 16:46</span></span></span></span></div></div></div><a aria-label=\"Kornpriserne falder efter ny aftale: 'Kan komme til at tage toppen af fødevarekrisen', fra sektionen &quot;Udland&quot;\" class=\"dre-teaser-title dre-teaser-title--xxs-x-small dre-teaser-title--xs-x-small dre-teaser-title--sm-xx-small dre-teaser-title--md-x-small dre-teaser-title--lg-x-small dre-teaser-title--xl-x-small\" href=\"/nyheder/udland/kornpriserne-falder-efter-ny-aftale-kommer-til-tage-toppen-af-foedevarekrisen\"><span class=\"dre-teaser-title__text\"><span class=\"dre-title-text dre-title-text--prefixed\"><strong class=\"dre-title-text__prefix\"><span class=\"dre-hyphenate-text\"><span class=\"dre-hyphenate-text__hyphen\">Kornpriserne</span> falder efter ny aftale: </span></strong><span class=\"dre-title-text__prefixed\"><span class=\"dre-hyphenate-text\">'Kan komme til at tage toppen af <span class=\"dre-hyphenate-text__hyphen\">fødevarekrisen'</span></span></span></span></span></a></div></div>,\n",
       " <div class=\"dre-teaser-content\"><div class=\"dre-article-teaser__text-box dre-article-teaser__text-box--transparent dre-article-teaser__text-box--xxs-x-small dre-article-teaser__text-box--xs-x-small dre-article-teaser__text-box--sm-xx-small dre-article-teaser__text-box--md-x-small dre-article-teaser__text-box--lg-x-small dre-article-teaser__text-box--xl-x-small\"><div class=\"dre-article-teaser__meta-wrapper\"><div class=\"dre-article-teaser-meta-label\"><div aria-hidden=\"true\" class=\"dre-teaser-meta\"><span class=\"dre-label-text dre-label-text--xxs-x-small\"><span class=\"dre-label-text__text\"><span class=\"dre-teaser-meta__part dre-teaser-meta__part--primary\"><span class=\"dre-teaser-meta-label dre-teaser-meta-label--primary\">Udland</span></span><span class=\"dre-teaser-meta__part\"><span class=\"dre-teaser-meta-label\">22. jul kl. 06:14</span></span></span></span></div></div></div><a aria-label='ANALYSE: Trump udstilles af tilståelser fra nærmeste og afslørende videoklip, fra sektionen \"Udland\"' class=\"dre-teaser-title dre-teaser-title--xxs-x-small dre-teaser-title--xs-x-small dre-teaser-title--sm-xx-small dre-teaser-title--md-x-small dre-teaser-title--lg-x-small dre-teaser-title--xl-x-small\" href=\"/nyheder/udland/analyse-trump-udstilles-af-tilstaaelser-fra-naermeste-og-afsloerende-videoklip\"><span class=\"dre-teaser-title__text\"><span class=\"dre-title-text dre-title-text--prefixed\"><strong class=\"dre-title-text__prefix\"><span class=\"dre-hyphenate-text\">ANALYSE: </span></strong><span class=\"dre-title-text__prefixed\"><span class=\"dre-hyphenate-text\">Trump udstilles af <span class=\"dre-hyphenate-text__hyphen\">tilståelser</span> fra nærmeste og afslørende videoklip</span></span></span></span></a></div></div>,\n",
       " <div class=\"dre-teaser-content\"><div class=\"dre-article-teaser__text-box dre-article-teaser__text-box--transparent dre-article-teaser__text-box--xxs-x-small dre-article-teaser__text-box--xs-x-small dre-article-teaser__text-box--sm-xx-small dre-article-teaser__text-box--md-x-small dre-article-teaser__text-box--lg-x-small dre-article-teaser__text-box--xl-x-small\"><div class=\"dre-article-teaser__meta-wrapper\"><div class=\"dre-article-teaser-meta-label\"><div aria-hidden=\"true\" class=\"dre-teaser-meta\"><span class=\"dre-label-text dre-label-text--xxs-x-small\"><span class=\"dre-label-text__text\"><span class=\"dre-teaser-meta__part dre-teaser-meta__part--primary\"><span class=\"dre-teaser-meta-label dre-teaser-meta-label--primary\">Udland</span></span><span class=\"dre-teaser-meta__part\"><span class=\"dre-teaser-meta-label\">21. jul kl. 21:00</span></span></span></span></div></div></div><a aria-label='Premierministeren har sagt op: Præsidenten opløser parlamentet og sender italienerne til valg, fra sektionen \"Udland\"' class=\"dre-teaser-title dre-teaser-title--xxs-x-small dre-teaser-title--xs-x-small dre-teaser-title--sm-xx-small dre-teaser-title--md-x-small dre-teaser-title--lg-x-small dre-teaser-title--xl-x-small\" href=\"/nyheder/udland/premierministeren-har-sagt-op-praesidenten-oploeser-parlamentet-og-sender-italienerne\"><span class=\"dre-teaser-title__text\"><span class=\"dre-title-text dre-title-text--prefixed\"><strong class=\"dre-title-text__prefix\"><span class=\"dre-hyphenate-text\"><span class=\"dre-hyphenate-text__hyphen\">Premierministeren</span> har sagt op: </span></strong><span class=\"dre-title-text__prefixed\"><span class=\"dre-hyphenate-text\"><span class=\"dre-hyphenate-text__hyphen\">Præsidenten</span> opløser <span class=\"dre-hyphenate-text__hyphen\">parlamentet</span> og sender <span class=\"dre-hyphenate-text__hyphen\">italienerne</span> til valg</span></span></span></span></a></div></div>,\n",
       " <div class=\"dre-teaser-content\"><div class=\"dre-article-teaser__text-box dre-article-teaser__text-box--transparent dre-article-teaser__text-box--xxs-x-small dre-article-teaser__text-box--xs-x-small dre-article-teaser__text-box--sm-xx-small dre-article-teaser__text-box--md-x-small dre-article-teaser__text-box--lg-x-small dre-article-teaser__text-box--xl-x-small\"><div class=\"dre-article-teaser__meta-wrapper\"><div class=\"dre-article-teaser-meta-label\"><div aria-hidden=\"true\" class=\"dre-teaser-meta\"><span class=\"dre-label-text dre-label-text--xxs-x-small\"><span class=\"dre-label-text__text\"><span class=\"dre-teaser-meta__part dre-teaser-meta__part--primary\"><span class=\"dre-teaser-meta-label dre-teaser-meta-label--primary\">Udland</span></span><span class=\"dre-teaser-meta__part\"><span class=\"dre-teaser-meta-label\">21. jul kl. 20:57</span></span></span></span></div></div></div><a aria-label='Anden kritiske rapport på en uge: Bådmigranter bliver efterladt i farlige situationer i Storbritannien, fra sektionen \"Udland\"' class=\"dre-teaser-title dre-teaser-title--xxs-x-small dre-teaser-title--xs-x-small dre-teaser-title--sm-xx-small dre-teaser-title--md-x-small dre-teaser-title--lg-x-small dre-teaser-title--xl-x-small\" href=\"/nyheder/udland/anden-kritiske-rapport-paa-en-uge-baadmigranter-bliver-efterladt-i-farlige\"><span class=\"dre-teaser-title__text\"><span class=\"dre-title-text dre-title-text--prefixed\"><strong class=\"dre-title-text__prefix\"><span class=\"dre-hyphenate-text\">Anden kritiske rapport på en uge: </span></strong><span class=\"dre-title-text__prefixed\"><span class=\"dre-hyphenate-text\"><span class=\"dre-hyphenate-text__hyphen\">Bådmigranter</span> bliver efterladt i farlige <span class=\"dre-hyphenate-text__hyphen\">situationer</span> i <span class=\"dre-hyphenate-text__hyphen\">Storbritannien</span></span></span></span></span></a></div></div>,\n",
       " <div class=\"dre-teaser-content\"><div class=\"dre-article-teaser__text-box dre-article-teaser__text-box--transparent dre-article-teaser__text-box--xxs-x-small dre-article-teaser__text-box--xs-x-small dre-article-teaser__text-box--sm-xx-small dre-article-teaser__text-box--md-x-small dre-article-teaser__text-box--lg-x-small dre-article-teaser__text-box--xl-x-small\"><div class=\"dre-article-teaser__meta-wrapper\"><div class=\"dre-article-teaser-meta-label\"><div aria-hidden=\"true\" class=\"dre-teaser-meta\"><span class=\"dre-label-text dre-label-text--xxs-x-small\"><span class=\"dre-label-text__text\"><span class=\"dre-teaser-meta__part dre-teaser-meta__part--primary\"><span class=\"dre-teaser-meta-label dre-teaser-meta-label--primary\">Udland</span></span><span class=\"dre-teaser-meta__part\"><span class=\"dre-teaser-meta-label\">21. jul kl. 18:17</span></span></span></span></div></div></div><a aria-label=\"Rusland udvider sine militære mål i Ukraine - men 'intet tyder på, at de har kapaciteten', fra sektionen &quot;Udland&quot;\" class=\"dre-teaser-title dre-teaser-title--xxs-x-small dre-teaser-title--xs-x-small dre-teaser-title--sm-xx-small dre-teaser-title--md-x-small dre-teaser-title--lg-x-small dre-teaser-title--xl-x-small\" href=\"/nyheder/udland/rusland-udvider-sine-militaere-maal-i-ukraine-men-intet-tyder-paa-de-har-kapaciteten\"><span class=\"dre-teaser-title__text\"><span class=\"dre-title-text\"><span class=\"dre-hyphenate-text\">Rusland udvider sine militære mål i Ukraine - men 'intet tyder på, at de har <span class=\"dre-hyphenate-text__hyphen\">kapaciteten'</span></span></span></span></a></div></div>,\n",
       " <div class=\"dre-teaser-content\"><div class=\"dre-article-teaser__text-box dre-article-teaser__text-box--transparent dre-article-teaser__text-box--xxs-x-small dre-article-teaser__text-box--xs-x-small dre-article-teaser__text-box--sm-xx-small dre-article-teaser__text-box--md-x-small dre-article-teaser__text-box--lg-x-small dre-article-teaser__text-box--xl-x-small\"><div class=\"dre-article-teaser__meta-wrapper\"><div class=\"dre-article-teaser-meta-label\"><div aria-hidden=\"true\" class=\"dre-teaser-meta\"><span class=\"dre-label-text dre-label-text--xxs-x-small\"><span class=\"dre-label-text__text\"><span class=\"dre-teaser-meta__part dre-teaser-meta__part--primary\"><span class=\"dre-teaser-meta-label dre-teaser-meta-label--primary\">Udland</span></span><span class=\"dre-teaser-meta__part\"><span class=\"dre-teaser-meta-label\">21. jul kl. 10:52</span></span></span></span></div></div></div><a aria-label=\"CIA-direktør afviser rygter om Putins helbred: 'Så vidt vi ved, så er han faktisk lidt for rask', fra sektionen &quot;Udland&quot;\" class=\"dre-teaser-title dre-teaser-title--xxs-x-small dre-teaser-title--xs-x-small dre-teaser-title--sm-xx-small dre-teaser-title--md-x-small dre-teaser-title--lg-x-small dre-teaser-title--xl-x-small\" href=\"/nyheder/udland/cia-direktoer-afviser-rygter-om-putins-helbred-saa-vidt-vi-ved-saa-er-han-faktisk\"><span class=\"dre-teaser-title__text\"><span class=\"dre-title-text dre-title-text--prefixed\"><strong class=\"dre-title-text__prefix\"><span class=\"dre-hyphenate-text\">CIA-direktør afviser rygter om Putins helbred: </span></strong><span class=\"dre-title-text__prefixed\"><span class=\"dre-hyphenate-text\">'Så vidt vi ved, så er han faktisk lidt for rask'</span></span></span></span></a></div></div>,\n",
       " <div class=\"dre-teaser-content\"><div class=\"dre-article-teaser__text-box dre-article-teaser__text-box--transparent dre-article-teaser__text-box--xxs-x-small dre-article-teaser__text-box--xs-x-small dre-article-teaser__text-box--sm-xx-small dre-article-teaser__text-box--md-x-small dre-article-teaser__text-box--lg-x-small dre-article-teaser__text-box--xl-x-small\"><div class=\"dre-article-teaser__meta-wrapper\"><div class=\"dre-article-teaser-meta-label\"><div aria-hidden=\"true\" class=\"dre-teaser-meta\"><span class=\"dre-label-text dre-label-text--xxs-x-small\"><span class=\"dre-label-text__text\"><span class=\"dre-teaser-meta__part dre-teaser-meta__part--primary\"><span class=\"dre-teaser-meta-label dre-teaser-meta-label--primary\">Udland</span></span><span class=\"dre-teaser-meta__part\"><span class=\"dre-teaser-meta-label\">21. jul kl. 10:50</span></span></span></span></div></div></div><a aria-label='Russisk gas flyder igen mod Europa, men er gaskrisen afværget?, fra sektionen \"Udland\"' class=\"dre-teaser-title dre-teaser-title--xxs-x-small dre-teaser-title--xs-x-small dre-teaser-title--sm-xx-small dre-teaser-title--md-x-small dre-teaser-title--lg-x-small dre-teaser-title--xl-x-small\" href=\"/nyheder/udland/russisk-gas-flyder-igen-mod-europa-men-er-gaskrisen-afvaerget\"><span class=\"dre-teaser-title__text\"><span class=\"dre-title-text\"><span class=\"dre-hyphenate-text\">Russisk gas flyder igen mod Europa, men er gaskrisen afværget?</span></span></span></a></div></div>,\n",
       " <div class=\"dre-teaser-content\"><div class=\"dre-article-teaser__text-box dre-article-teaser__text-box--transparent dre-article-teaser__text-box--xxs-x-small dre-article-teaser__text-box--xs-x-small dre-article-teaser__text-box--sm-xx-small dre-article-teaser__text-box--md-x-small dre-article-teaser__text-box--lg-x-small dre-article-teaser__text-box--xl-x-small\"><div class=\"dre-article-teaser__meta-wrapper\"><div class=\"dre-article-teaser-meta-label\"><div aria-hidden=\"true\" class=\"dre-teaser-meta\"><span class=\"dre-label-text dre-label-text--xxs-x-small\"><span class=\"dre-label-text__text\"><span class=\"dre-teaser-meta__part dre-teaser-meta__part--primary\"><span class=\"dre-teaser-meta-label dre-teaser-meta-label--primary\">Udland</span></span><span class=\"dre-teaser-meta__part\"><span class=\"dre-teaser-meta-label\">20. jul kl. 20:48</span></span></span></span></div></div></div><a aria-label=\"Finalisterne er fundet: En 'genfødt brexit-tilhænger' eller en stenrig eks-minister bliver briternes næste premierminister, fra sektionen &quot;Udland&quot;\" class=\"dre-teaser-title dre-teaser-title--xxs-x-small dre-teaser-title--xs-x-small dre-teaser-title--sm-xx-small dre-teaser-title--md-x-small dre-teaser-title--lg-x-small dre-teaser-title--xl-x-small\" href=\"/nyheder/udland/finalisterne-er-fundet-en-genfoedt-brexit-tilhaenger-eller-en-stenrig-eks-minister\"><span class=\"dre-teaser-title__text\"><span class=\"dre-title-text dre-title-text--prefixed\"><strong class=\"dre-title-text__prefix\"><span class=\"dre-hyphenate-text\"><span class=\"dre-hyphenate-text__hyphen\">Finalisterne</span> er fundet: </span></strong><span class=\"dre-title-text__prefixed\"><span class=\"dre-hyphenate-text\">En 'genfødt brexit-tilhænger' eller en stenrig eks-minister bliver briternes næste <span class=\"dre-hyphenate-text__hyphen\">premierminister</span></span></span></span></span></a></div></div>,\n",
       " <div class=\"dre-teaser-content\"><div class=\"dre-article-teaser__text-box dre-article-teaser__text-box--transparent dre-article-teaser__text-box--xxs-x-small dre-article-teaser__text-box--xs-x-small dre-article-teaser__text-box--sm-xx-small dre-article-teaser__text-box--md-x-small dre-article-teaser__text-box--lg-x-small dre-article-teaser__text-box--xl-x-small\"><div class=\"dre-article-teaser__meta-wrapper\"><div class=\"dre-article-teaser-meta-label\"><div aria-hidden=\"true\" class=\"dre-teaser-meta\"><span class=\"dre-label-text dre-label-text--xxs-x-small\"><span class=\"dre-label-text__text\"><span class=\"dre-teaser-meta__part dre-teaser-meta__part--primary\"><span class=\"dre-teaser-meta-label dre-teaser-meta-label--primary\">Udland</span></span><span class=\"dre-teaser-meta__part\"><span class=\"dre-teaser-meta-label\">20. jul kl. 15:43</span></span></span></span></div></div></div><a aria-label=\"'Vi står på kanten af en gaskrise': EU vil have alle lande til spare 15 procent fra næste måned, fra sektionen &quot;Udland&quot;\" class=\"dre-teaser-title dre-teaser-title--xxs-x-small dre-teaser-title--xs-x-small dre-teaser-title--sm-xx-small dre-teaser-title--md-x-small dre-teaser-title--lg-x-small dre-teaser-title--xl-x-small\" href=\"/nyheder/udland/vi-staar-paa-kanten-af-en-gaskrise-eu-vil-have-alle-lande-til-spare-15-procent-fra\"><span class=\"dre-teaser-title__text\"><span class=\"dre-title-text dre-title-text--prefixed\"><strong class=\"dre-title-text__prefix\"><span class=\"dre-hyphenate-text\">'Vi står på kanten af en gaskrise': </span></strong><span class=\"dre-title-text__prefixed\"><span class=\"dre-hyphenate-text\">EU vil have alle lande til spare 15 procent fra næste måned</span></span></span></span></a></div></div>,\n",
       " <div class=\"dre-teaser-content\"><div class=\"dre-article-teaser__text-box dre-article-teaser__text-box--transparent dre-article-teaser__text-box--xxs-x-small dre-article-teaser__text-box--xs-x-small dre-article-teaser__text-box--sm-xx-small dre-article-teaser__text-box--md-x-small dre-article-teaser__text-box--lg-x-small dre-article-teaser__text-box--xl-x-small\"><div class=\"dre-article-teaser__meta-wrapper\"><div class=\"dre-article-teaser-meta-label\"><div aria-hidden=\"true\" class=\"dre-teaser-meta\"><span class=\"dre-label-text dre-label-text--xxs-x-small\"><span class=\"dre-label-text__text\"><span class=\"dre-teaser-meta__part dre-teaser-meta__part--primary\"><span class=\"dre-teaser-meta-label dre-teaser-meta-label--primary\">Udland</span></span><span class=\"dre-teaser-meta__part\"><span class=\"dre-teaser-meta-label\">20. jul kl. 13:00</span></span></span></span></div></div></div><a aria-label='Putin på charmetur til Mellemøsten for at snakke korn og olie - og måske også kampdroner, fra sektionen \"Udland\"' class=\"dre-teaser-title dre-teaser-title--xxs-x-small dre-teaser-title--xs-x-small dre-teaser-title--sm-xx-small dre-teaser-title--md-x-small dre-teaser-title--lg-x-small dre-teaser-title--xl-x-small\" href=\"/nyheder/udland/putin-paa-charmetur-til-mellemoesten-snakke-korn-og-olie-og-maaske-ogsaa-kampdroner\"><span class=\"dre-teaser-title__text\"><span class=\"dre-title-text\"><span class=\"dre-hyphenate-text\">Putin på charmetur til <span class=\"dre-hyphenate-text__hyphen\">Mellemøsten</span> for at snakke korn og olie - og måske også kampdroner</span></span></span></a></div></div>]"
      ]
     },
     "execution_count": 7,
     "metadata": {},
     "output_type": "execute_result"
    }
   ],
   "source": [
    "articles"
   ]
  },
  {
   "cell_type": "markdown",
   "metadata": {
    "slideshow": {
     "slide_type": "subslide"
    }
   },
   "source": [
    "#### Now we want the links to all the articles:\n",
    "First, I show how to find the link for *one* article, and afterwards I show how to loop through all article links"
   ]
  },
  {
   "cell_type": "markdown",
   "metadata": {
    "slideshow": {
     "slide_type": "fragment"
    }
   },
   "source": [
    "You can use [`find`](https://www.crummy.com/software/BeautifulSoup/bs4/doc/#find) to find the *first* element. In the code below it is the first element that has the tag ```<a>```.\n",
    "\n",
    "You can use `['href']` to select the attribute. Here we are interested in the content of the href attribute."
   ]
  },
  {
   "cell_type": "code",
   "execution_count": 8,
   "metadata": {
    "slideshow": {
     "slide_type": "fragment"
    }
   },
   "outputs": [
    {
     "name": "stdout",
     "output_type": "stream",
     "text": [
      "/nyheder/udland/knap-var-flyet-landet-i-taiwan-foer-en-storpolitisk-konflikt-var-i-lys-lue-her-er\n"
     ]
    }
   ],
   "source": [
    "# First find the \"link\" tag in the HTML\n",
    "article_link = articles[0].find('a') #(We are only taking the first article)\n",
    "# Then locate the URL in the href attribute\n",
    "article_url = article_link['href']\n",
    "print(article_url)"
   ]
  },
  {
   "cell_type": "code",
   "execution_count": 9,
   "metadata": {
    "slideshow": {
     "slide_type": "fragment"
    }
   },
   "outputs": [
    {
     "name": "stdout",
     "output_type": "stream",
     "text": [
      "/nyheder/udland/knap-var-flyet-landet-i-taiwan-foer-en-storpolitisk-konflikt-var-i-lys-lue-her-er\n"
     ]
    }
   ],
   "source": [
    "# Another way to find the tag is by writing `.a` instead of `.find('a')`:\n",
    "article_link = articles[0].a\n",
    "article_url = article_link['href']\n",
    "print(article_url)"
   ]
  },
  {
   "cell_type": "markdown",
   "metadata": {
    "slideshow": {
     "slide_type": "subslide"
    }
   },
   "source": [
    "#### We create a list of URLs that we want to scrape:"
   ]
  },
  {
   "cell_type": "code",
   "execution_count": 10,
   "metadata": {
    "slideshow": {
     "slide_type": "fragment"
    }
   },
   "outputs": [],
   "source": [
    "# Create an empty list\n",
    "list_of_article_urls = []\n",
    "\n",
    "# Creating a loop that appends the article url to the list above\n",
    "for i in range(len(articles)):\n",
    "    list_of_article_urls.append(articles[i].find('a')['href'])"
   ]
  },
  {
   "cell_type": "code",
   "execution_count": 11,
   "metadata": {
    "scrolled": true,
    "slideshow": {
     "slide_type": "fragment"
    }
   },
   "outputs": [
    {
     "data": {
      "text/plain": [
       "['/nyheder/udland/knap-var-flyet-landet-i-taiwan-foer-en-storpolitisk-konflikt-var-i-lys-lue-her-er',\n",
       " '/nyheder/udland/drs-matilde-kimer-er-blevet-udvist-af-rusland',\n",
       " '/nyheder/udland/foerste-amerikanske-delstat-har-stemt-nej-til-fjerne-retten-til-fri-abort',\n",
       " '/nyheder/udland/taiwan-byder-pelosi-velkommen-med-aabne-arme-mens-kina-skruer-op-trusler',\n",
       " '/nyheder/udland/al-qaeda-leder-blev-draebt-i-diplomatkvarter-fem-minutters-gang-fra-tidligere-dansk',\n",
       " '/nyheder/udland/nancy-pelosi-trodser-kinesiske-advarsler-ankommer-til-taiwan-til-historisk-besoeg',\n",
       " 'https://www.dr.dk/stories/1288510966/usa-har-drbt-al-qaedas-topleder-hvad-betyder-det/',\n",
       " '/nyheder/udland/corona-laeges-selvmord-saetter-gang-i-oestrigsk-debat-om-netchikane',\n",
       " '/nyheder/udland/puk-damsgaard-markant-og-bemaerkelsesvaerdigt-al-qaedas-draebte-topleder-opholdt-sig',\n",
       " '/nyheder/udland/usa-draeber-al-qaedas-leder-med-drone-i-kabul',\n",
       " '/nyheder/udland/foerste-fragtskib-i-flere-maaneder-sejler-nu-gennem-sortehavet-en-lettelse-verden',\n",
       " '/nyheder/udland/forventningerne-er-meget-lave-forud-verdens-stoerste-konference-nedrustning-af',\n",
       " '/nyheder/udland/der-spares-hvor-der-kan-eu-lande-lancerer-energibesparende-tiltag',\n",
       " '/nyheder/udland/drab-paa-nigeriansk-gadesaelger-ved-hoejlys-dag-udloeser-vrede-i-italien',\n",
       " '/nyheder/udland/nye-pas-sim-kort-og-tv-kanaler-putin-er-i-fuld-gang-med-indfoere-russiske-tilstande-i',\n",
       " '/nyheder/udland/corona-duks-har-pludselig-flere-doedsfald-end-nogensinde',\n",
       " '/nyheder/udland/rusland-vil-lade-fn-og-roede-kors-undersoege-angreb-paa-faengslede-krigsfanger',\n",
       " '/nyheder/udland/ukraine-bliver-kritiseret-sende-boern-med-handicap-paa-institutioner-det-minder-om-et',\n",
       " '/nyheder/udland/endnu-en-kinesisk-raket-styrter-mod-jorden-decideret-dumt-og-uansvarligt',\n",
       " '/nyheder/udland/usa-gaar-ind-i-produktionen-af-mikrochips-det-vil-i-hoej-grad-komme-dansk-erhvervsliv',\n",
       " '/nyheder/udland/det-er-uholdbart-russiske-turister-stroemmer-til-finland',\n",
       " '/nyheder/udland/retten-faelder-dom-i-spektakulaer-fodboldfruesag-det-er-rebekah-vardy',\n",
       " 'https://www.dr.dk/stories/1288510966/olgas-hjem-er-en-togvogn/',\n",
       " '/nyheder/udland/kinas-xi-jinping-advarer-biden-leg-ikke-med-ilden-naar-det-gaelder-taiwan',\n",
       " '/nyheder/udland/ukraine-bomber-vigtig-bro-og-gaar-til-modangreb',\n",
       " '/nyheder/udland/russisk-journalist-doemt-miskreditere-haer',\n",
       " '/nyheder/udland/i-kyiv-trodser-de-luftalarmer-og-udgangsforbud-kom-med-dr-til-raveparty',\n",
       " '/nyheder/udland/trump-tilbage-i-washington-foerste-gang-siden-han-forlod-det-hvide-hus-0',\n",
       " '/nyheder/udland/eu-lande-har-aftalt-bruge-15-procent-mindre-gas-men-de-er-ikke-pisket-til-det',\n",
       " '/nyheder/udland/gazprom-strammer-ifoelge-tyskland-skruen-uden-grund',\n",
       " '/nyheder/udland/risikoen-udvisning-til-rwanda-holder-ikke-migranter-fra-soege-mod-storbritannien',\n",
       " '/nyheder/udland/paven-undskylder-til-de-oprindelige-folk-i-canada-jeg-beder-ydmygt-om-tilgivelse',\n",
       " 'https://www.dr.dk/stories/1288510966/tusindvis-risikerer-livet-over-den-engelske-kanal/',\n",
       " '/nyheder/udland/xiaoyus-familie-og-tusindvis-andre-er-den-kinesiske-boligdroem-en-bunke-ruiner',\n",
       " '/nyheder/udland/derfor-besynger-ukrainerne-nyt-missilsystem-den-russiske-fremrykning-er-gaaet-i-staa',\n",
       " '/nyheder/udland/russisk-restaurant-i-berlin-lagt-had-folk-sagde-de-ville-skyde-os',\n",
       " '/nyheder/udland/oak-fire-haerger-ved-yosemite-nationalpark-i-usa',\n",
       " '/nyheder/udland/rusland-beskyldes-angribe-havn-dagen-efter-kornaftale-det-er-selvfoelgelig-med-vilje',\n",
       " '/nyheder/udland/kornpriserne-falder-efter-ny-aftale-kommer-til-tage-toppen-af-foedevarekrisen',\n",
       " '/nyheder/udland/analyse-trump-udstilles-af-tilstaaelser-fra-naermeste-og-afsloerende-videoklip',\n",
       " '/nyheder/udland/premierministeren-har-sagt-op-praesidenten-oploeser-parlamentet-og-sender-italienerne',\n",
       " '/nyheder/udland/anden-kritiske-rapport-paa-en-uge-baadmigranter-bliver-efterladt-i-farlige',\n",
       " '/nyheder/udland/rusland-udvider-sine-militaere-maal-i-ukraine-men-intet-tyder-paa-de-har-kapaciteten',\n",
       " '/nyheder/udland/cia-direktoer-afviser-rygter-om-putins-helbred-saa-vidt-vi-ved-saa-er-han-faktisk',\n",
       " '/nyheder/udland/russisk-gas-flyder-igen-mod-europa-men-er-gaskrisen-afvaerget',\n",
       " '/nyheder/udland/finalisterne-er-fundet-en-genfoedt-brexit-tilhaenger-eller-en-stenrig-eks-minister',\n",
       " '/nyheder/udland/vi-staar-paa-kanten-af-en-gaskrise-eu-vil-have-alle-lande-til-spare-15-procent-fra',\n",
       " '/nyheder/udland/putin-paa-charmetur-til-mellemoesten-snakke-korn-og-olie-og-maaske-ogsaa-kampdroner']"
      ]
     },
     "execution_count": 11,
     "metadata": {},
     "output_type": "execute_result"
    }
   ],
   "source": [
    "list_of_article_urls"
   ]
  },
  {
   "cell_type": "markdown",
   "metadata": {
    "slideshow": {
     "slide_type": "subslide"
    }
   },
   "source": [
    "#### Some of the links are not to articles \n",
    "\n",
    "So we write this code to only keep the article links:"
   ]
  },
  {
   "cell_type": "code",
   "execution_count": 12,
   "metadata": {
    "slideshow": {
     "slide_type": "fragment"
    }
   },
   "outputs": [],
   "source": [
    "list_of_article_urls_final = []\n",
    "for link in list_of_article_urls:\n",
    "    if '/nyheder/udland' in link: #All article URLs have this string in them, so we restrict on it being in the URL\n",
    "        list_of_article_urls_final.append(link)"
   ]
  },
  {
   "cell_type": "markdown",
   "metadata": {
    "slideshow": {
     "slide_type": "slide"
    }
   },
   "source": [
    "## 2. DOWNLOADING + 3. PARSING"
   ]
  },
  {
   "cell_type": "markdown",
   "metadata": {
    "slideshow": {
     "slide_type": "subslide"
    }
   },
   "source": [
    "#### Now we are ready to scrape each webpage from the URL list:\n",
    "First, I will show you the procedure for *one* link, and then I will show you how to scrape the first 10 articles"
   ]
  },
  {
   "cell_type": "code",
   "execution_count": 13,
   "metadata": {
    "slideshow": {
     "slide_type": "fragment"
    }
   },
   "outputs": [],
   "source": [
    "# Creating empty list for the infomation we want to extract for every article\n",
    "title_list = []\n",
    "lead_list = []\n",
    "time_list = []\n",
    "\n",
    "# This time we scrape for each news article in the url list we created before\n",
    "url = 'https://www.dr.dk' + list_of_article_urls_final[0] #The scraped links are relative, so we need to add the base URL (Here we have just taken the first link)\n",
    "response = requests.get(url)\n",
    "soup = BeautifulSoup(response.content,'lxml')"
   ]
  },
  {
   "cell_type": "code",
   "execution_count": 14,
   "metadata": {
    "slideshow": {
     "slide_type": "fragment"
    }
   },
   "outputs": [],
   "source": [
    "# Find title\n",
    "temp = soup.find_all('h1')\n",
    "temp = temp[1]\n",
    "temp = temp.text.strip() #Use strip() to get rid of trailing and leading spaces\n",
    "title_list.append(temp)"
   ]
  },
  {
   "cell_type": "code",
   "execution_count": 15,
   "metadata": {
    "slideshow": {
     "slide_type": "fragment"
    }
   },
   "outputs": [],
   "source": [
    "# Find lead\n",
    "temp = soup.find('p', class_='dre-article-title__summary')\n",
    "temp = temp.text.strip()\n",
    "lead_list.append(temp)"
   ]
  },
  {
   "cell_type": "code",
   "execution_count": 16,
   "metadata": {
    "slideshow": {
     "slide_type": "fragment"
    }
   },
   "outputs": [],
   "source": [
    "# Find time posted\n",
    "temp = soup.find('time', class_='dre-byline__date')\n",
    "temp = temp['datetime']\n",
    "time_list.append(temp)"
   ]
  },
  {
   "cell_type": "markdown",
   "metadata": {
    "slideshow": {
     "slide_type": "subslide"
    }
   },
   "source": [
    "#### Combine all of the code above in a loop to scrape the first 10 articles:"
   ]
  },
  {
   "cell_type": "code",
   "execution_count": 17,
   "metadata": {
    "slideshow": {
     "slide_type": "fragment"
    }
   },
   "outputs": [],
   "source": [
    "# We want to extract title, lead and time posted from the articles\n",
    "\n",
    "# Creatig empty list for the infomation we want to extract for every article\n",
    "title_list = []\n",
    "lead_list = []\n",
    "time_list = []\n",
    "\n",
    "for i in range(10): #len(list_of_article_urls)\n",
    "    \n",
    "    # This time we scrape for each news article in the url list we created before\n",
    "    url = 'https://www.dr.dk' + list_of_article_urls_final[i] #The scraped links are relative, so we need to add the base url\n",
    "    response = requests.get(url)\n",
    "    soup = BeautifulSoup(response.content,'lxml')\n",
    "    \n",
    "    # Append title to list\n",
    "    temp = soup.find_all('h1')\n",
    "    temp = temp[1]\n",
    "    temp = temp.text.strip()\n",
    "    title_list.append(temp)\n",
    "    \n",
    "    # Append lead to list\n",
    "    temp = soup.find('p', class_='dre-article-title__summary')\n",
    "    temp = temp.text.strip()\n",
    "    lead_list.append(temp)\n",
    "\n",
    "    # Append time posted to list\n",
    "    temp = soup.find('time', class_='dre-byline__date')\n",
    "    temp = temp['datetime']\n",
    "    time_list.append(temp)"
   ]
  },
  {
   "cell_type": "code",
   "execution_count": 18,
   "metadata": {
    "slideshow": {
     "slide_type": "subslide"
    }
   },
   "outputs": [
    {
     "data": {
      "text/plain": [
       "['Knap var flyet landet i Taiwan, før en storpolitisk konflikt var i lys lue - her er forklaringen',\n",
       " \"DR's Matilde Kimer er blevet udvist af Rusland\",\n",
       " \"Første amerikanske delstat har stemt 'nej' til at fjerne retten til fri abort\",\n",
       " 'Taiwan byder Pelosi velkommen med åbne arme, mens Kina skruer op for trusler',\n",
       " 'Al-Qaeda-leder blev dræbt i diplomatkvarter - fem minutters gang fra tidligere dansk ambassade',\n",
       " 'Nancy Pelosi trodser kinesiske advarsler: Ankommer til Taiwan til historisk besøg',\n",
       " 'Corona-læges selvmord sætter gang i østrigsk debat om netchikane',\n",
       " \"Puk Damsgård: 'Markant og bemærkelsesværdigt', at al-Qaedas dræbte topleder opholdt sig i Kabul\",\n",
       " 'USA dræber al-Qaedas leder med drone i Kabul',\n",
       " \"Første fragtskib i flere måneder sejler nu gennem Sortehavet: 'En lettelse for verden'\"]"
      ]
     },
     "execution_count": 18,
     "metadata": {},
     "output_type": "execute_result"
    }
   ],
   "source": [
    "title_list"
   ]
  },
  {
   "cell_type": "code",
   "execution_count": 19,
   "metadata": {
    "scrolled": true,
    "slideshow": {
     "slide_type": "subslide"
    }
   },
   "outputs": [
    {
     "data": {
      "text/plain": [
       "['Konflikten om ø-staten handler om årtiers politisk balancegang - og der er tre parter på linen.',\n",
       " 'Rusland slår hårdt ned på uafhængige medier og journalister, der dækker krigen i Ukraine.',\n",
       " 'Resultatet er en vigtigt sejr for tilhængere af fri abort, siger juridisk skribent.',\n",
       " 'USA skal støtte demokrati alle steder, skriver Nancy Pelosi om sit omstridte besøg i Taiwan.',\n",
       " 'Terrorleders tilstedeværelse midt i hovedstaden tyder på, at al-Qaeda igen er ved at opbygge fodfæste i Afghanistan, siger forsvarsanalytiker.',\n",
       " 'Formanden for Repræsentanternes Hus er ankommet til Taipei.',\n",
       " 'I flere byer blev der tændt lys for læge, der blev udsat for trusler.',\n",
       " \"Taliban har i den grad et forklaringsproblem over for Vesten, mener DR's korrespondent Puk Damsgård.\",\n",
       " 'Ayman al-Zawahiri ledede terrorgruppen efter drabet på Osama bin Laden i 2011.',\n",
       " 'Det er lidt over en uge siden, at Tyrkiet, FN, Ukraine og Rusland underskrev en aftale, der skal sikre eksport via Sortehavet.']"
      ]
     },
     "execution_count": 19,
     "metadata": {},
     "output_type": "execute_result"
    }
   ],
   "source": [
    "lead_list"
   ]
  },
  {
   "cell_type": "code",
   "execution_count": 20,
   "metadata": {
    "slideshow": {
     "slide_type": "subslide"
    }
   },
   "outputs": [
    {
     "data": {
      "text/plain": [
       "['2022-08-03T18:50:00+00:00',\n",
       " '2022-08-03T16:29:00+00:00',\n",
       " '2022-08-03T08:56:00+00:00',\n",
       " '2022-08-02T18:53:00+00:00',\n",
       " '2022-08-02T16:14:00+00:00',\n",
       " '2022-08-02T14:52:00+00:00',\n",
       " '2022-08-02T11:55:00+00:00',\n",
       " '2022-08-02T08:52:00+00:00',\n",
       " '2022-08-02T03:32:00+00:00',\n",
       " '2022-08-01T11:49:00+00:00']"
      ]
     },
     "execution_count": 20,
     "metadata": {},
     "output_type": "execute_result"
    }
   ],
   "source": [
    "time_list"
   ]
  },
  {
   "cell_type": "markdown",
   "metadata": {
    "slideshow": {
     "slide_type": "subslide"
    }
   },
   "source": [
    "#### Lastly, we put our collected information into a dataframe:"
   ]
  },
  {
   "cell_type": "code",
   "execution_count": 21,
   "metadata": {
    "scrolled": false,
    "slideshow": {
     "slide_type": "fragment"
    }
   },
   "outputs": [
    {
     "data": {
      "text/html": [
       "<div>\n",
       "<style scoped>\n",
       "    .dataframe tbody tr th:only-of-type {\n",
       "        vertical-align: middle;\n",
       "    }\n",
       "\n",
       "    .dataframe tbody tr th {\n",
       "        vertical-align: top;\n",
       "    }\n",
       "\n",
       "    .dataframe thead th {\n",
       "        text-align: right;\n",
       "    }\n",
       "</style>\n",
       "<table border=\"1\" class=\"dataframe\">\n",
       "  <thead>\n",
       "    <tr style=\"text-align: right;\">\n",
       "      <th></th>\n",
       "      <th>title</th>\n",
       "      <th>lead</th>\n",
       "      <th>time</th>\n",
       "    </tr>\n",
       "  </thead>\n",
       "  <tbody>\n",
       "    <tr>\n",
       "      <th>0</th>\n",
       "      <td>Knap var flyet landet i Taiwan, før en storpol...</td>\n",
       "      <td>Konflikten om ø-staten handler om årtiers poli...</td>\n",
       "      <td>2022-08-03T18:50:00+00:00</td>\n",
       "    </tr>\n",
       "    <tr>\n",
       "      <th>1</th>\n",
       "      <td>DR's Matilde Kimer er blevet udvist af Rusland</td>\n",
       "      <td>Rusland slår hårdt ned på uafhængige medier og...</td>\n",
       "      <td>2022-08-03T16:29:00+00:00</td>\n",
       "    </tr>\n",
       "    <tr>\n",
       "      <th>2</th>\n",
       "      <td>Første amerikanske delstat har stemt 'nej' til...</td>\n",
       "      <td>Resultatet er en vigtigt sejr for tilhængere a...</td>\n",
       "      <td>2022-08-03T08:56:00+00:00</td>\n",
       "    </tr>\n",
       "    <tr>\n",
       "      <th>3</th>\n",
       "      <td>Taiwan byder Pelosi velkommen med åbne arme, m...</td>\n",
       "      <td>USA skal støtte demokrati alle steder, skriver...</td>\n",
       "      <td>2022-08-02T18:53:00+00:00</td>\n",
       "    </tr>\n",
       "    <tr>\n",
       "      <th>4</th>\n",
       "      <td>Al-Qaeda-leder blev dræbt i diplomatkvarter - ...</td>\n",
       "      <td>Terrorleders tilstedeværelse midt i hovedstade...</td>\n",
       "      <td>2022-08-02T16:14:00+00:00</td>\n",
       "    </tr>\n",
       "    <tr>\n",
       "      <th>5</th>\n",
       "      <td>Nancy Pelosi trodser kinesiske advarsler: Anko...</td>\n",
       "      <td>Formanden for Repræsentanternes Hus er ankomme...</td>\n",
       "      <td>2022-08-02T14:52:00+00:00</td>\n",
       "    </tr>\n",
       "    <tr>\n",
       "      <th>6</th>\n",
       "      <td>Corona-læges selvmord sætter gang i østrigsk d...</td>\n",
       "      <td>I flere byer blev der tændt lys for læge, der ...</td>\n",
       "      <td>2022-08-02T11:55:00+00:00</td>\n",
       "    </tr>\n",
       "    <tr>\n",
       "      <th>7</th>\n",
       "      <td>Puk Damsgård: 'Markant og bemærkelsesværdigt',...</td>\n",
       "      <td>Taliban har i den grad et forklaringsproblem o...</td>\n",
       "      <td>2022-08-02T08:52:00+00:00</td>\n",
       "    </tr>\n",
       "    <tr>\n",
       "      <th>8</th>\n",
       "      <td>USA dræber al-Qaedas leder med drone i Kabul</td>\n",
       "      <td>Ayman al-Zawahiri ledede terrorgruppen efter d...</td>\n",
       "      <td>2022-08-02T03:32:00+00:00</td>\n",
       "    </tr>\n",
       "    <tr>\n",
       "      <th>9</th>\n",
       "      <td>Første fragtskib i flere måneder sejler nu gen...</td>\n",
       "      <td>Det er lidt over en uge siden, at Tyrkiet, FN,...</td>\n",
       "      <td>2022-08-01T11:49:00+00:00</td>\n",
       "    </tr>\n",
       "  </tbody>\n",
       "</table>\n",
       "</div>"
      ],
      "text/plain": [
       "                                               title  \\\n",
       "0  Knap var flyet landet i Taiwan, før en storpol...   \n",
       "1     DR's Matilde Kimer er blevet udvist af Rusland   \n",
       "2  Første amerikanske delstat har stemt 'nej' til...   \n",
       "3  Taiwan byder Pelosi velkommen med åbne arme, m...   \n",
       "4  Al-Qaeda-leder blev dræbt i diplomatkvarter - ...   \n",
       "5  Nancy Pelosi trodser kinesiske advarsler: Anko...   \n",
       "6  Corona-læges selvmord sætter gang i østrigsk d...   \n",
       "7  Puk Damsgård: 'Markant og bemærkelsesværdigt',...   \n",
       "8       USA dræber al-Qaedas leder med drone i Kabul   \n",
       "9  Første fragtskib i flere måneder sejler nu gen...   \n",
       "\n",
       "                                                lead  \\\n",
       "0  Konflikten om ø-staten handler om årtiers poli...   \n",
       "1  Rusland slår hårdt ned på uafhængige medier og...   \n",
       "2  Resultatet er en vigtigt sejr for tilhængere a...   \n",
       "3  USA skal støtte demokrati alle steder, skriver...   \n",
       "4  Terrorleders tilstedeværelse midt i hovedstade...   \n",
       "5  Formanden for Repræsentanternes Hus er ankomme...   \n",
       "6  I flere byer blev der tændt lys for læge, der ...   \n",
       "7  Taliban har i den grad et forklaringsproblem o...   \n",
       "8  Ayman al-Zawahiri ledede terrorgruppen efter d...   \n",
       "9  Det er lidt over en uge siden, at Tyrkiet, FN,...   \n",
       "\n",
       "                        time  \n",
       "0  2022-08-03T18:50:00+00:00  \n",
       "1  2022-08-03T16:29:00+00:00  \n",
       "2  2022-08-03T08:56:00+00:00  \n",
       "3  2022-08-02T18:53:00+00:00  \n",
       "4  2022-08-02T16:14:00+00:00  \n",
       "5  2022-08-02T14:52:00+00:00  \n",
       "6  2022-08-02T11:55:00+00:00  \n",
       "7  2022-08-02T08:52:00+00:00  \n",
       "8  2022-08-02T03:32:00+00:00  \n",
       "9  2022-08-01T11:49:00+00:00  "
      ]
     },
     "execution_count": 21,
     "metadata": {},
     "output_type": "execute_result"
    }
   ],
   "source": [
    "import pandas as pd\n",
    "df = pd.DataFrame({'title':title_list, 'lead':lead_list, 'time':time_list})\n",
    "df"
   ]
  },
  {
   "cell_type": "markdown",
   "metadata": {
    "slideshow": {
     "slide_type": "subslide"
    }
   },
   "source": [
    "#### One more thing:\n",
    "What if we also want the body text of an article?"
   ]
  },
  {
   "cell_type": "code",
   "execution_count": 22,
   "metadata": {
    "slideshow": {
     "slide_type": "fragment"
    }
   },
   "outputs": [],
   "source": [
    "url = 'https://www.dr.dk/nyheder/udland/gazprom-strammer-ifoelge-tyskland-skruen-uden-grund' \n",
    "response = requests.get(url)\n",
    "soup = BeautifulSoup(response.content,'lxml')"
   ]
  },
  {
   "cell_type": "code",
   "execution_count": 23,
   "metadata": {
    "scrolled": true,
    "slideshow": {
     "slide_type": "fragment"
    }
   },
   "outputs": [
    {
     "data": {
      "text/plain": [
       "<div class=\"dre-article-body\" itemprop=\"articleBody\"><div class=\"dre-container\"><div class=\"dre-container__content dre-container__content--small\"><div class=\"dre-speech\"><p class=\"dre-article-body-paragraph dre-variables\">Gazprom halverer gasleverancerne til Europa via Nord Stream 1. Årsagen er ifølge selskabet vedligehold af en gasturbine. Den daglige gasforsyning via gasledningen vil fra onsdag morgen blive <span style=\"display:inline\"><span class=\"dre-glossary-match\">reduceret</span></span> til <a href=\"https://twitter.com/GazpromEN/status/1551582192484106246?ref_src=twsrc^tfw|twcamp^tweetembed|twterm^1551582192484106246|twgr^|twcon^s1_&amp;ref_url=https://www.ritzau.dk/nyhed/\" rel=\"noopener noreferrer\" target=\"_blank\">33 millioner kubikmeter, oplyser Gazprom</a>.</p></div><div class=\"dre-speech\"><p class=\"dre-article-body-paragraph dre-variables\">Det svarer til cirka 20 procent af den maksimale kapacitet, og det fremgår ikke, hvor længe den yderligt <span style=\"display:inline\"><span class=\"dre-glossary-match\">reducerede</span></span> forsyning af gas vil stå på.</p></div></div></div><figure class=\"dre-article-body-figure dre-article-body-figure--medium dre-article-body-figure--spacing\"><div><div class=\"dre-picture\"><div class=\"dre-picture__ratio-padder dre-picture__ratio-padder--xxs\" style=\"--dre-picture__ratio--xxs:0.94084\"></div></div></div><figcaption class=\"dre-article-body-figure__caption dre-article-body-figure__caption--medium dre-article-body-figure__caption--left dre-variables\"></figcaption></figure><div class=\"dre-container\"><div class=\"dre-container__content dre-container__content--small\"><div class=\"dre-speech\"><p class=\"dre-article-body-paragraph dre-variables\">Den tyske <span style=\"display:inline\"><span class=\"dre-glossary-match\">regering</span></span> anser den forklaringen om <span style=\"display:inline\"><span class=\"dre-glossary-match\">vedligeholdelse</span></span> for at være opfundet til lejligheden.</p></div><div class=\"dre-speech\"><p class=\"dre-article-body-paragraph dre-variables\">- Ifølge vores oplysninger er der ingen teknisk grund til en reduktion i leverancerne, <a href=\"https://www.faz.net/aktuell/wirtschaft/gazprom-senkt-lieferung-durch-nord-stream-1-auf-20-prozent-18198169.html\" rel=\"noopener noreferrer\" target=\"_blank\">siger en talskvinde for Finansministeriet og minister Robert Habeck til Frankfurter Allgemeine Zeitung</a>.</p></div><div class=\"dre-speech\"><p class=\"dre-article-body-paragraph dre-variables\">Tyskerne får 25 procent af deres energi fra gas, hvor en overvejende del er kommet fra Rusland.</p></div><div class=\"dre-speech\"><h2 class=\"dre-article-body-sub-heading dre-variables\">Gasprisen stiger med 10 procent</h2></div><div class=\"dre-speech\"><p class=\"dre-article-body-paragraph dre-variables\">Det er anden gang indenfor en uge, at Gazprom <span style=\"display:inline\"><span class=\"dre-glossary-match\">reducerer</span></span> leverancen af gas under påskud af reperation af gasturbiner. <a href=\"https://www.dr.dk/nyheder/udland/russisk-gas-flyder-igen-mod-europa-men-er-gaskrisen-afvaerget\" rel=\"noopener noreferrer\" target=\"_blank\">Da Gazprom efter ti dages vedligehold i sidste uge genåbnede for gasforsyningen til Tyskland</a>, var meldingen, at der dagligt ville blive leveret cirka 67 millioner kubikmeter.</p></div><div class=\"dre-speech\"><p class=\"dre-article-body-paragraph dre-variables\">Gazproms seneste melding betyder altså, at leverancerne til Europa bliver omtrent halveret fra onsdag. Gasledningen kan, når den kører for fuld kraft, levere cirka 167 millioner kubikmeter gas om dagen.</p></div></div></div><figure class=\"dre-article-body-figure dre-article-body-figure--large dre-article-body-figure--spacing\"><div><div class=\"dre-picture\"><div class=\"dre-picture__ratio-padder dre-picture__ratio-padder--xxs\" style=\"--dre-picture__ratio--xxs:0.54994\"></div></div></div><figcaption class=\"dre-article-body-figure__caption dre-article-body-figure__caption--large dre-variables\"><div class=\"dre-breakpoint dre-breakpoint--xxs dre-breakpoint--xs dre-breakpoint--sm dre-breakpoint--md dre-breakpoint--lg dre-breakpoint--xl\" style=\"--dre-breakpoint-display:initial\"><span class=\"dre-caption\">Nordstream 1-faciliter i Lubmin i Tyskland. (Arkiv) (Foto: HANNIBAL HANSCHKE © Ritzau Scanpix)</span></div></figcaption></figure><div class=\"dre-container\"><div class=\"dre-container__content dre-container__content--small\"><div class=\"dre-speech\"><p class=\"dre-article-body-paragraph dre-variables\">Den ledende europæiske gaspris er mandag aften steget med op til ti procent efter udmeldingen fra Gazprom. Det er fjerde dag i træk, at gasprisen stiger, skriver finansmediet Marketwire ifølge Rtizau.</p></div><div class=\"dre-speech\"><p class=\"dre-article-body-paragraph dre-variables\">Nord Stream 1 transporterer normalt hvert år 55 milliarder kubikmeter gas fra Rusland til Tyskland under Østersøen. Det er nok til at forsyne cirka 26 millioner europæiske hjem.</p></div><div class=\"dre-speech\"><p class=\"dre-article-body-paragraph dre-variables\">Den tyske formand for det føderale agentur for digitalisering, klimaneutralitet og modstandsdygtighed, <a href=\"https://twitter.com/Klaus_Mueller/status/1551587487688040449\" rel=\"noopener noreferrer\" target=\"_blank\">Klaus Müller, bekræfter, at den nuværende levering halveres fra onsdag</a>.</p></div></div></div><figure class=\"dre-article-body-figure dre-article-body-figure--medium dre-article-body-figure--spacing\"><div><div class=\"dre-picture\"><div class=\"dre-picture__ratio-padder dre-picture__ratio-padder--xxs\" style=\"--dre-picture__ratio--xxs:0.41682\"></div></div></div><figcaption class=\"dre-article-body-figure__caption dre-article-body-figure__caption--medium dre-article-body-figure__caption--left dre-variables\"></figcaption></figure><div class=\"dre-container\"><div class=\"dre-container__content dre-container__content--small\"><div class=\"dre-speech\"><p class=\"dre-article-body-paragraph dre-variables\">Stormagter i Europa har anklaget Rusland for at bruge gas som et afpresningsmiddel over for Europa, fordi <span style=\"display:inline\"><span class=\"dre-glossary-match\">EU</span></span> har indført <span style=\"display:inline\"><span class=\"dre-glossary-match\">sanktioner</span></span> mod Rusland på grund af krigen i Ukraine. Ifølge Tyskland er der \"ingen tekniske grunde\" til den <span style=\"display:inline\"><span class=\"dre-glossary-match\">reducerede</span></span> gasforsyning fra Nord Stream 1, som Gazprom ellers <span style=\"display:inline\"><span class=\"dre-glossary-match\">hævder</span></span>.</p></div><div class=\"dre-speech\"><p class=\"dre-article-body-paragraph dre-variables\">380.000 danske <span style=\"display:inline\"><span class=\"dre-glossary-match\">husstande</span></span> benytter <a href=\"https://ens.dk/presse/energistyrelsen-erklaerer-early-warning\" rel=\"noopener noreferrer\" target=\"_blank\">ifølge Energistyrelsen</a> naturgas til opvarmning via gasfyr. Det svarer til ca. 800.000 danskere.</p></div></div></div><figure class=\"dre-article-body-figure dre-article-body-figure--medium dre-article-body-figure--spacing\"><div><div class=\"dre-placeholder dre-placeholder--xxs dre-placeholder--xs dre-placeholder--sm dre-placeholder--md dre-placeholder--lg dre-placeholder--xl\" style=\"--dre-placeholder__height--xxs:calc(56.25vw - 2.5rem);--dre-placeholder__height--xs:calc(56.25vw - 2.5rem);--dre-placeholder__height--sm:21.796875rem;--dre-placeholder__height--md:29.8828125rem;--dre-placeholder__height--lg:29.8828125rem;--dre-placeholder__height--xl:29.8828125rem\"></div></div></figure><div class=\"dre-container\"><div class=\"dre-container__content dre-container__content--small\"><div class=\"dre-speech\"><h2 class=\"dre-article-body-sub-heading dre-variables\">Tyskerne vender sig tilbage mod kul</h2></div><div class=\"dre-speech\"><p class=\"dre-article-body-paragraph dre-variables\">Tyskland er blandt de europæiske lande, der er mest afhængig af den russiske gas. Men også flere andre europæiske lande, for eksempel Italien, er storforbrugere af gas, der kommer til Europa via Nord Stream 1.</p></div><div class=\"dre-speech\"><p class=\"dre-article-body-paragraph dre-variables\">Rusland er verdens største eksportør af naturgas. Europa importerer omkring 40 procent af sin gas fra Rusland gennem Tyskland, som sender den billige russiske gas videre til øvrige dele af Europa.</p></div><div class=\"dre-speech\"><p class=\"dre-article-body-paragraph dre-variables\">Nord Stream 1 er en 1.224 kilometer lang gasrørledning, som løber fra Rusland til Tyskland under Østersøen. Den har været i brug siden 2011.</p></div><div class=\"dre-speech\"><p class=\"dre-article-body-paragraph dre-variables\"><i>Gaskrisen har fået Tyskland til desperat at lede efter alternativer til gas til landets vigtige industri men også til private husholdninger. For eksempel ved at skifte over til den allermest forurenende energikilde. Nemlig kul. DR Nyheders korrespondent i Tyskland har været i Leipzig for at møde en kulhandler, der har kronede dage:</i></p></div></div></div><figure class=\"dre-article-body-figure dre-article-body-figure--medium dre-article-body-figure--spacing\"><div class=\"dre-video-player dre-variables\"><div class=\"dre-threshold-trigger dre-threshold-trigger--top dre-threshold-trigger--bottom\"></div><div class=\"dre-threshold-trigger dre-threshold-trigger--top dre-threshold-trigger--bottom\"></div><div><div class=\"dre-video-player__placeholder\"></div></div></div></figure><div class=\"dre-container\"><div class=\"dre-container__content dre-container__content--small\"><section class=\"dre-list dre-list--boxed dre-list--boxed-title dre-variables\" style=\"background-color:#f3f0ef\"><div class=\"dre-speech\"><h2 class=\"dre-list__title dre-list__title--boxed dre-list__title--boxed-title\">FAKTABOKS om Nord Stream 1</h2></div><ul class=\"dre-list__list dre-list__list--boxed dre-list__list--boxed-title\"><li class=\"dre-list-item\"><div class=\"dre-list-item__indicator\" style=\"color:#FF001E\">•</div><div class=\"dre-speech\"><span class=\"dre-list-item__content\"><p>Nord Stream 1 er 1224 kilometer lang og består af to gasrørledninger, som løber under Østersøen.</p></span></div></li><li class=\"dre-list-item\"><div class=\"dre-list-item__indicator\" style=\"color:#FF001E\">•</div><div class=\"dre-speech\"><span class=\"dre-list-item__content\"><p>De strækker sig fra Vyborg i Rusland til Lubmin i det nordøstlige Tyskland. Derfra transporteres gassen videre til øvrige dele af Europa.</p></span></div></li><li class=\"dre-list-item\"><div class=\"dre-list-item__indicator\" style=\"color:#FF001E\">•</div><div class=\"dre-speech\"><span class=\"dre-list-item__content\"><p>Den har været i brug siden 2011 og har dermed i over et årti - indtil Ruslands krig mod Ukraine - været en pålidelig kilde til gas til Europa.</p></span></div></li><li class=\"dre-list-item\"><div class=\"dre-list-item__indicator\" style=\"color:#FF001E\">•</div><div class=\"dre-speech\"><span class=\"dre-list-item__content\"><p>Den kan transportere 55 milliarder kubikmeter gas om året til Europa. Det er nok til at forsyne cirka 26 millioner europæiske hjem. Dermed er den særdeles vigtig for gasforsyningen til Europa.</p></span></div></li><li class=\"dre-list-item\"><div class=\"dre-list-item__indicator\" style=\"color:#FF001E\">•</div><div class=\"dre-speech\"><span class=\"dre-list-item__content\"><p>Ruslands statsejede gasselskab Gazprom ejer 51 procent af Nord Stream 1. Tysklands EON og Wintershall Dea, hollandske Gasunie og Frankrigs Engie er også aktionærer.</p></span></div></li><li class=\"dre-list-item\"><div class=\"dre-list-item__indicator\" style=\"color:#FF001E\">•</div><div class=\"dre-speech\"><span class=\"dre-list-item__content\"><p>Projektet er længe blevet set som en model for økonomisk samarbejde mellem Rusland og EU, hvor lande som Tyskland og Italien er blevet stærkt afhængige af den billige russiske gas.</p></span></div></li><li class=\"dre-list-item\"><div class=\"dre-list-item__indicator\" style=\"color:#FF001E\">•</div><div class=\"dre-speech\"><span class=\"dre-list-item__content\"><p>Rusland er verdens største eksportør af naturgas. Europa importerer omkring 40 procent af sin gas fra Rusland.</p></span></div></li><li class=\"dre-list-item\"><div class=\"dre-list-item__indicator\" style=\"color:#FF001E\">•</div><div class=\"dre-speech\"><span class=\"dre-list-item__content\"><p><i>Kilder: AFP og Reuters af /ritzau/</i></p></span></div></li></ul></section></div></div></div>"
      ]
     },
     "execution_count": 23,
     "metadata": {},
     "output_type": "execute_result"
    }
   ],
   "source": [
    "# We locate the body of the article:\n",
    "body = soup.find('div', class_ = 'dre-article-body')\n",
    "body"
   ]
  },
  {
   "cell_type": "markdown",
   "metadata": {
    "slideshow": {
     "slide_type": "subslide"
    }
   },
   "source": [
    "This body consists of both sections with text and figures. We want it all.\n",
    "\n",
    "But sections and figures have different tags, so we cannot just use `find_all` to find all elements in the body.\n",
    "\n",
    "Instead we can use [`.children`](https://www.crummy.com/software/BeautifulSoup/bs4/doc/#contents-and-children). It finds all children of the element body:"
   ]
  },
  {
   "cell_type": "code",
   "execution_count": 24,
   "metadata": {
    "slideshow": {
     "slide_type": "fragment"
    }
   },
   "outputs": [],
   "source": [
    "body_text = []\n",
    "for child in body.children:\n",
    "    body_text.append(child.text)"
   ]
  },
  {
   "cell_type": "code",
   "execution_count": 25,
   "metadata": {
    "scrolled": true,
    "slideshow": {
     "slide_type": "fragment"
    }
   },
   "outputs": [
    {
     "data": {
      "text/plain": [
       "['Gazprom halverer gasleverancerne til Europa via Nord Stream 1. Årsagen er ifølge selskabet vedligehold af en gasturbine. Den daglige gasforsyning via gasledningen vil fra onsdag morgen blive reduceret til 33 millioner kubikmeter, oplyser Gazprom.Det svarer til cirka 20 procent af den maksimale kapacitet, og det fremgår ikke, hvor længe den yderligt reducerede forsyning af gas vil stå på.',\n",
       " '',\n",
       " 'Den tyske regering anser den forklaringen om vedligeholdelse for at være opfundet til lejligheden.- Ifølge vores oplysninger er der ingen teknisk grund til en reduktion i leverancerne, siger en talskvinde for Finansministeriet og minister Robert Habeck til Frankfurter Allgemeine Zeitung.Tyskerne får 25 procent af deres energi fra gas, hvor en overvejende del er kommet fra Rusland.Gasprisen stiger med 10 procentDet er anden gang indenfor en uge, at Gazprom reducerer leverancen af gas under påskud af reperation af gasturbiner. Da Gazprom efter ti dages vedligehold i sidste uge genåbnede for gasforsyningen til Tyskland, var meldingen, at der dagligt ville blive leveret cirka 67 millioner kubikmeter.Gazproms seneste melding betyder altså, at leverancerne til Europa bliver omtrent halveret fra onsdag. Gasledningen kan, når den kører for fuld kraft, levere cirka 167 millioner kubikmeter gas om dagen.',\n",
       " 'Nordstream 1-faciliter i Lubmin i Tyskland. (Arkiv) (Foto:\\xa0HANNIBAL HANSCHKE ©\\xa0Ritzau Scanpix)',\n",
       " 'Den ledende europæiske gaspris er mandag aften steget med op til ti procent efter udmeldingen fra Gazprom. Det er fjerde dag i træk, at gasprisen stiger, skriver finansmediet Marketwire ifølge Rtizau.Nord Stream 1 transporterer normalt hvert år 55 milliarder kubikmeter gas fra Rusland til Tyskland under Østersøen. Det er nok til at forsyne cirka 26 millioner europæiske hjem.Den tyske formand for det føderale agentur for digitalisering, klimaneutralitet og modstandsdygtighed, Klaus Müller, bekræfter, at den nuværende levering halveres fra onsdag.',\n",
       " '',\n",
       " 'Stormagter i Europa har anklaget Rusland for at bruge gas som et afpresningsmiddel over for Europa, fordi EU har indført sanktioner mod Rusland på grund af krigen i Ukraine. Ifølge Tyskland er der \"ingen tekniske grunde\" til den reducerede gasforsyning fra Nord Stream 1, som Gazprom ellers hævder.380.000 danske husstande benytter ifølge Energistyrelsen naturgas til opvarmning via gasfyr. Det svarer til ca. 800.000 danskere.',\n",
       " '',\n",
       " 'Tyskerne vender sig tilbage mod kulTyskland er blandt de europæiske lande, der er mest afhængig af den russiske gas. Men også flere andre europæiske lande, for eksempel Italien, er storforbrugere af gas, der kommer til Europa via Nord Stream 1.Rusland er verdens største eksportør af naturgas. Europa importerer omkring 40 procent af sin gas fra Rusland gennem Tyskland, som sender den billige russiske gas videre til øvrige dele af Europa.Nord Stream 1 er en 1.224 kilometer lang gasrørledning, som løber fra Rusland til Tyskland under Østersøen. Den har været i brug siden 2011.Gaskrisen har fået Tyskland til desperat at lede efter alternativer til gas til landets vigtige industri men også til private husholdninger. For eksempel ved at skifte over til den allermest forurenende energikilde. Nemlig kul. DR Nyheders korrespondent i Tyskland har været i Leipzig for at møde en kulhandler, der har kronede dage:',\n",
       " '',\n",
       " 'FAKTABOKS om Nord Stream 1•Nord Stream 1 er 1224 kilometer lang og består af to gasrørledninger, som løber under Østersøen.•De strækker sig fra Vyborg i Rusland til Lubmin i det nordøstlige Tyskland. Derfra transporteres gassen videre til øvrige dele af Europa.•Den har været i brug siden 2011 og har dermed i over et årti - indtil Ruslands krig mod Ukraine - været en pålidelig kilde til gas til Europa.•Den kan transportere 55 milliarder kubikmeter gas om året til Europa. Det er nok til at forsyne cirka 26 millioner europæiske hjem. Dermed er den særdeles vigtig for gasforsyningen til Europa.•Ruslands statsejede gasselskab Gazprom ejer 51 procent af Nord Stream 1. Tysklands EON og Wintershall Dea, hollandske Gasunie og Frankrigs Engie er også aktionærer.•Projektet er længe blevet set som en model for økonomisk samarbejde mellem Rusland og EU, hvor lande som Tyskland og Italien er blevet stærkt afhængige af den billige russiske gas.•Rusland er verdens største eksportør af naturgas. Europa importerer omkring 40 procent af sin gas fra Rusland.•Kilder: AFP og Reuters af /ritzau/']"
      ]
     },
     "execution_count": 25,
     "metadata": {},
     "output_type": "execute_result"
    }
   ],
   "source": [
    "body_text"
   ]
  },
  {
   "cell_type": "markdown",
   "metadata": {
    "slideshow": {
     "slide_type": "subslide"
    }
   },
   "source": [
    "Note: We have used `.text` to get the text of the HTML. The figure elements do not contain any text, so they will just be empty. \n",
    "\n",
    "We can use `.join()` to join all the strings in the list. Just join it on an empty string:"
   ]
  },
  {
   "cell_type": "code",
   "execution_count": 26,
   "metadata": {
    "scrolled": true,
    "slideshow": {
     "slide_type": "fragment"
    }
   },
   "outputs": [
    {
     "data": {
      "text/plain": [
       "'Gazprom halverer gasleverancerne til Europa via Nord Stream 1. Årsagen er ifølge selskabet vedligehold af en gasturbine. Den daglige gasforsyning via gasledningen vil fra onsdag morgen blive reduceret til 33 millioner kubikmeter, oplyser Gazprom.Det svarer til cirka 20 procent af den maksimale kapacitet, og det fremgår ikke, hvor længe den yderligt reducerede forsyning af gas vil stå på.Den tyske regering anser den forklaringen om vedligeholdelse for at være opfundet til lejligheden.- Ifølge vores oplysninger er der ingen teknisk grund til en reduktion i leverancerne, siger en talskvinde for Finansministeriet og minister Robert Habeck til Frankfurter Allgemeine Zeitung.Tyskerne får 25 procent af deres energi fra gas, hvor en overvejende del er kommet fra Rusland.Gasprisen stiger med 10 procentDet er anden gang indenfor en uge, at Gazprom reducerer leverancen af gas under påskud af reperation af gasturbiner. Da Gazprom efter ti dages vedligehold i sidste uge genåbnede for gasforsyningen til Tyskland, var meldingen, at der dagligt ville blive leveret cirka 67 millioner kubikmeter.Gazproms seneste melding betyder altså, at leverancerne til Europa bliver omtrent halveret fra onsdag. Gasledningen kan, når den kører for fuld kraft, levere cirka 167 millioner kubikmeter gas om dagen.Nordstream 1-faciliter i Lubmin i Tyskland. (Arkiv) (Foto:\\xa0HANNIBAL HANSCHKE ©\\xa0Ritzau Scanpix)Den ledende europæiske gaspris er mandag aften steget med op til ti procent efter udmeldingen fra Gazprom. Det er fjerde dag i træk, at gasprisen stiger, skriver finansmediet Marketwire ifølge Rtizau.Nord Stream 1 transporterer normalt hvert år 55 milliarder kubikmeter gas fra Rusland til Tyskland under Østersøen. Det er nok til at forsyne cirka 26 millioner europæiske hjem.Den tyske formand for det føderale agentur for digitalisering, klimaneutralitet og modstandsdygtighed, Klaus Müller, bekræfter, at den nuværende levering halveres fra onsdag.Stormagter i Europa har anklaget Rusland for at bruge gas som et afpresningsmiddel over for Europa, fordi EU har indført sanktioner mod Rusland på grund af krigen i Ukraine. Ifølge Tyskland er der \"ingen tekniske grunde\" til den reducerede gasforsyning fra Nord Stream 1, som Gazprom ellers hævder.380.000 danske husstande benytter ifølge Energistyrelsen naturgas til opvarmning via gasfyr. Det svarer til ca. 800.000 danskere.Tyskerne vender sig tilbage mod kulTyskland er blandt de europæiske lande, der er mest afhængig af den russiske gas. Men også flere andre europæiske lande, for eksempel Italien, er storforbrugere af gas, der kommer til Europa via Nord Stream 1.Rusland er verdens største eksportør af naturgas. Europa importerer omkring 40 procent af sin gas fra Rusland gennem Tyskland, som sender den billige russiske gas videre til øvrige dele af Europa.Nord Stream 1 er en 1.224 kilometer lang gasrørledning, som løber fra Rusland til Tyskland under Østersøen. Den har været i brug siden 2011.Gaskrisen har fået Tyskland til desperat at lede efter alternativer til gas til landets vigtige industri men også til private husholdninger. For eksempel ved at skifte over til den allermest forurenende energikilde. Nemlig kul. DR Nyheders korrespondent i Tyskland har været i Leipzig for at møde en kulhandler, der har kronede dage:FAKTABOKS om Nord Stream 1•Nord Stream 1 er 1224 kilometer lang og består af to gasrørledninger, som løber under Østersøen.•De strækker sig fra Vyborg i Rusland til Lubmin i det nordøstlige Tyskland. Derfra transporteres gassen videre til øvrige dele af Europa.•Den har været i brug siden 2011 og har dermed i over et årti - indtil Ruslands krig mod Ukraine - været en pålidelig kilde til gas til Europa.•Den kan transportere 55 milliarder kubikmeter gas om året til Europa. Det er nok til at forsyne cirka 26 millioner europæiske hjem. Dermed er den særdeles vigtig for gasforsyningen til Europa.•Ruslands statsejede gasselskab Gazprom ejer 51 procent af Nord Stream 1. Tysklands EON og Wintershall Dea, hollandske Gasunie og Frankrigs Engie er også aktionærer.•Projektet er længe blevet set som en model for økonomisk samarbejde mellem Rusland og EU, hvor lande som Tyskland og Italien er blevet stærkt afhængige af den billige russiske gas.•Rusland er verdens største eksportør af naturgas. Europa importerer omkring 40 procent af sin gas fra Rusland.•Kilder: AFP og Reuters af /ritzau/'"
      ]
     },
     "execution_count": 26,
     "metadata": {},
     "output_type": "execute_result"
    }
   ],
   "source": [
    "''.join(body_text)"
   ]
  }
 ],
 "metadata": {
  "celltoolbar": "Slideshow",
  "kernelspec": {
   "display_name": "Python 3",
   "language": "python",
   "name": "python3"
  },
  "language_info": {
   "codemirror_mode": {
    "name": "ipython",
    "version": 3
   },
   "file_extension": ".py",
   "mimetype": "text/x-python",
   "name": "python",
   "nbconvert_exporter": "python",
   "pygments_lexer": "ipython3",
   "version": "3.9.4"
  },
  "latex_envs": {
   "bibliofile": "biblio.bib",
   "cite_by": "apalike",
   "current_citInitial": 1,
   "eqLabelWithNumbers": true,
   "eqNumInitial": 0
  },
  "toc": {
   "nav_menu": {
    "height": "328px",
    "width": "252px"
   },
   "navigate_menu": true,
   "number_sections": true,
   "sideBar": true,
   "threshold": 4,
   "toc_cell": false,
   "toc_section_display": "block",
   "toc_window_display": false
  }
 },
 "nbformat": 4,
 "nbformat_minor": 2
}
